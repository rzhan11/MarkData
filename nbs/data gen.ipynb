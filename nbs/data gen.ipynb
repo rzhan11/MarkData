{
 "cells": [
  {
   "cell_type": "markdown",
   "id": "d1c7c216",
   "metadata": {},
   "source": [
    "# Ideas\n",
    "\n",
    "- investigate:\n",
    "    - nbbo spread effect on customer size\n",
    "    - nbbo spread effect on price\n",
    "    - momentum\n",
    "    - mean reversion\n",
    "    - beta to esa, beta to other stocks\n",
    "    - pairs trading"
   ]
  },
  {
   "cell_type": "code",
   "execution_count": 1,
   "id": "4388a9da",
   "metadata": {
    "ExecuteTime": {
     "end_time": "2023-08-08T23:31:57.254595Z",
     "start_time": "2023-08-08T23:31:57.248137Z"
    }
   },
   "outputs": [
    {
     "data": {
      "text/html": [
       "<style>.container { width:80% !important; }</style>"
      ],
      "text/plain": [
       "<IPython.core.display.HTML object>"
      ]
     },
     "metadata": {},
     "output_type": "display_data"
    }
   ],
   "source": [
    "from IPython.display import display, HTML\n",
    "display(HTML(\"<style>.container { width:80% !important; }</style>\"))"
   ]
  },
  {
   "cell_type": "code",
   "execution_count": 2,
   "id": "498ef301",
   "metadata": {
    "ExecuteTime": {
     "end_time": "2023-08-08T23:31:58.724693Z",
     "start_time": "2023-08-08T23:31:57.522310Z"
    }
   },
   "outputs": [],
   "source": [
    "import numpy as np\n",
    "import pandas as pd\n",
    "\n",
    "import matplotlib.pyplot as plt"
   ]
  },
  {
   "cell_type": "markdown",
   "id": "e711692e",
   "metadata": {},
   "source": [
    "# Config"
   ]
  },
  {
   "cell_type": "code",
   "execution_count": 162,
   "id": "2b0b0a2a",
   "metadata": {
    "ExecuteTime": {
     "end_time": "2023-07-23T17:05:47.425747Z",
     "start_time": "2023-07-23T17:05:47.422423Z"
    }
   },
   "outputs": [],
   "source": [
    "_symbols = [\"AAPL\"]\n",
    "\n",
    "## time\n",
    "_start_hour = 9.5\n",
    "_end_hour = 16\n",
    "_time_precision = 1000\n",
    "\n",
    "## fair generation\n",
    "_initial_fair = 100\n",
    "_fair_stdev = 0.1\n",
    "\n",
    "_mean_revert_beta = 0.5\n",
    "\n",
    "## bbo generation\n",
    "_size_mean = 1000\n",
    "_size_stdev = 100\n",
    "\n",
    "_size_tick = 10\n",
    "_price_tick = 0.05"
   ]
  },
  {
   "cell_type": "code",
   "execution_count": 163,
   "id": "db35250d",
   "metadata": {
    "ExecuteTime": {
     "end_time": "2023-07-23T17:05:47.610511Z",
     "start_time": "2023-07-23T17:05:47.601041Z"
    }
   },
   "outputs": [],
   "source": [
    "# create times\n",
    "times = []\n",
    "for ms_time in np.arange(_start_hour * 3600 * _time_precision, _end_hour * 3600 * _time_precision, _time_precision):\n",
    "    times += [int(ms_time)]\n"
   ]
  },
  {
   "cell_type": "code",
   "execution_count": null,
   "id": "2089529c",
   "metadata": {
    "ExecuteTime": {
     "end_time": "2023-07-22T06:54:42.847735Z",
     "start_time": "2023-07-22T06:54:42.843895Z"
    }
   },
   "outputs": [],
   "source": []
  },
  {
   "cell_type": "code",
   "execution_count": 176,
   "id": "5ebfe33b",
   "metadata": {
    "ExecuteTime": {
     "end_time": "2023-07-23T17:06:39.382537Z",
     "start_time": "2023-07-23T17:06:39.360247Z"
    }
   },
   "outputs": [],
   "source": [
    "symbol = _symbols[0]\n",
    "\n",
    "# create time series data\n",
    "np.random.seed(0)\n",
    "fairs = []\n",
    "\n",
    "fair_chgs = np.random.normal(loc=0, scale=_fair_stdev, size=len(times))\n",
    "mean_rev_term = -1 * _mean_revert_beta * pd.Series(fair_chgs).shift().fillna(0)\n",
    "mean_rev_term = mean_rev_term.cumsum()\n",
    "\n",
    "# give it a mean-reverting term\n",
    "fairs = _initial_fair + np.cumsum(fair_chgs) + mean_rev_term\n",
    "\n",
    "\n",
    "\n",
    "\n",
    "# create dataframe\n",
    "df_bbo = pd.DataFrame({\"ms_time\": times, \"fair\": fairs})\n",
    "\n",
    "sizes = np.random.normal(loc=_size_mean, scale=_size_stdev, size=len(times))\n",
    "\n",
    "# create bbo data, size weighted\n",
    "df_bbo[\"symbol\"] = symbol\n",
    "\n",
    "df_bbo[\"bid\"] = df_bbo[\"fair\"] // _price_tick * _price_tick\n",
    "df_bbo[\"ask\"] = df_bbo[\"bid\"] + _price_tick\n",
    "\n",
    "df_bbo[\"bidsz\"] = sizes * (df_bbo[\"fair\"] - df_bbo[\"bid\"]) / _price_tick\n",
    "df_bbo[\"asksz\"] = sizes - df_bbo[\"bidsz\"]\n",
    "\n",
    "clean_fn = lambda x : np.maximum(_size_tick, x // _size_tick * _size_tick).astype(int)\n",
    "df_bbo[\"bidsz\"] = clean_fn(df_bbo[\"bidsz\"])\n",
    "df_bbo[\"asksz\"] = clean_fn(df_bbo[\"asksz\"])\n",
    "\n"
   ]
  },
  {
   "cell_type": "code",
   "execution_count": 181,
   "id": "cebbc3e1",
   "metadata": {
    "ExecuteTime": {
     "end_time": "2023-07-23T17:06:56.485286Z",
     "start_time": "2023-07-23T17:06:56.475538Z"
    }
   },
   "outputs": [],
   "source": [
    "# mid calculations\n",
    "df_bbo[\"mid\"] = df_bbo.eval(\"(bid + ask) / 2\")\n",
    "df_bbo[\"smid\"] = df_bbo.eval(\"(bid * asksz + ask * bidsz) / (bidsz + asksz)\")\n"
   ]
  },
  {
   "cell_type": "code",
   "execution_count": 186,
   "id": "fc09a372",
   "metadata": {
    "ExecuteTime": {
     "end_time": "2023-07-23T17:07:18.094265Z",
     "start_time": "2023-07-23T17:07:18.089757Z"
    }
   },
   "outputs": [],
   "source": [
    "## check against mark times\n",
    "df_mark = df_bbo.copy()"
   ]
  },
  {
   "cell_type": "code",
   "execution_count": 187,
   "id": "db4b6791",
   "metadata": {
    "ExecuteTime": {
     "end_time": "2023-07-23T17:07:18.421609Z",
     "start_time": "2023-07-23T17:07:18.406195Z"
    }
   },
   "outputs": [],
   "source": [
    "mark_times = [0, 1, 2, 3, 5, 10, 30, 60, 120, 300, 600]\n",
    "for mark_time in mark_times:\n",
    "    for shift_col in [\"mid\", \"smid\"]:\n",
    "        df_mark[f\"{shift_col}_{mark_time}s\"] = df_mark[shift_col].shift(-1 * mark_time)\n"
   ]
  },
  {
   "cell_type": "code",
   "execution_count": 188,
   "id": "5c9045b3",
   "metadata": {
    "ExecuteTime": {
     "end_time": "2023-07-23T17:07:18.680740Z",
     "start_time": "2023-07-23T17:07:18.660035Z"
    }
   },
   "outputs": [],
   "source": [
    "df_mark = df_mark.dropna()"
   ]
  },
  {
   "cell_type": "code",
   "execution_count": null,
   "id": "3eb01c7a",
   "metadata": {},
   "outputs": [],
   "source": []
  },
  {
   "cell_type": "code",
   "execution_count": null,
   "id": "7f761697",
   "metadata": {},
   "outputs": [],
   "source": []
  },
  {
   "cell_type": "code",
   "execution_count": 290,
   "id": "b4dc3f9a",
   "metadata": {
    "ExecuteTime": {
     "end_time": "2023-07-23T22:32:15.736308Z",
     "start_time": "2023-07-23T22:32:15.724983Z"
    }
   },
   "outputs": [],
   "source": [
    "all_data = []\n",
    "\n",
    "df_test = df_mark[[\"ms_time\", \"symbol\", \"smid\"]].rename(columns={\"smid\": \"trade_price\"}).copy()\n",
    "df_test[\"my_fair\"] = df_mark[\"fair\"].shift(1).fillna(100)\n",
    "df_test[\"trade_dir\"] = np.sign(df_test[\"my_fair\"] - df_test[\"trade_price\"])\n",
    "df_test[\"trade_size\"] = 1\n",
    "\n",
    "## params\n",
    "def backtest_trades(\n",
    "    df_trade, \n",
    "    df_mark, \n",
    "    mark_times, \n",
    "    trade_at_mid=False,\n",
    "    use_smid=True,\n",
    "    ):\n",
    "    \n",
    "    \"\"\"\n",
    "    backtest_trades \n",
    "    - Takes DF of trades and DF of marks\n",
    "    - Returns new copy of trade DF, containing `pnl_{mark_time}s` columns\n",
    "    - Can set `trade_at_mid=True` to test generalized events at mark prices\n",
    "    \n",
    "    Params:\n",
    "    df_trade - Dataframe with following columns:\n",
    "        - symbol - str\n",
    "        - ms_time - int\n",
    "        - trade_dir - int (1 = Buy, -1 = Sell, 0 = No action)\n",
    "        - trade_size - int\n",
    "        - trade_price - float\n",
    "    df_mark - DataFrame with following columns:\n",
    "        - symbol - str\n",
    "        - ms_time - int\n",
    "        - smid_{mark_time}s - float\n",
    "        - mid_{mark_time}s - float\n",
    "    mark_times - List of mark times to test (in seconds)\n",
    "    trade_at_mid - bool (default: False) - set True to use mid/smid price as trade price instead of df_trade[\"trade_price\"]\n",
    "    use_smid - bool (default: True) - set True to use smid instead of mid\n",
    "    \"\"\"\n",
    "    \n",
    "    df_trade = df_trade.copy()\n",
    "    \n",
    "    if use_smid:\n",
    "        mark_cols = [f\"smid_{mark_time}s\" for mark_time in mark_times]\n",
    "    else:\n",
    "        mark_cols = [f\"mid_{mark_time}s\" for mark_time in mark_times]\n",
    "    \n",
    "    mark_cols = list(set(mark_cols + [\"mid_0s\"]))\n",
    "        \n",
    "    # merge marks into dataframe\n",
    "    df_mark = df_trade[[\"ms_time\", \"symbol\"]].merge(\n",
    "        df_mark[[\"ms_time\", \"symbol\", *mark_cols]], \n",
    "        on=[\"ms_time\", \"symbol\"],\n",
    "        how=\"left\",\n",
    "    )\n",
    "    \n",
    "    \n",
    "    # mark to smid\n",
    "    for mark_time, mark_col in zip(mark_times, mark_cols):\n",
    "        trade_price = df_trade[\"trade_price\"] if trade_at_mid else df_mark[\"mid_0s\"]\n",
    "            \n",
    "        df_trade[f\"pnl_{mark_time}s\"] = (df_mark[mark_col] - df_trade[\"trade_price\"]) * df_trade[\"trade_size\"] * df_trade[\"trade_dir\"]\n",
    "\n",
    "\n",
    "    \n",
    "    return df_trade\n"
   ]
  },
  {
   "cell_type": "code",
   "execution_count": 305,
   "id": "1bc95181",
   "metadata": {
    "ExecuteTime": {
     "end_time": "2023-07-24T02:03:02.428504Z",
     "start_time": "2023-07-24T02:03:02.398239Z"
    }
   },
   "outputs": [],
   "source": [
    "df_res1 = backtest_trades(\n",
    "    df_test, \n",
    "    df_mark, \n",
    "    mark_times=mark_times,\n",
    "    trade_at_mid=True,\n",
    "    use_smid=True,\n",
    ")\n",
    "\n"
   ]
  },
  {
   "cell_type": "code",
   "execution_count": 306,
   "id": "ea1b8e71",
   "metadata": {
    "ExecuteTime": {
     "end_time": "2023-07-24T02:03:02.611967Z",
     "start_time": "2023-07-24T02:03:02.579640Z"
    }
   },
   "outputs": [],
   "source": [
    "df_res2 = backtest_trades(\n",
    "    df_test, \n",
    "    df_mark, \n",
    "    mark_times=mark_times,\n",
    "    trade_at_mid=False,\n",
    "    use_smid=True,\n",
    ")\n",
    "\n"
   ]
  },
  {
   "cell_type": "code",
   "execution_count": 308,
   "id": "fafa7b92",
   "metadata": {
    "ExecuteTime": {
     "end_time": "2023-07-24T02:03:08.717521Z",
     "start_time": "2023-07-24T02:03:08.243941Z"
    }
   },
   "outputs": [
    {
     "data": {
      "text/plain": [
       "<matplotlib.legend.Legend at 0x121c4a040>"
      ]
     },
     "execution_count": 308,
     "metadata": {},
     "output_type": "execute_result"
    },
    {
     "data": {
      "image/png": "[encoded data removed]",
      "text/plain": [
       "<Figure size 1000x500 with 1 Axes>"
      ]
     },
     "metadata": {},
     "output_type": "display_data"
    }
   ],
   "source": [
    "plt.figure(figsize=(10, 5))\n",
    "# for mark_time in mark_times:\n",
    "for mark_time in mark_times:\n",
    "    plt.plot(df_res1[\"ms_time\"], df_res1[f\"pnl_{mark_time}s\"].cumsum(), label=str(mark_time))\n",
    "\n",
    "plt.legend()"
   ]
  },
  {
   "cell_type": "code",
   "execution_count": null,
   "id": "1e6ebe4e",
   "metadata": {},
   "outputs": [],
   "source": [
    "# create a way to test a strategy"
   ]
  },
  {
   "cell_type": "code",
   "execution_count": null,
   "id": "a5338a74",
   "metadata": {},
   "outputs": [],
   "source": []
  },
  {
   "cell_type": "code",
   "execution_count": null,
   "id": "b190359f",
   "metadata": {},
   "outputs": [],
   "source": []
  },
  {
   "cell_type": "code",
   "execution_count": null,
   "id": "1ca2b79e",
   "metadata": {},
   "outputs": [],
   "source": []
  },
  {
   "cell_type": "code",
   "execution_count": null,
   "id": "ccb2106b",
   "metadata": {},
   "outputs": [],
   "source": []
  }
 ],
 "metadata": {
  "kernelspec": {
   "display_name": "Python 3 (ipykernel)",
   "language": "python",
   "name": "python3"
  },
  "language_info": {
   "codemirror_mode": {
    "name": "ipython",
    "version": 3
   },
   "file_extension": ".py",
   "mimetype": "text/x-python",
   "name": "python",
   "nbconvert_exporter": "python",
   "pygments_lexer": "ipython3",
   "version": "3.10.9"
  },
  "toc": {
   "base_numbering": 1,
   "nav_menu": {},
   "number_sections": true,
   "sideBar": true,
   "skip_h1_title": false,
   "title_cell": "Table of Contents",
   "title_sidebar": "Contents",
   "toc_cell": false,
   "toc_position": {
    "height": "calc(100% - 180px)",
    "left": "10px",
    "top": "150px",
    "width": "297.391px"
   },
   "toc_section_display": true,
   "toc_window_display": true
  },
  "varInspector": {
   "cols": {
    "lenName": 16,
    "lenType": 16,
    "lenVar": 40
   },
   "kernels_config": {
    "python": {
     "delete_cmd_postfix": "",
     "delete_cmd_prefix": "del ",
     "library": "var_list.py",
     "varRefreshCmd": "print(var_dic_list())"
    },
    "r": {
     "delete_cmd_postfix": ") ",
     "delete_cmd_prefix": "rm(",
     "library": "var_list.r",
     "varRefreshCmd": "cat(var_dic_list()) "
    }
   },
   "types_to_exclude": [
    "module",
    "function",
    "builtin_function_or_method",
    "instance",
    "_Feature"
   ],
   "window_display": false
  }
 },
 "nbformat": 4,
 "nbformat_minor": 5
}
