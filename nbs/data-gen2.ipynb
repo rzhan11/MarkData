{
 "cells": [
  {
   "cell_type": "markdown",
   "id": "d1c7c216",
   "metadata": {},
   "source": [
    "# Ideas\n",
    "\n",
    "- investigate:\n",
    "    - nbbo spread effect on customer size\n",
    "    - nbbo spread effect on price\n",
    "    - momentum\n",
    "    - mean reversion\n",
    "    - beta to esa, beta to other stocks\n",
    "    - pairs trading"
   ]
  },
  {
   "cell_type": "code",
   "execution_count": 1,
   "id": "4388a9da",
   "metadata": {
    "ExecuteTime": {
     "end_time": "2023-08-09T00:22:07.589871Z",
     "start_time": "2023-08-09T00:22:07.584840Z"
    }
   },
   "outputs": [
    {
     "data": {
      "text/html": [
       "<style>.container { width:80% !important; }</style>"
      ],
      "text/plain": [
       "<IPython.core.display.HTML object>"
      ]
     },
     "metadata": {},
     "output_type": "display_data"
    }
   ],
   "source": [
    "from IPython.display import display, HTML\n",
    "display(HTML(\"<style>.container { width:80% !important; }</style>\"))"
   ]
  },
  {
   "cell_type": "code",
   "execution_count": 169,
   "id": "498ef301",
   "metadata": {
    "ExecuteTime": {
     "end_time": "2023-08-09T00:54:09.268919Z",
     "start_time": "2023-08-09T00:54:09.265955Z"
    }
   },
   "outputs": [],
   "source": [
    "import numpy as np\n",
    "import pandas as pd\n",
    "\n",
    "import matplotlib.pyplot as plt\n",
    "\n",
    "from sklearn.linear_model import LinearRegression\n",
    "from sklearn.metrics import r2_score\n",
    "\n",
    "# get statsmodels\n",
    "import statsmodels.api as sm"
   ]
  },
  {
   "cell_type": "markdown",
   "id": "e711692e",
   "metadata": {},
   "source": [
    "# Config"
   ]
  },
  {
   "cell_type": "code",
   "execution_count": 80,
   "id": "2b0b0a2a",
   "metadata": {
    "ExecuteTime": {
     "end_time": "2023-08-09T00:35:52.738368Z",
     "start_time": "2023-08-09T00:35:52.735519Z"
    }
   },
   "outputs": [],
   "source": [
    "_symbols = [\"QQQ\"]\n",
    "\n",
    "## time\n",
    "_num_ticks = 100000\n",
    "\n",
    "## bbo generation\n",
    "_bbo_size = 1000\n",
    "\n",
    "_size_tick = 10\n",
    "_price_tick = 0.01"
   ]
  },
  {
   "cell_type": "code",
   "execution_count": 81,
   "id": "a24ea36b",
   "metadata": {
    "ExecuteTime": {
     "end_time": "2023-08-09T00:35:52.905471Z",
     "start_time": "2023-08-09T00:35:52.902422Z"
    }
   },
   "outputs": [],
   "source": [
    "np.random.seed(0)"
   ]
  },
  {
   "cell_type": "code",
   "execution_count": 82,
   "id": "f612a619",
   "metadata": {
    "ExecuteTime": {
     "end_time": "2023-08-09T00:35:53.063895Z",
     "start_time": "2023-08-09T00:35:53.058657Z"
    }
   },
   "outputs": [],
   "source": [
    "def create_bbo(prices, fairs, symbol):\n",
    "    # create dataframe\n",
    "    df_bbo = pd.DataFrame({\"tick\": np.arange(_num_ticks), \"price\": prices, \"fair\": fairs})\n",
    "\n",
    "    # create bbo data, size weighted\n",
    "    df_bbo[\"symbol\"] = symbol\n",
    "\n",
    "    df_bbo[\"bid\"] = round((df_bbo[\"price\"] - _price_tick) / _price_tick) * _price_tick\n",
    "    df_bbo[\"ask\"] = round((df_bbo[\"price\"] + _price_tick) / _price_tick) * _price_tick\n",
    "\n",
    "    df_bbo[\"bidsz\"] = _bbo_size * (df_bbo[\"price\"] - df_bbo[\"bid\"]) / _price_tick\n",
    "    df_bbo[\"asksz\"] = _bbo_size - df_bbo[\"bidsz\"]\n",
    "\n",
    "    clean_fn = lambda x : np.maximum(_size_tick, x // _size_tick * _size_tick).astype(int)\n",
    "    df_bbo[\"bidsz\"] = clean_fn(df_bbo[\"bidsz\"])\n",
    "    df_bbo[\"asksz\"] = clean_fn(df_bbo[\"asksz\"])\n",
    "    \n",
    "    # mid calculations\n",
    "    df_bbo[\"mid\"] = df_bbo.eval(\"(bid + ask) / 2\")\n",
    "    df_bbo[\"smid\"] = df_bbo.eval(\"(bid * asksz + ask * bidsz) / (bidsz + asksz)\")\n",
    "\n",
    "    \n",
    "    return df_bbo"
   ]
  },
  {
   "cell_type": "code",
   "execution_count": 83,
   "id": "5ebfe33b",
   "metadata": {
    "ExecuteTime": {
     "end_time": "2023-08-09T00:35:53.200392Z",
     "start_time": "2023-08-09T00:35:53.197021Z"
    }
   },
   "outputs": [],
   "source": [
    "## Create QQQs\n",
    "# create time series data\n",
    "\n",
    "def create_liquid_bbo(symbol, initial_price, fair_stdev):\n",
    "    fair_chgs = np.random.normal(loc=0, scale=fair_stdev, size=_num_ticks)\n",
    "    fairs = initial_price * np.exp(np.cumsum(fair_chgs))\n",
    "\n",
    "    df_bbo = create_bbo(\n",
    "        prices=fairs,\n",
    "        fairs=fairs,\n",
    "        symbol=symbol,\n",
    "    )\n",
    "    \n",
    "    return df_bbo"
   ]
  },
  {
   "cell_type": "code",
   "execution_count": 84,
   "id": "402379f0",
   "metadata": {
    "ExecuteTime": {
     "end_time": "2023-08-09T00:35:53.400681Z",
     "start_time": "2023-08-09T00:35:53.338814Z"
    }
   },
   "outputs": [],
   "source": [
    "# create index\n",
    "df_index = create_liquid_bbo(\n",
    "    symbol=\"QQQ\",\n",
    "    initial_price=100,\n",
    "    fair_stdev=1e-4,\n",
    ")"
   ]
  },
  {
   "cell_type": "code",
   "execution_count": 339,
   "id": "58c99134",
   "metadata": {
    "ExecuteTime": {
     "end_time": "2023-08-09T01:38:45.467033Z",
     "start_time": "2023-08-09T01:38:45.461882Z"
    }
   },
   "outputs": [],
   "source": [
    "# create new bbos\n",
    "# symbol = \"Tech1\"\n",
    "# sym_beta = 2.5\n",
    "# sym_initial_price = 1000\n",
    "# sym_self_stdev = 1e-4\n",
    "# sym_converge_rate = 0.02\n",
    "\n",
    "def create_stock_bbo(symbol, df_index, beta, initial_price, fair_stdev, converge_rate):\n",
    "\n",
    "    fair_chgs_self = np.random.normal(loc=0, scale=fair_stdev, size=_num_ticks)\n",
    "    fairs_self = initial_price * np.exp(np.cumsum(fair_chgs_self))\n",
    "    \n",
    "    index_fair_chgs = np.log(df_index[\"fair\"] / df_index[\"fair\"].shift()).fillna(0)\n",
    "    \n",
    "    # compute fair from self-moves + index-moves\n",
    "    fairs = fairs_self * np.exp(beta * np.cumsum(index_fair_chgs))\n",
    "\n",
    "    # actual prices\n",
    "    cur_price = initial_price\n",
    "    prices = [cur_price]\n",
    "\n",
    "    for tick in range(1, _num_ticks):\n",
    "        # adjust to true fair\n",
    "        cur_price = cur_price + (fairs[tick] - cur_price) * converge_rate\n",
    "        prices += [cur_price]\n",
    "\n",
    "    prices = np.array(prices)\n",
    "\n",
    "    df_bbo = create_bbo(\n",
    "        prices=prices,\n",
    "        fairs=fairs,\n",
    "        symbol=symbol,\n",
    "    )\n",
    "    \n",
    "    return df_bbo"
   ]
  },
  {
   "cell_type": "code",
   "execution_count": 340,
   "id": "9c2ab583",
   "metadata": {
    "ExecuteTime": {
     "end_time": "2023-08-09T01:38:46.125624Z",
     "start_time": "2023-08-09T01:38:45.853608Z"
    }
   },
   "outputs": [],
   "source": [
    "df_bbo_sym = create_stock_bbo(\n",
    "    symbol=\"Tech1\",\n",
    "    df_index=df_index,\n",
    "    beta=2.5,\n",
    "    initial_price=1000,\n",
    "    fair_stdev=1e-4,\n",
    "    converge_rate=0.02,\n",
    ")"
   ]
  },
  {
   "cell_type": "code",
   "execution_count": 345,
   "id": "6de207b6",
   "metadata": {
    "ExecuteTime": {
     "end_time": "2023-08-09T01:39:22.182856Z",
     "start_time": "2023-08-09T01:39:21.807871Z"
    }
   },
   "outputs": [
    {
     "data": {
      "image/png": "[encoded data removed]",
      "text/plain": [
       "<Figure size 640x480 with 1 Axes>"
      ]
     },
     "metadata": {},
     "output_type": "display_data"
    },
    {
     "data": {
      "text/plain": [
       "[<matplotlib.lines.Line2D at 0x133aa9de0>]"
      ]
     },
     "execution_count": 345,
     "metadata": {},
     "output_type": "execute_result"
    },
    {
     "data": {
      "image/png": "[encoded data removed]",
      "text/plain": [
       "<Figure size 640x480 with 1 Axes>"
      ]
     },
     "metadata": {},
     "output_type": "display_data"
    }
   ],
   "source": [
    "plt.plot(df_bbo_sym[\"fair\"])\n",
    "plt.plot(df_bbo_sym[\"price\"])\n",
    "plt.show()\n",
    "plt.plot(df_index[\"fair\"])"
   ]
  },
  {
   "cell_type": "code",
   "execution_count": 341,
   "id": "c0dcca2d",
   "metadata": {
    "ExecuteTime": {
     "end_time": "2023-08-09T01:38:47.505670Z",
     "start_time": "2023-08-09T01:38:47.473479Z"
    }
   },
   "outputs": [
    {
     "data": {
      "text/html": [
       "<div>\n",
       "<style scoped>\n",
       "    .dataframe tbody tr th:only-of-type {\n",
       "        vertical-align: middle;\n",
       "    }\n",
       "\n",
       "    .dataframe tbody tr th {\n",
       "        vertical-align: top;\n",
       "    }\n",
       "\n",
       "    .dataframe thead th {\n",
       "        text-align: right;\n",
       "    }\n",
       "</style>\n",
       "<table border=\"1\" class=\"dataframe\">\n",
       "  <thead>\n",
       "    <tr style=\"text-align: right;\">\n",
       "      <th></th>\n",
       "      <th>tick</th>\n",
       "      <th>price</th>\n",
       "      <th>fair</th>\n",
       "      <th>symbol</th>\n",
       "      <th>bid</th>\n",
       "      <th>ask</th>\n",
       "      <th>bidsz</th>\n",
       "      <th>asksz</th>\n",
       "      <th>mid</th>\n",
       "      <th>smid</th>\n",
       "    </tr>\n",
       "  </thead>\n",
       "  <tbody>\n",
       "    <tr>\n",
       "      <th>0</th>\n",
       "      <td>0</td>\n",
       "      <td>1000.000000</td>\n",
       "      <td>1000.148642</td>\n",
       "      <td>Tech1</td>\n",
       "      <td>999.99</td>\n",
       "      <td>1000.01</td>\n",
       "      <td>990</td>\n",
       "      <td>10</td>\n",
       "      <td>1000.00</td>\n",
       "      <td>1000.009800</td>\n",
       "    </tr>\n",
       "    <tr>\n",
       "      <th>1</th>\n",
       "      <td>1</td>\n",
       "      <td>1000.004028</td>\n",
       "      <td>1000.201415</td>\n",
       "      <td>Tech1</td>\n",
       "      <td>999.99</td>\n",
       "      <td>1000.01</td>\n",
       "      <td>1400</td>\n",
       "      <td>10</td>\n",
       "      <td>1000.00</td>\n",
       "      <td>1000.009858</td>\n",
       "    </tr>\n",
       "    <tr>\n",
       "      <th>2</th>\n",
       "      <td>2</td>\n",
       "      <td>1000.015707</td>\n",
       "      <td>1000.587986</td>\n",
       "      <td>Tech1</td>\n",
       "      <td>1000.01</td>\n",
       "      <td>1000.03</td>\n",
       "      <td>570</td>\n",
       "      <td>420</td>\n",
       "      <td>1000.02</td>\n",
       "      <td>1000.021515</td>\n",
       "    </tr>\n",
       "    <tr>\n",
       "      <th>3</th>\n",
       "      <td>3</td>\n",
       "      <td>1000.040139</td>\n",
       "      <td>1001.237301</td>\n",
       "      <td>Tech1</td>\n",
       "      <td>1000.03</td>\n",
       "      <td>1000.05</td>\n",
       "      <td>1010</td>\n",
       "      <td>10</td>\n",
       "      <td>1000.04</td>\n",
       "      <td>1000.049804</td>\n",
       "    </tr>\n",
       "    <tr>\n",
       "      <th>4</th>\n",
       "      <td>4</td>\n",
       "      <td>1000.073521</td>\n",
       "      <td>1001.709219</td>\n",
       "      <td>Tech1</td>\n",
       "      <td>1000.06</td>\n",
       "      <td>1000.08</td>\n",
       "      <td>1350</td>\n",
       "      <td>10</td>\n",
       "      <td>1000.07</td>\n",
       "      <td>1000.079853</td>\n",
       "    </tr>\n",
       "    <tr>\n",
       "      <th>...</th>\n",
       "      <td>...</td>\n",
       "      <td>...</td>\n",
       "      <td>...</td>\n",
       "      <td>...</td>\n",
       "      <td>...</td>\n",
       "      <td>...</td>\n",
       "      <td>...</td>\n",
       "      <td>...</td>\n",
       "      <td>...</td>\n",
       "      <td>...</td>\n",
       "    </tr>\n",
       "    <tr>\n",
       "      <th>99995</th>\n",
       "      <td>99995</td>\n",
       "      <td>1072.705593</td>\n",
       "      <td>1072.614792</td>\n",
       "      <td>Tech1</td>\n",
       "      <td>1072.70</td>\n",
       "      <td>1072.72</td>\n",
       "      <td>550</td>\n",
       "      <td>440</td>\n",
       "      <td>1072.71</td>\n",
       "      <td>1072.711111</td>\n",
       "    </tr>\n",
       "    <tr>\n",
       "      <th>99996</th>\n",
       "      <td>99996</td>\n",
       "      <td>1072.694602</td>\n",
       "      <td>1072.156063</td>\n",
       "      <td>Tech1</td>\n",
       "      <td>1072.68</td>\n",
       "      <td>1072.70</td>\n",
       "      <td>1460</td>\n",
       "      <td>10</td>\n",
       "      <td>1072.69</td>\n",
       "      <td>1072.699864</td>\n",
       "    </tr>\n",
       "    <tr>\n",
       "      <th>99997</th>\n",
       "      <td>99997</td>\n",
       "      <td>1072.688911</td>\n",
       "      <td>1072.410048</td>\n",
       "      <td>Tech1</td>\n",
       "      <td>1072.68</td>\n",
       "      <td>1072.70</td>\n",
       "      <td>890</td>\n",
       "      <td>100</td>\n",
       "      <td>1072.69</td>\n",
       "      <td>1072.697980</td>\n",
       "    </tr>\n",
       "    <tr>\n",
       "      <th>99998</th>\n",
       "      <td>99998</td>\n",
       "      <td>1072.680558</td>\n",
       "      <td>1072.271280</td>\n",
       "      <td>Tech1</td>\n",
       "      <td>1072.67</td>\n",
       "      <td>1072.69</td>\n",
       "      <td>1050</td>\n",
       "      <td>10</td>\n",
       "      <td>1072.68</td>\n",
       "      <td>1072.689811</td>\n",
       "    </tr>\n",
       "    <tr>\n",
       "      <th>99999</th>\n",
       "      <td>99999</td>\n",
       "      <td>1072.664782</td>\n",
       "      <td>1071.891759</td>\n",
       "      <td>Tech1</td>\n",
       "      <td>1072.65</td>\n",
       "      <td>1072.67</td>\n",
       "      <td>1470</td>\n",
       "      <td>10</td>\n",
       "      <td>1072.66</td>\n",
       "      <td>1072.669865</td>\n",
       "    </tr>\n",
       "  </tbody>\n",
       "</table>\n",
       "<p>100000 rows × 10 columns</p>\n",
       "</div>"
      ],
      "text/plain": [
       "        tick        price         fair symbol      bid      ask  bidsz  asksz  \\\n",
       "0          0  1000.000000  1000.148642  Tech1   999.99  1000.01    990     10   \n",
       "1          1  1000.004028  1000.201415  Tech1   999.99  1000.01   1400     10   \n",
       "2          2  1000.015707  1000.587986  Tech1  1000.01  1000.03    570    420   \n",
       "3          3  1000.040139  1001.237301  Tech1  1000.03  1000.05   1010     10   \n",
       "4          4  1000.073521  1001.709219  Tech1  1000.06  1000.08   1350     10   \n",
       "...      ...          ...          ...    ...      ...      ...    ...    ...   \n",
       "99995  99995  1072.705593  1072.614792  Tech1  1072.70  1072.72    550    440   \n",
       "99996  99996  1072.694602  1072.156063  Tech1  1072.68  1072.70   1460     10   \n",
       "99997  99997  1072.688911  1072.410048  Tech1  1072.68  1072.70    890    100   \n",
       "99998  99998  1072.680558  1072.271280  Tech1  1072.67  1072.69   1050     10   \n",
       "99999  99999  1072.664782  1071.891759  Tech1  1072.65  1072.67   1470     10   \n",
       "\n",
       "           mid         smid  \n",
       "0      1000.00  1000.009800  \n",
       "1      1000.00  1000.009858  \n",
       "2      1000.02  1000.021515  \n",
       "3      1000.04  1000.049804  \n",
       "4      1000.07  1000.079853  \n",
       "...        ...          ...  \n",
       "99995  1072.71  1072.711111  \n",
       "99996  1072.69  1072.699864  \n",
       "99997  1072.69  1072.697980  \n",
       "99998  1072.68  1072.689811  \n",
       "99999  1072.66  1072.669865  \n",
       "\n",
       "[100000 rows x 10 columns]"
      ]
     },
     "execution_count": 341,
     "metadata": {},
     "output_type": "execute_result"
    }
   ],
   "source": [
    "df_bbo_sym"
   ]
  },
  {
   "cell_type": "code",
   "execution_count": 376,
   "id": "7199677f",
   "metadata": {
    "ExecuteTime": {
     "end_time": "2023-08-09T01:41:19.215366Z",
     "start_time": "2023-08-09T01:41:19.208342Z"
    }
   },
   "outputs": [],
   "source": [
    "# get true betas\n",
    "stock_chgs = np.log(df_bbo_sym[\"fair\"].shift(-1) / df_bbo_sym[\"fair\"]).fillna(0)\n",
    "index_chgs = np.log(df_index[\"fair\"].shift(-1) / df_index[\"fair\"]).fillna(0)\n"
   ]
  },
  {
   "cell_type": "code",
   "execution_count": 382,
   "id": "13279136",
   "metadata": {
    "ExecuteTime": {
     "end_time": "2023-08-09T01:42:59.152287Z",
     "start_time": "2023-08-09T01:42:59.143386Z"
    }
   },
   "outputs": [
    {
     "name": "stdout",
     "output_type": "stream",
     "text": [
      "beta 2.499906473389959\n",
      "r2 0.8617643983030872\n"
     ]
    }
   ],
   "source": [
    "X = index_chgs.to_numpy().reshape(len(index_chgs), 1)\n",
    "y = np.array(stock_chgs)\n",
    "\n",
    "\n",
    "model = LinearRegression(fit_intercept=False).fit(X, y)\n",
    "beta = model.coef_[0]\n",
    "r2 = model.score(X, y)\n",
    "\n",
    "print(\"beta\", beta)\n",
    "print(\"r2\", r2)\n"
   ]
  },
  {
   "cell_type": "code",
   "execution_count": null,
   "id": "0bd36b25",
   "metadata": {},
   "outputs": [],
   "source": []
  },
  {
   "cell_type": "code",
   "execution_count": 416,
   "id": "a93c0902",
   "metadata": {
    "ExecuteTime": {
     "end_time": "2023-08-09T01:52:00.202796Z",
     "start_time": "2023-08-09T01:52:00.199009Z"
    }
   },
   "outputs": [],
   "source": []
  },
  {
   "cell_type": "code",
   "execution_count": 560,
   "id": "6bf3a4be",
   "metadata": {
    "ExecuteTime": {
     "end_time": "2023-08-09T02:20:28.236326Z",
     "start_time": "2023-08-09T02:20:28.231048Z"
    }
   },
   "outputs": [],
   "source": [
    "\"\"\" HELPERS \"\"\"\n",
    "def create_windows(rng):\n",
    "    rng = sorted(set(list(rng) + [0]))\n",
    "    return [(rng[i], rng[i + 1]) for i in range(len(rng) - 1)]\n",
    "\n",
    "def get_rtn_col(window):\n",
    "    return f\"rtn_{window[0]}_{window[1]}s\"\n",
    "\n",
    "def get_rtn_cols(windows):\n",
    "    return [get_rtn_col(win) for win in windows]\n",
    "\n",
    "\n",
    "\n",
    "\n",
    "\n",
    "def compute_marks(df_bbo, windows, mid_col):\n",
    "    # init new df\n",
    "    df_mark = df_bbo[[\"tick\", \"symbol\", \"mid\", \"smid\"]].copy()\n",
    "\n",
    "    # add marks for all mark_times\n",
    "    for int_lb, int_ub in windows:\n",
    "        ser1 = df_mark[mid_col].shift(-1 * int_lb)\n",
    "        ser2 = df_mark[mid_col].shift(-1 * int_ub)\n",
    "        df_mark[get_rtn_col((int_lb, int_ub))] = np.log(ser2 / ser1)\n",
    "\n",
    "    df_mark = df_mark.dropna()\n",
    "    return df_mark\n",
    "\n"
   ]
  },
  {
   "cell_type": "code",
   "execution_count": 490,
   "id": "ed9fe08a",
   "metadata": {
    "ExecuteTime": {
     "end_time": "2023-08-09T02:07:24.567775Z",
     "start_time": "2023-08-09T02:07:24.564264Z"
    }
   },
   "outputs": [],
   "source": []
  },
  {
   "cell_type": "code",
   "execution_count": 613,
   "id": "6cd68d1a",
   "metadata": {
    "ExecuteTime": {
     "end_time": "2023-08-09T02:38:46.336712Z",
     "start_time": "2023-08-09T02:38:46.128576Z"
    }
   },
   "outputs": [],
   "source": [
    "pred_windows = [(-5, 0)]\n",
    "\n",
    "resp_windows = create_windows(np.arange(0, 120 + 1, 5))\n",
    "# create_windows(-1 * np.geomspace(1, 1200, 50).round().astype(int))\n",
    "\n",
    "\n",
    "df_mark1 = compute_marks(\n",
    "    df_bbo=df_index, \n",
    "    windows=pred_windows, \n",
    "    mid_col=\"mid\",\n",
    ")\n",
    "\n",
    "df_mark2 = compute_marks(\n",
    "    df_bbo=df_bbo_sym, \n",
    "    windows=resp_windows, \n",
    "    mid_col=\"mid\",\n",
    ")\n",
    "\n",
    "df_mark1 = df_mark1.add_suffix(\"_pred\")\n"
   ]
  },
  {
   "cell_type": "code",
   "execution_count": 615,
   "id": "f389796e",
   "metadata": {
    "ExecuteTime": {
     "end_time": "2023-08-09T02:38:56.345650Z",
     "start_time": "2023-08-09T02:38:56.335479Z"
    }
   },
   "outputs": [
    {
     "data": {
      "text/html": [
       "<div>\n",
       "<style scoped>\n",
       "    .dataframe tbody tr th:only-of-type {\n",
       "        vertical-align: middle;\n",
       "    }\n",
       "\n",
       "    .dataframe tbody tr th {\n",
       "        vertical-align: top;\n",
       "    }\n",
       "\n",
       "    .dataframe thead th {\n",
       "        text-align: right;\n",
       "    }\n",
       "</style>\n",
       "<table border=\"1\" class=\"dataframe\">\n",
       "  <thead>\n",
       "    <tr style=\"text-align: right;\">\n",
       "      <th></th>\n",
       "      <th>tick_pred</th>\n",
       "      <th>symbol_pred</th>\n",
       "      <th>mid_pred</th>\n",
       "      <th>smid_pred</th>\n",
       "      <th>rtn_-5_0s_pred</th>\n",
       "    </tr>\n",
       "  </thead>\n",
       "  <tbody>\n",
       "    <tr>\n",
       "      <th>5</th>\n",
       "      <td>5</td>\n",
       "      <td>QQQ</td>\n",
       "      <td>100.06</td>\n",
       "      <td>100.069844</td>\n",
       "      <td>0.000400</td>\n",
       "    </tr>\n",
       "    <tr>\n",
       "      <th>6</th>\n",
       "      <td>6</td>\n",
       "      <td>QQQ</td>\n",
       "      <td>100.07</td>\n",
       "      <td>100.079837</td>\n",
       "      <td>0.000500</td>\n",
       "    </tr>\n",
       "    <tr>\n",
       "      <th>7</th>\n",
       "      <td>7</td>\n",
       "      <td>QQQ</td>\n",
       "      <td>100.07</td>\n",
       "      <td>100.079815</td>\n",
       "      <td>0.000400</td>\n",
       "    </tr>\n",
       "    <tr>\n",
       "      <th>8</th>\n",
       "      <td>8</td>\n",
       "      <td>QQQ</td>\n",
       "      <td>100.07</td>\n",
       "      <td>100.079596</td>\n",
       "      <td>0.000200</td>\n",
       "    </tr>\n",
       "    <tr>\n",
       "      <th>9</th>\n",
       "      <td>9</td>\n",
       "      <td>QQQ</td>\n",
       "      <td>100.07</td>\n",
       "      <td>100.079856</td>\n",
       "      <td>0.000000</td>\n",
       "    </tr>\n",
       "    <tr>\n",
       "      <th>...</th>\n",
       "      <td>...</td>\n",
       "      <td>...</td>\n",
       "      <td>...</td>\n",
       "      <td>...</td>\n",
       "      <td>...</td>\n",
       "    </tr>\n",
       "    <tr>\n",
       "      <th>99995</th>\n",
       "      <td>99995</td>\n",
       "      <td>QQQ</td>\n",
       "      <td>101.63</td>\n",
       "      <td>101.634747</td>\n",
       "      <td>0.000098</td>\n",
       "    </tr>\n",
       "    <tr>\n",
       "      <th>99996</th>\n",
       "      <td>99996</td>\n",
       "      <td>QQQ</td>\n",
       "      <td>101.61</td>\n",
       "      <td>101.613535</td>\n",
       "      <td>-0.000098</td>\n",
       "    </tr>\n",
       "    <tr>\n",
       "      <th>99997</th>\n",
       "      <td>99997</td>\n",
       "      <td>QQQ</td>\n",
       "      <td>101.61</td>\n",
       "      <td>101.619859</td>\n",
       "      <td>-0.000197</td>\n",
       "    </tr>\n",
       "    <tr>\n",
       "      <th>99998</th>\n",
       "      <td>99998</td>\n",
       "      <td>QQQ</td>\n",
       "      <td>101.60</td>\n",
       "      <td>101.609837</td>\n",
       "      <td>-0.000197</td>\n",
       "    </tr>\n",
       "    <tr>\n",
       "      <th>99999</th>\n",
       "      <td>99999</td>\n",
       "      <td>QQQ</td>\n",
       "      <td>101.59</td>\n",
       "      <td>101.598384</td>\n",
       "      <td>-0.000394</td>\n",
       "    </tr>\n",
       "  </tbody>\n",
       "</table>\n",
       "<p>99995 rows × 5 columns</p>\n",
       "</div>"
      ],
      "text/plain": [
       "       tick_pred symbol_pred  mid_pred   smid_pred  rtn_-5_0s_pred\n",
       "5              5         QQQ    100.06  100.069844        0.000400\n",
       "6              6         QQQ    100.07  100.079837        0.000500\n",
       "7              7         QQQ    100.07  100.079815        0.000400\n",
       "8              8         QQQ    100.07  100.079596        0.000200\n",
       "9              9         QQQ    100.07  100.079856        0.000000\n",
       "...          ...         ...       ...         ...             ...\n",
       "99995      99995         QQQ    101.63  101.634747        0.000098\n",
       "99996      99996         QQQ    101.61  101.613535       -0.000098\n",
       "99997      99997         QQQ    101.61  101.619859       -0.000197\n",
       "99998      99998         QQQ    101.60  101.609837       -0.000197\n",
       "99999      99999         QQQ    101.59  101.598384       -0.000394\n",
       "\n",
       "[99995 rows x 5 columns]"
      ]
     },
     "execution_count": 615,
     "metadata": {},
     "output_type": "execute_result"
    }
   ],
   "source": [
    "df_mark1"
   ]
  },
  {
   "cell_type": "code",
   "execution_count": null,
   "id": "bbfb9b46",
   "metadata": {},
   "outputs": [],
   "source": []
  },
  {
   "cell_type": "code",
   "execution_count": 634,
   "id": "3eea396a",
   "metadata": {
    "ExecuteTime": {
     "end_time": "2023-08-09T02:46:12.589389Z",
     "start_time": "2023-08-09T02:46:12.585129Z"
    }
   },
   "outputs": [
    {
     "data": {
      "text/plain": [
       "(0, 5)"
      ]
     },
     "execution_count": 634,
     "metadata": {},
     "output_type": "execute_result"
    }
   ],
   "source": [
    "resp_win"
   ]
  },
  {
   "cell_type": "code",
   "execution_count": 638,
   "id": "91f1585f",
   "metadata": {
    "ExecuteTime": {
     "end_time": "2023-08-09T02:46:44.063606Z",
     "start_time": "2023-08-09T02:46:44.059311Z"
    }
   },
   "outputs": [
    {
     "data": {
      "text/plain": [
       "-5"
      ]
     },
     "execution_count": 638,
     "metadata": {},
     "output_type": "execute_result"
    }
   ],
   "source": []
  },
  {
   "cell_type": "code",
   "execution_count": 636,
   "id": "fb64d9fb",
   "metadata": {
    "ExecuteTime": {
     "end_time": "2023-08-09T02:46:31.355908Z",
     "start_time": "2023-08-09T02:46:31.346675Z"
    }
   },
   "outputs": [
    {
     "data": {
      "text/plain": [
       "-5"
      ]
     },
     "execution_count": 636,
     "metadata": {},
     "output_type": "execute_result"
    }
   ],
   "source": []
  },
  {
   "cell_type": "code",
   "execution_count": null,
   "id": "e956b398",
   "metadata": {},
   "outputs": [],
   "source": []
  },
  {
   "cell_type": "code",
   "execution_count": 641,
   "id": "a8576967",
   "metadata": {
    "ExecuteTime": {
     "end_time": "2023-08-09T02:47:47.871629Z",
     "start_time": "2023-08-09T02:47:47.866629Z"
    }
   },
   "outputs": [
    {
     "data": {
      "text/plain": [
       "[[(-5, 0)],\n",
       " [(0, 5),\n",
       "  (5, 10),\n",
       "  (10, 15),\n",
       "  (15, 20),\n",
       "  (20, 25),\n",
       "  (25, 30),\n",
       "  (30, 35),\n",
       "  (35, 40),\n",
       "  (40, 45),\n",
       "  (45, 50),\n",
       "  (50, 55),\n",
       "  (55, 60),\n",
       "  (60, 65),\n",
       "  (65, 70),\n",
       "  (70, 75),\n",
       "  (75, 80),\n",
       "  (80, 85),\n",
       "  (85, 90),\n",
       "  (90, 95),\n",
       "  (95, 100),\n",
       "  (100, 105),\n",
       "  (105, 110),\n",
       "  (110, 115),\n",
       "  (115, 120)]]"
      ]
     },
     "execution_count": 641,
     "metadata": {},
     "output_type": "execute_result"
    }
   ],
   "source": [
    "all_windows"
   ]
  },
  {
   "cell_type": "code",
   "execution_count": null,
   "id": "5a1de713",
   "metadata": {},
   "outputs": [],
   "source": []
  },
  {
   "cell_type": "code",
   "execution_count": null,
   "id": "67bc2924",
   "metadata": {},
   "outputs": [],
   "source": []
  },
  {
   "cell_type": "code",
   "execution_count": 662,
   "id": "17f1a46f",
   "metadata": {
    "ExecuteTime": {
     "end_time": "2023-08-09T02:51:46.566064Z",
     "start_time": "2023-08-09T02:51:46.327907Z"
    }
   },
   "outputs": [],
   "source": [
    "# use various mark times\n",
    "\n",
    "all_data = []\n",
    "\n",
    "# get columns\n",
    "xcols = list( pd.Series(get_rtn_cols(pred_windows)) + \"_pred\" )\n",
    "ycols = get_rtn_cols(resp_windows)\n",
    "\n",
    "# add_suffix + merge + dropna\n",
    "df = df_mark1.merge(df_mark2, left_on=\"tick_pred\", right_on=\"tick\")\n",
    "df = df.dropna()\n",
    "\n",
    "\n",
    "all_data = []\n",
    "\n",
    "for ycol, resp_win in zip(ycols, resp_windows):\n",
    "\n",
    "    X = df[xcols]\n",
    "    y = df[ycol]\n",
    "\n",
    "    # indexes\n",
    "    all_windows = [pred_windows, resp_win]\n",
    "    keep_freq = max(np.max(wins) for wins in all_windows) - min(np.min(wins) for wins in all_windows)\n",
    "    idxs = np.arange(0, len(X), keep_freq)\n",
    "    X = X.iloc[idxs]\n",
    "    y = y.iloc[idxs]\n",
    "\n",
    "    model = LinearRegression(fit_intercept=False).fit(X, y)\n",
    "    betas = model.coef_[0]\n",
    "\n",
    "    ypred = model.predict(X)\n",
    "#     r2s = r2_score(y, ypred, multioutput=\"raw_values\")\n",
    "    r2s = r2_score(y, ypred)\n",
    "    \n",
    "    # fit ols\n",
    "    ols = sm.OLS(y, X).fit()\n",
    "    tstat = ols.tvalues[xcols[0]]\n",
    "    \n",
    "    # betas\n",
    "#     df_beta = pd.DataFrame({\"beta\": betas, \"window\": resp_windows})\n",
    "#     df_beta[\"avg_window\"] = -1 * df_beta[\"window\"].apply(lambda x: (x[0] + x[1]) / 2)\n",
    "#     df_beta\n",
    "\n",
    "    \n",
    "    all_data += [{\"beta\": betas, \"r2\": r2s, \"tstat\": tstat, \"keep_freq\": keep_freq, \"resp_win1\": resp_win[0], \"resp_win2\": resp_win[1], \"avg_win\": np.mean(resp_win)}]\n",
    "    \n",
    "#     display(ols.summary())\n",
    "#     print(all_data)\n",
    "#     break\n",
    "    \n",
    "df_beta = pd.DataFrame(all_data)\n",
    "df_beta[\"abs_tstat\"] = df_beta[\"tstat\"].abs()"
   ]
  },
  {
   "cell_type": "code",
   "execution_count": 659,
   "id": "2d95d885",
   "metadata": {
    "ExecuteTime": {
     "end_time": "2023-08-09T02:50:41.390450Z",
     "start_time": "2023-08-09T02:50:41.377956Z"
    }
   },
   "outputs": [
    {
     "data": {
      "text/html": [
       "<div>\n",
       "<style scoped>\n",
       "    .dataframe tbody tr th:only-of-type {\n",
       "        vertical-align: middle;\n",
       "    }\n",
       "\n",
       "    .dataframe tbody tr th {\n",
       "        vertical-align: top;\n",
       "    }\n",
       "\n",
       "    .dataframe thead th {\n",
       "        text-align: right;\n",
       "    }\n",
       "</style>\n",
       "<table border=\"1\" class=\"dataframe\">\n",
       "  <thead>\n",
       "    <tr style=\"text-align: right;\">\n",
       "      <th></th>\n",
       "      <th>beta</th>\n",
       "      <th>r2</th>\n",
       "      <th>tstat</th>\n",
       "      <th>keep_freq</th>\n",
       "      <th>resp_win1</th>\n",
       "      <th>resp_win2</th>\n",
       "      <th>avg_win</th>\n",
       "    </tr>\n",
       "  </thead>\n",
       "  <tbody>\n",
       "    <tr>\n",
       "      <th>0</th>\n",
       "      <td>0.218092</td>\n",
       "      <td>0.137754</td>\n",
       "      <td>40.044150</td>\n",
       "      <td>10</td>\n",
       "      <td>0</td>\n",
       "      <td>5</td>\n",
       "      <td>2.5</td>\n",
       "    </tr>\n",
       "    <tr>\n",
       "      <th>1</th>\n",
       "      <td>0.185335</td>\n",
       "      <td>0.096298</td>\n",
       "      <td>26.727401</td>\n",
       "      <td>15</td>\n",
       "      <td>5</td>\n",
       "      <td>10</td>\n",
       "      <td>7.5</td>\n",
       "    </tr>\n",
       "    <tr>\n",
       "      <th>2</th>\n",
       "      <td>0.185916</td>\n",
       "      <td>0.098983</td>\n",
       "      <td>23.495876</td>\n",
       "      <td>20</td>\n",
       "      <td>10</td>\n",
       "      <td>15</td>\n",
       "      <td>12.5</td>\n",
       "    </tr>\n",
       "    <tr>\n",
       "      <th>3</th>\n",
       "      <td>0.156170</td>\n",
       "      <td>0.072115</td>\n",
       "      <td>17.687391</td>\n",
       "      <td>25</td>\n",
       "      <td>15</td>\n",
       "      <td>20</td>\n",
       "      <td>17.5</td>\n",
       "    </tr>\n",
       "    <tr>\n",
       "      <th>4</th>\n",
       "      <td>0.144247</td>\n",
       "      <td>0.057063</td>\n",
       "      <td>14.257015</td>\n",
       "      <td>30</td>\n",
       "      <td>20</td>\n",
       "      <td>25</td>\n",
       "      <td>22.5</td>\n",
       "    </tr>\n",
       "    <tr>\n",
       "      <th>5</th>\n",
       "      <td>0.139829</td>\n",
       "      <td>0.058090</td>\n",
       "      <td>13.339651</td>\n",
       "      <td>35</td>\n",
       "      <td>25</td>\n",
       "      <td>30</td>\n",
       "      <td>27.5</td>\n",
       "    </tr>\n",
       "    <tr>\n",
       "      <th>6</th>\n",
       "      <td>0.132476</td>\n",
       "      <td>0.048571</td>\n",
       "      <td>11.345198</td>\n",
       "      <td>40</td>\n",
       "      <td>30</td>\n",
       "      <td>35</td>\n",
       "      <td>32.5</td>\n",
       "    </tr>\n",
       "    <tr>\n",
       "      <th>7</th>\n",
       "      <td>0.106844</td>\n",
       "      <td>0.032193</td>\n",
       "      <td>8.641622</td>\n",
       "      <td>45</td>\n",
       "      <td>35</td>\n",
       "      <td>40</td>\n",
       "      <td>37.5</td>\n",
       "    </tr>\n",
       "    <tr>\n",
       "      <th>8</th>\n",
       "      <td>0.096402</td>\n",
       "      <td>0.026812</td>\n",
       "      <td>7.474972</td>\n",
       "      <td>50</td>\n",
       "      <td>40</td>\n",
       "      <td>45</td>\n",
       "      <td>42.5</td>\n",
       "    </tr>\n",
       "    <tr>\n",
       "      <th>9</th>\n",
       "      <td>0.108178</td>\n",
       "      <td>0.035581</td>\n",
       "      <td>8.242885</td>\n",
       "      <td>55</td>\n",
       "      <td>45</td>\n",
       "      <td>50</td>\n",
       "      <td>47.5</td>\n",
       "    </tr>\n",
       "    <tr>\n",
       "      <th>10</th>\n",
       "      <td>0.076025</td>\n",
       "      <td>0.014802</td>\n",
       "      <td>5.103604</td>\n",
       "      <td>60</td>\n",
       "      <td>50</td>\n",
       "      <td>55</td>\n",
       "      <td>52.5</td>\n",
       "    </tr>\n",
       "    <tr>\n",
       "      <th>11</th>\n",
       "      <td>0.078520</td>\n",
       "      <td>0.017717</td>\n",
       "      <td>5.270514</td>\n",
       "      <td>65</td>\n",
       "      <td>55</td>\n",
       "      <td>60</td>\n",
       "      <td>57.5</td>\n",
       "    </tr>\n",
       "    <tr>\n",
       "      <th>12</th>\n",
       "      <td>0.051218</td>\n",
       "      <td>0.007489</td>\n",
       "      <td>3.350183</td>\n",
       "      <td>70</td>\n",
       "      <td>60</td>\n",
       "      <td>65</td>\n",
       "      <td>62.5</td>\n",
       "    </tr>\n",
       "    <tr>\n",
       "      <th>13</th>\n",
       "      <td>0.060460</td>\n",
       "      <td>0.010718</td>\n",
       "      <td>3.851420</td>\n",
       "      <td>75</td>\n",
       "      <td>65</td>\n",
       "      <td>70</td>\n",
       "      <td>67.5</td>\n",
       "    </tr>\n",
       "    <tr>\n",
       "      <th>14</th>\n",
       "      <td>0.061177</td>\n",
       "      <td>0.009579</td>\n",
       "      <td>3.539020</td>\n",
       "      <td>80</td>\n",
       "      <td>70</td>\n",
       "      <td>75</td>\n",
       "      <td>72.5</td>\n",
       "    </tr>\n",
       "    <tr>\n",
       "      <th>15</th>\n",
       "      <td>0.074135</td>\n",
       "      <td>0.014679</td>\n",
       "      <td>4.193094</td>\n",
       "      <td>85</td>\n",
       "      <td>75</td>\n",
       "      <td>80</td>\n",
       "      <td>77.5</td>\n",
       "    </tr>\n",
       "    <tr>\n",
       "      <th>16</th>\n",
       "      <td>0.033666</td>\n",
       "      <td>0.003078</td>\n",
       "      <td>1.851105</td>\n",
       "      <td>90</td>\n",
       "      <td>80</td>\n",
       "      <td>85</td>\n",
       "      <td>82.5</td>\n",
       "    </tr>\n",
       "    <tr>\n",
       "      <th>17</th>\n",
       "      <td>0.049453</td>\n",
       "      <td>0.006341</td>\n",
       "      <td>2.684846</td>\n",
       "      <td>95</td>\n",
       "      <td>85</td>\n",
       "      <td>90</td>\n",
       "      <td>87.5</td>\n",
       "    </tr>\n",
       "    <tr>\n",
       "      <th>18</th>\n",
       "      <td>0.015960</td>\n",
       "      <td>0.000435</td>\n",
       "      <td>0.860660</td>\n",
       "      <td>100</td>\n",
       "      <td>90</td>\n",
       "      <td>95</td>\n",
       "      <td>92.5</td>\n",
       "    </tr>\n",
       "    <tr>\n",
       "      <th>19</th>\n",
       "      <td>0.025531</td>\n",
       "      <td>-0.000502</td>\n",
       "      <td>1.343727</td>\n",
       "      <td>105</td>\n",
       "      <td>95</td>\n",
       "      <td>100</td>\n",
       "      <td>97.5</td>\n",
       "    </tr>\n",
       "    <tr>\n",
       "      <th>20</th>\n",
       "      <td>0.066854</td>\n",
       "      <td>0.012581</td>\n",
       "      <td>3.501913</td>\n",
       "      <td>110</td>\n",
       "      <td>100</td>\n",
       "      <td>105</td>\n",
       "      <td>102.5</td>\n",
       "    </tr>\n",
       "    <tr>\n",
       "      <th>21</th>\n",
       "      <td>0.035226</td>\n",
       "      <td>0.003796</td>\n",
       "      <td>1.834280</td>\n",
       "      <td>115</td>\n",
       "      <td>105</td>\n",
       "      <td>110</td>\n",
       "      <td>107.5</td>\n",
       "    </tr>\n",
       "    <tr>\n",
       "      <th>22</th>\n",
       "      <td>0.008770</td>\n",
       "      <td>-0.000973</td>\n",
       "      <td>0.397426</td>\n",
       "      <td>120</td>\n",
       "      <td>110</td>\n",
       "      <td>115</td>\n",
       "      <td>112.5</td>\n",
       "    </tr>\n",
       "    <tr>\n",
       "      <th>23</th>\n",
       "      <td>-0.005633</td>\n",
       "      <td>-0.001388</td>\n",
       "      <td>-0.275803</td>\n",
       "      <td>125</td>\n",
       "      <td>115</td>\n",
       "      <td>120</td>\n",
       "      <td>117.5</td>\n",
       "    </tr>\n",
       "  </tbody>\n",
       "</table>\n",
       "</div>"
      ],
      "text/plain": [
       "        beta        r2      tstat  keep_freq  resp_win1  resp_win2  avg_win\n",
       "0   0.218092  0.137754  40.044150         10          0          5      2.5\n",
       "1   0.185335  0.096298  26.727401         15          5         10      7.5\n",
       "2   0.185916  0.098983  23.495876         20         10         15     12.5\n",
       "3   0.156170  0.072115  17.687391         25         15         20     17.5\n",
       "4   0.144247  0.057063  14.257015         30         20         25     22.5\n",
       "5   0.139829  0.058090  13.339651         35         25         30     27.5\n",
       "6   0.132476  0.048571  11.345198         40         30         35     32.5\n",
       "7   0.106844  0.032193   8.641622         45         35         40     37.5\n",
       "8   0.096402  0.026812   7.474972         50         40         45     42.5\n",
       "9   0.108178  0.035581   8.242885         55         45         50     47.5\n",
       "10  0.076025  0.014802   5.103604         60         50         55     52.5\n",
       "11  0.078520  0.017717   5.270514         65         55         60     57.5\n",
       "12  0.051218  0.007489   3.350183         70         60         65     62.5\n",
       "13  0.060460  0.010718   3.851420         75         65         70     67.5\n",
       "14  0.061177  0.009579   3.539020         80         70         75     72.5\n",
       "15  0.074135  0.014679   4.193094         85         75         80     77.5\n",
       "16  0.033666  0.003078   1.851105         90         80         85     82.5\n",
       "17  0.049453  0.006341   2.684846         95         85         90     87.5\n",
       "18  0.015960  0.000435   0.860660        100         90         95     92.5\n",
       "19  0.025531 -0.000502   1.343727        105         95        100     97.5\n",
       "20  0.066854  0.012581   3.501913        110        100        105    102.5\n",
       "21  0.035226  0.003796   1.834280        115        105        110    107.5\n",
       "22  0.008770 -0.000973   0.397426        120        110        115    112.5\n",
       "23 -0.005633 -0.001388  -0.275803        125        115        120    117.5"
      ]
     },
     "execution_count": 659,
     "metadata": {},
     "output_type": "execute_result"
    }
   ],
   "source": [
    "df_beta[\"tstat\"]"
   ]
  },
  {
   "cell_type": "code",
   "execution_count": 661,
   "id": "71a907d1",
   "metadata": {
    "ExecuteTime": {
     "end_time": "2023-08-09T02:51:20.082450Z",
     "start_time": "2023-08-09T02:51:19.922135Z"
    }
   },
   "outputs": [
    {
     "name": "stdout",
     "output_type": "stream",
     "text": [
      "r2 -0.0013884852125234382\n"
     ]
    },
    {
     "data": {
      "text/plain": [
       "<matplotlib.collections.PathCollection at 0x135aac130>"
      ]
     },
     "execution_count": 661,
     "metadata": {},
     "output_type": "execute_result"
    },
    {
     "data": {
      "image/png": "[encoded data removed]",
      "text/plain": [
       "<Figure size 640x480 with 1 Axes>"
      ]
     },
     "metadata": {},
     "output_type": "display_data"
    }
   ],
   "source": [
    "print(\"r2\", r2s)\n",
    "plt.scatter(df_beta[\"avg_win\"], df_beta[\"beta\"])\n",
    "# plt.xscale('log')\n",
    "\n"
   ]
  },
  {
   "cell_type": "code",
   "execution_count": 585,
   "id": "815f66cd",
   "metadata": {
    "ExecuteTime": {
     "end_time": "2023-08-09T02:30:23.202723Z",
     "start_time": "2023-08-09T02:30:23.199993Z"
    }
   },
   "outputs": [],
   "source": [
    "from scipy.optimize import curve_fit"
   ]
  },
  {
   "cell_type": "code",
   "execution_count": 586,
   "id": "8abfc762",
   "metadata": {
    "ExecuteTime": {
     "end_time": "2023-08-09T02:30:23.485659Z",
     "start_time": "2023-08-09T02:30:23.462039Z"
    }
   },
   "outputs": [],
   "source": [
    "def exp_fn(x, a, b):\n",
    "    return a * np.exp(b * x)\n",
    "\n",
    "popt, pcov = curve_fit(exp_fn, df_beta[\"avg_window\"], df_beta[\"beta\"], p0=(-2.5, -0.1))\n",
    "# popt, pcov = curve_fit(exp_fn, df_beta[\"avg_window\"], np.maximum(df_beta[\"beta\"], 0), p0=(-2.5, -0.1))\n",
    "curve_fn = lambda x: exp_fn(x, *popt)\n"
   ]
  },
  {
   "cell_type": "code",
   "execution_count": 587,
   "id": "5ba8b18e",
   "metadata": {
    "ExecuteTime": {
     "end_time": "2023-08-09T02:30:24.568402Z",
     "start_time": "2023-08-09T02:30:24.564670Z"
    }
   },
   "outputs": [],
   "source": [
    "df_beta[\"beta_pred\"] = curve_fn(df_beta[\"avg_window\"])"
   ]
  },
  {
   "cell_type": "code",
   "execution_count": 588,
   "id": "56a86939",
   "metadata": {
    "ExecuteTime": {
     "end_time": "2023-08-09T02:30:25.872521Z",
     "start_time": "2023-08-09T02:30:25.721637Z"
    }
   },
   "outputs": [
    {
     "data": {
      "text/plain": [
       "[<matplotlib.lines.Line2D at 0x135d40280>]"
      ]
     },
     "execution_count": 588,
     "metadata": {},
     "output_type": "execute_result"
    },
    {
     "data": {
      "image/png": "[encoded data removed]",
      "text/plain": [
       "<Figure size 640x480 with 1 Axes>"
      ]
     },
     "metadata": {},
     "output_type": "display_data"
    }
   ],
   "source": [
    "plt.scatter(df_beta[\"avg_window\"], df_beta[\"beta\"])\n",
    "plt.plot(df_beta[\"avg_window\"], df_beta[\"beta_pred\"])\n",
    "         "
   ]
  },
  {
   "cell_type": "code",
   "execution_count": 594,
   "id": "de533971",
   "metadata": {
    "ExecuteTime": {
     "end_time": "2023-08-09T02:34:00.183066Z",
     "start_time": "2023-08-09T02:34:00.179284Z"
    }
   },
   "outputs": [
    {
     "data": {
      "text/plain": [
       "9.966874617704873"
      ]
     },
     "execution_count": 594,
     "metadata": {},
     "output_type": "execute_result"
    }
   ],
   "source": [
    "popt[0] / popt[1]"
   ]
  },
  {
   "cell_type": "code",
   "execution_count": 595,
   "id": "258a408c",
   "metadata": {
    "ExecuteTime": {
     "end_time": "2023-08-09T02:34:02.705801Z",
     "start_time": "2023-08-09T02:34:02.701791Z"
    }
   },
   "outputs": [
    {
     "data": {
      "text/plain": [
       "1.832778505757656"
      ]
     },
     "execution_count": 595,
     "metadata": {},
     "output_type": "execute_result"
    }
   ],
   "source": [
    "df_beta[\"beta\"].sum()"
   ]
  },
  {
   "cell_type": "code",
   "execution_count": null,
   "id": "81554331",
   "metadata": {},
   "outputs": [],
   "source": []
  },
  {
   "cell_type": "code",
   "execution_count": null,
   "id": "b190359f",
   "metadata": {},
   "outputs": [],
   "source": []
  },
  {
   "cell_type": "code",
   "execution_count": null,
   "id": "1ca2b79e",
   "metadata": {},
   "outputs": [],
   "source": []
  },
  {
   "cell_type": "code",
   "execution_count": null,
   "id": "ccb2106b",
   "metadata": {},
   "outputs": [],
   "source": []
  }
 ],
 "metadata": {
  "kernelspec": {
   "display_name": "Python 3 (ipykernel)",
   "language": "python",
   "name": "python3"
  },
  "language_info": {
   "codemirror_mode": {
    "name": "ipython",
    "version": 3
   },
   "file_extension": ".py",
   "mimetype": "text/x-python",
   "name": "python",
   "nbconvert_exporter": "python",
   "pygments_lexer": "ipython3",
   "version": "3.10.9"
  },
  "toc": {
   "base_numbering": 1,
   "nav_menu": {},
   "number_sections": true,
   "sideBar": true,
   "skip_h1_title": false,
   "title_cell": "Table of Contents",
   "title_sidebar": "Contents",
   "toc_cell": false,
   "toc_position": {
    "height": "calc(100% - 180px)",
    "left": "10px",
    "top": "150px",
    "width": "297.391px"
   },
   "toc_section_display": true,
   "toc_window_display": true
  },
  "varInspector": {
   "cols": {
    "lenName": 16,
    "lenType": 16,
    "lenVar": 40
   },
   "kernels_config": {
    "python": {
     "delete_cmd_postfix": "",
     "delete_cmd_prefix": "del ",
     "library": "var_list.py",
     "varRefreshCmd": "print(var_dic_list())"
    },
    "r": {
     "delete_cmd_postfix": ") ",
     "delete_cmd_prefix": "rm(",
     "library": "var_list.r",
     "varRefreshCmd": "cat(var_dic_list()) "
    }
   },
   "types_to_exclude": [
    "module",
    "function",
    "builtin_function_or_method",
    "instance",
    "_Feature"
   ],
   "window_display": false
  }
 },
 "nbformat": 4,
 "nbformat_minor": 5
}
