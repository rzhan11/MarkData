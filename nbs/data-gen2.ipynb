{
 "cells": [
  {
   "cell_type": "markdown",
   "id": "d1c7c216",
   "metadata": {},
   "source": [
    "# Ideas\n",
    "\n",
    "- investigate:\n",
    "    - nbbo spread effect on customer size\n",
    "    - nbbo spread effect on price\n",
    "    - momentum\n",
    "    - mean reversion\n",
    "    - beta to esa, beta to other stocks\n",
    "    - pairs trading"
   ]
  },
  {
   "cell_type": "code",
   "execution_count": 1,
   "id": "4388a9da",
   "metadata": {
    "ExecuteTime": {
     "end_time": "2023-08-09T00:22:07.589871Z",
     "start_time": "2023-08-09T00:22:07.584840Z"
    }
   },
   "outputs": [
    {
     "data": {
      "text/html": [
       "<style>.container { width:80% !important; }</style>"
      ],
      "text/plain": [
       "<IPython.core.display.HTML object>"
      ]
     },
     "metadata": {},
     "output_type": "display_data"
    }
   ],
   "source": [
    "from IPython.display import display, HTML\n",
    "display(HTML(\"<style>.container { width:80% !important; }</style>\"))"
   ]
  },
  {
   "cell_type": "code",
   "execution_count": 169,
   "id": "498ef301",
   "metadata": {
    "ExecuteTime": {
     "end_time": "2023-08-09T00:54:09.268919Z",
     "start_time": "2023-08-09T00:54:09.265955Z"
    }
   },
   "outputs": [],
   "source": [
    "import numpy as np\n",
    "import pandas as pd\n",
    "\n",
    "import matplotlib.pyplot as plt\n",
    "\n",
    "from sklearn.linear_model import LinearRegression\n",
    "from sklearn.metrics import r2_score\n",
    "\n",
    "# get statsmodels\n",
    "import statsmodels.api as sm"
   ]
  },
  {
   "cell_type": "markdown",
   "id": "e711692e",
   "metadata": {},
   "source": [
    "# Config"
   ]
  },
  {
   "cell_type": "code",
   "execution_count": 681,
   "id": "2b0b0a2a",
   "metadata": {
    "ExecuteTime": {
     "end_time": "2023-08-09T02:55:27.654236Z",
     "start_time": "2023-08-09T02:55:27.650713Z"
    }
   },
   "outputs": [],
   "source": [
    "_symbols = [\"QQQ\"]\n",
    "\n",
    "## time\n",
    "_num_ticks = 1000000\n",
    "\n",
    "## bbo generation\n",
    "_bbo_size = 1000\n",
    "\n",
    "_size_tick = 10\n",
    "_price_tick = 0.01"
   ]
  },
  {
   "cell_type": "code",
   "execution_count": 682,
   "id": "350e31b6",
   "metadata": {
    "ExecuteTime": {
     "end_time": "2023-08-09T02:55:28.443067Z",
     "start_time": "2023-08-09T02:55:28.440348Z"
    }
   },
   "outputs": [],
   "source": [
    "np.random.seed(0)"
   ]
  },
  {
   "cell_type": "code",
   "execution_count": 683,
   "id": "2b98fe0d",
   "metadata": {
    "ExecuteTime": {
     "end_time": "2023-08-09T02:55:28.735917Z",
     "start_time": "2023-08-09T02:55:28.730532Z"
    }
   },
   "outputs": [],
   "source": [
    "def create_bbo(prices, fairs, symbol):\n",
    "    # create dataframe\n",
    "    df_bbo = pd.DataFrame({\"tick\": np.arange(_num_ticks), \"price\": prices, \"fair\": fairs})\n",
    "\n",
    "    # create bbo data, size weighted\n",
    "    df_bbo[\"symbol\"] = symbol\n",
    "\n",
    "    df_bbo[\"bid\"] = round((df_bbo[\"price\"] - _price_tick) / _price_tick) * _price_tick\n",
    "    df_bbo[\"ask\"] = round((df_bbo[\"price\"] + _price_tick) / _price_tick) * _price_tick\n",
    "\n",
    "    df_bbo[\"bidsz\"] = _bbo_size * (df_bbo[\"price\"] - df_bbo[\"bid\"]) / _price_tick\n",
    "    df_bbo[\"asksz\"] = _bbo_size - df_bbo[\"bidsz\"]\n",
    "\n",
    "    clean_fn = lambda x : np.maximum(_size_tick, x // _size_tick * _size_tick).astype(int)\n",
    "    df_bbo[\"bidsz\"] = clean_fn(df_bbo[\"bidsz\"])\n",
    "    df_bbo[\"asksz\"] = clean_fn(df_bbo[\"asksz\"])\n",
    "    \n",
    "    # mid calculations\n",
    "    df_bbo[\"mid\"] = df_bbo.eval(\"(bid + ask) / 2\")\n",
    "    df_bbo[\"smid\"] = df_bbo.eval(\"(bid * asksz + ask * bidsz) / (bidsz + asksz)\")\n",
    "\n",
    "    \n",
    "    return df_bbo"
   ]
  },
  {
   "cell_type": "code",
   "execution_count": 684,
   "id": "5ebfe33b",
   "metadata": {
    "ExecuteTime": {
     "end_time": "2023-08-09T02:55:29.193075Z",
     "start_time": "2023-08-09T02:55:29.189493Z"
    }
   },
   "outputs": [],
   "source": [
    "## Create QQQs\n",
    "# create time series data\n",
    "\n",
    "def create_liquid_bbo(symbol, initial_price, fair_stdev):\n",
    "    fair_chgs = np.random.normal(loc=0, scale=fair_stdev, size=_num_ticks)\n",
    "    fairs = initial_price * np.exp(np.cumsum(fair_chgs))\n",
    "\n",
    "    df_bbo = create_bbo(\n",
    "        prices=fairs,\n",
    "        fairs=fairs,\n",
    "        symbol=symbol,\n",
    "    )\n",
    "    \n",
    "    return df_bbo"
   ]
  },
  {
   "cell_type": "code",
   "execution_count": 685,
   "id": "f7f67eaa",
   "metadata": {
    "ExecuteTime": {
     "end_time": "2023-08-09T02:55:29.735156Z",
     "start_time": "2023-08-09T02:55:29.430387Z"
    }
   },
   "outputs": [],
   "source": [
    "# create index\n",
    "df_index = create_liquid_bbo(\n",
    "    symbol=\"QQQ\",\n",
    "    initial_price=100,\n",
    "    fair_stdev=1e-4,\n",
    ")"
   ]
  },
  {
   "cell_type": "code",
   "execution_count": null,
   "id": "2df13b08",
   "metadata": {
    "ExecuteTime": {
     "end_time": "2023-08-09T02:55:29.782456Z",
     "start_time": "2023-08-09T02:55:29.782440Z"
    }
   },
   "outputs": [],
   "source": [
    "# create new bbos\n",
    "# symbol = \"Tech1\"\n",
    "# sym_beta = 2.5\n",
    "# sym_initial_price = 1000\n",
    "# sym_self_stdev = 1e-4\n",
    "# sym_converge_rate = 0.02\n",
    "\n",
    "def create_stock_bbo(symbol, df_index, beta, initial_price, fair_stdev, converge_rate):\n",
    "\n",
    "    fair_chgs_self = np.random.normal(loc=0, scale=fair_stdev, size=_num_ticks)\n",
    "    fairs_self = initial_price * np.exp(np.cumsum(fair_chgs_self))\n",
    "    \n",
    "    index_fair_chgs = np.log(df_index[\"fair\"] / df_index[\"fair\"].shift()).fillna(0)\n",
    "    \n",
    "    # compute fair from self-moves + index-moves\n",
    "    fairs = fairs_self * np.exp(beta * np.cumsum(index_fair_chgs))\n",
    "\n",
    "    # actual prices\n",
    "    cur_price = initial_price\n",
    "    prices = [cur_price]\n",
    "\n",
    "    for tick in range(1, _num_ticks):\n",
    "        # adjust to true fair\n",
    "        cur_price = cur_price + (fairs[tick] - cur_price) * converge_rate\n",
    "        prices += [cur_price]\n",
    "\n",
    "    prices = np.array(prices)\n",
    "\n",
    "    df_bbo = create_bbo(\n",
    "        prices=prices,\n",
    "        fairs=fairs,\n",
    "        symbol=symbol,\n",
    "    )\n",
    "    \n",
    "    return df_bbo"
   ]
  },
  {
   "cell_type": "code",
   "execution_count": 686,
   "id": "196fe5fd",
   "metadata": {
    "ExecuteTime": {
     "end_time": "2023-08-09T02:55:32.525626Z",
     "start_time": "2023-08-09T02:55:30.127973Z"
    }
   },
   "outputs": [],
   "source": [
    "df_bbo_sym = create_stock_bbo(\n",
    "    symbol=\"Tech1\",\n",
    "    df_index=df_index,\n",
    "    beta=2.5,\n",
    "    initial_price=1000,\n",
    "    fair_stdev=1e-4,\n",
    "    converge_rate=0.02,\n",
    ")"
   ]
  },
  {
   "cell_type": "code",
   "execution_count": 687,
   "id": "ade2b568",
   "metadata": {
    "ExecuteTime": {
     "end_time": "2023-08-09T02:55:36.028045Z",
     "start_time": "2023-08-09T02:55:35.455037Z"
    }
   },
   "outputs": [
    {
     "data": {
      "image/png": "[encoded data removed]",
      "text/plain": [
       "<Figure size 640x480 with 1 Axes>"
      ]
     },
     "metadata": {},
     "output_type": "display_data"
    },
    {
     "data": {
      "text/plain": [
       "[<matplotlib.lines.Line2D at 0x1357ed300>]"
      ]
     },
     "execution_count": 687,
     "metadata": {},
     "output_type": "execute_result"
    },
    {
     "data": {
      "image/png": "[encoded data removed]",
      "text/plain": [
       "<Figure size 640x480 with 1 Axes>"
      ]
     },
     "metadata": {},
     "output_type": "display_data"
    }
   ],
   "source": [
    "plt.plot(df_bbo_sym[\"fair\"])\n",
    "plt.plot(df_bbo_sym[\"price\"])\n",
    "plt.show()\n",
    "plt.plot(df_index[\"fair\"])"
   ]
  },
  {
   "cell_type": "code",
   "execution_count": 688,
   "id": "43db3154",
   "metadata": {
    "ExecuteTime": {
     "end_time": "2023-08-09T02:55:37.577847Z",
     "start_time": "2023-08-09T02:55:37.563167Z"
    }
   },
   "outputs": [
    {
     "data": {
      "text/html": [
       "<div>\n",
       "<style scoped>\n",
       "    .dataframe tbody tr th:only-of-type {\n",
       "        vertical-align: middle;\n",
       "    }\n",
       "\n",
       "    .dataframe tbody tr th {\n",
       "        vertical-align: top;\n",
       "    }\n",
       "\n",
       "    .dataframe thead th {\n",
       "        text-align: right;\n",
       "    }\n",
       "</style>\n",
       "<table border=\"1\" class=\"dataframe\">\n",
       "  <thead>\n",
       "    <tr style=\"text-align: right;\">\n",
       "      <th></th>\n",
       "      <th>tick</th>\n",
       "      <th>price</th>\n",
       "      <th>fair</th>\n",
       "      <th>symbol</th>\n",
       "      <th>bid</th>\n",
       "      <th>ask</th>\n",
       "      <th>bidsz</th>\n",
       "      <th>asksz</th>\n",
       "      <th>mid</th>\n",
       "      <th>smid</th>\n",
       "    </tr>\n",
       "  </thead>\n",
       "  <tbody>\n",
       "    <tr>\n",
       "      <th>0</th>\n",
       "      <td>0</td>\n",
       "      <td>1000.000000</td>\n",
       "      <td>1000.051426</td>\n",
       "      <td>Tech1</td>\n",
       "      <td>999.99</td>\n",
       "      <td>1000.01</td>\n",
       "      <td>990</td>\n",
       "      <td>10</td>\n",
       "      <td>1000.00</td>\n",
       "      <td>1000.009800</td>\n",
       "    </tr>\n",
       "    <tr>\n",
       "      <th>1</th>\n",
       "      <td>1</td>\n",
       "      <td>1000.005256</td>\n",
       "      <td>1000.262785</td>\n",
       "      <td>Tech1</td>\n",
       "      <td>1000.00</td>\n",
       "      <td>1000.02</td>\n",
       "      <td>520</td>\n",
       "      <td>470</td>\n",
       "      <td>1000.01</td>\n",
       "      <td>1000.010505</td>\n",
       "    </tr>\n",
       "    <tr>\n",
       "      <th>2</th>\n",
       "      <td>2</td>\n",
       "      <td>1000.016653</td>\n",
       "      <td>1000.575103</td>\n",
       "      <td>Tech1</td>\n",
       "      <td>1000.01</td>\n",
       "      <td>1000.03</td>\n",
       "      <td>660</td>\n",
       "      <td>330</td>\n",
       "      <td>1000.02</td>\n",
       "      <td>1000.023333</td>\n",
       "    </tr>\n",
       "    <tr>\n",
       "      <th>3</th>\n",
       "      <td>3</td>\n",
       "      <td>1000.037913</td>\n",
       "      <td>1001.079687</td>\n",
       "      <td>Tech1</td>\n",
       "      <td>1000.03</td>\n",
       "      <td>1000.05</td>\n",
       "      <td>790</td>\n",
       "      <td>200</td>\n",
       "      <td>1000.04</td>\n",
       "      <td>1000.045960</td>\n",
       "    </tr>\n",
       "    <tr>\n",
       "      <th>4</th>\n",
       "      <td>4</td>\n",
       "      <td>1000.066427</td>\n",
       "      <td>1001.463575</td>\n",
       "      <td>Tech1</td>\n",
       "      <td>1000.06</td>\n",
       "      <td>1000.08</td>\n",
       "      <td>640</td>\n",
       "      <td>350</td>\n",
       "      <td>1000.07</td>\n",
       "      <td>1000.072929</td>\n",
       "    </tr>\n",
       "    <tr>\n",
       "      <th>...</th>\n",
       "      <td>...</td>\n",
       "      <td>...</td>\n",
       "      <td>...</td>\n",
       "      <td>...</td>\n",
       "      <td>...</td>\n",
       "      <td>...</td>\n",
       "      <td>...</td>\n",
       "      <td>...</td>\n",
       "      <td>...</td>\n",
       "      <td>...</td>\n",
       "    </tr>\n",
       "    <tr>\n",
       "      <th>999995</th>\n",
       "      <td>999995</td>\n",
       "      <td>1500.177345</td>\n",
       "      <td>1503.738425</td>\n",
       "      <td>Tech1</td>\n",
       "      <td>1500.17</td>\n",
       "      <td>1500.19</td>\n",
       "      <td>730</td>\n",
       "      <td>260</td>\n",
       "      <td>1500.18</td>\n",
       "      <td>1500.184747</td>\n",
       "    </tr>\n",
       "    <tr>\n",
       "      <th>999996</th>\n",
       "      <td>999996</td>\n",
       "      <td>1500.247902</td>\n",
       "      <td>1503.705213</td>\n",
       "      <td>Tech1</td>\n",
       "      <td>1500.24</td>\n",
       "      <td>1500.26</td>\n",
       "      <td>790</td>\n",
       "      <td>200</td>\n",
       "      <td>1500.25</td>\n",
       "      <td>1500.255960</td>\n",
       "    </tr>\n",
       "    <tr>\n",
       "      <th>999997</th>\n",
       "      <td>999997</td>\n",
       "      <td>1500.305583</td>\n",
       "      <td>1503.131942</td>\n",
       "      <td>Tech1</td>\n",
       "      <td>1500.30</td>\n",
       "      <td>1500.32</td>\n",
       "      <td>550</td>\n",
       "      <td>440</td>\n",
       "      <td>1500.31</td>\n",
       "      <td>1500.311111</td>\n",
       "    </tr>\n",
       "    <tr>\n",
       "      <th>999998</th>\n",
       "      <td>999998</td>\n",
       "      <td>1500.367691</td>\n",
       "      <td>1503.410991</td>\n",
       "      <td>Tech1</td>\n",
       "      <td>1500.36</td>\n",
       "      <td>1500.38</td>\n",
       "      <td>760</td>\n",
       "      <td>230</td>\n",
       "      <td>1500.37</td>\n",
       "      <td>1500.375354</td>\n",
       "    </tr>\n",
       "    <tr>\n",
       "      <th>999999</th>\n",
       "      <td>999999</td>\n",
       "      <td>1500.437701</td>\n",
       "      <td>1503.868198</td>\n",
       "      <td>Tech1</td>\n",
       "      <td>1500.43</td>\n",
       "      <td>1500.45</td>\n",
       "      <td>770</td>\n",
       "      <td>220</td>\n",
       "      <td>1500.44</td>\n",
       "      <td>1500.445556</td>\n",
       "    </tr>\n",
       "  </tbody>\n",
       "</table>\n",
       "<p>1000000 rows × 10 columns</p>\n",
       "</div>"
      ],
      "text/plain": [
       "          tick        price         fair symbol      bid      ask  bidsz  \\\n",
       "0            0  1000.000000  1000.051426  Tech1   999.99  1000.01    990   \n",
       "1            1  1000.005256  1000.262785  Tech1  1000.00  1000.02    520   \n",
       "2            2  1000.016653  1000.575103  Tech1  1000.01  1000.03    660   \n",
       "3            3  1000.037913  1001.079687  Tech1  1000.03  1000.05    790   \n",
       "4            4  1000.066427  1001.463575  Tech1  1000.06  1000.08    640   \n",
       "...        ...          ...          ...    ...      ...      ...    ...   \n",
       "999995  999995  1500.177345  1503.738425  Tech1  1500.17  1500.19    730   \n",
       "999996  999996  1500.247902  1503.705213  Tech1  1500.24  1500.26    790   \n",
       "999997  999997  1500.305583  1503.131942  Tech1  1500.30  1500.32    550   \n",
       "999998  999998  1500.367691  1503.410991  Tech1  1500.36  1500.38    760   \n",
       "999999  999999  1500.437701  1503.868198  Tech1  1500.43  1500.45    770   \n",
       "\n",
       "        asksz      mid         smid  \n",
       "0          10  1000.00  1000.009800  \n",
       "1         470  1000.01  1000.010505  \n",
       "2         330  1000.02  1000.023333  \n",
       "3         200  1000.04  1000.045960  \n",
       "4         350  1000.07  1000.072929  \n",
       "...       ...      ...          ...  \n",
       "999995    260  1500.18  1500.184747  \n",
       "999996    200  1500.25  1500.255960  \n",
       "999997    440  1500.31  1500.311111  \n",
       "999998    230  1500.37  1500.375354  \n",
       "999999    220  1500.44  1500.445556  \n",
       "\n",
       "[1000000 rows x 10 columns]"
      ]
     },
     "execution_count": 688,
     "metadata": {},
     "output_type": "execute_result"
    }
   ],
   "source": [
    "df_bbo_sym"
   ]
  },
  {
   "cell_type": "code",
   "execution_count": 689,
   "id": "d511650f",
   "metadata": {
    "ExecuteTime": {
     "end_time": "2023-08-09T02:55:38.712289Z",
     "start_time": "2023-08-09T02:55:38.671363Z"
    }
   },
   "outputs": [],
   "source": [
    "# get true betas\n",
    "stock_chgs = np.log(df_bbo_sym[\"fair\"].shift(-1) / df_bbo_sym[\"fair\"]).fillna(0)\n",
    "index_chgs = np.log(df_index[\"fair\"].shift(-1) / df_index[\"fair\"]).fillna(0)\n"
   ]
  },
  {
   "cell_type": "code",
   "execution_count": 690,
   "id": "10c3786c",
   "metadata": {
    "ExecuteTime": {
     "end_time": "2023-08-09T02:55:39.320427Z",
     "start_time": "2023-08-09T02:55:39.250736Z"
    }
   },
   "outputs": [
    {
     "name": "stdout",
     "output_type": "stream",
     "text": [
      "beta 2.500621515481523\n",
      "r2 0.8623737726890452\n"
     ]
    }
   ],
   "source": [
    "X = index_chgs.to_numpy().reshape(len(index_chgs), 1)\n",
    "y = np.array(stock_chgs)\n",
    "\n",
    "\n",
    "model = LinearRegression(fit_intercept=False).fit(X, y)\n",
    "beta = model.coef_[0]\n",
    "r2 = model.score(X, y)\n",
    "\n",
    "print(\"beta\", beta)\n",
    "print(\"r2\", r2)\n"
   ]
  },
  {
   "cell_type": "code",
   "execution_count": null,
   "id": "da570e2c",
   "metadata": {},
   "outputs": [],
   "source": []
  },
  {
   "cell_type": "code",
   "execution_count": null,
   "id": "f0e59898",
   "metadata": {
    "ExecuteTime": {
     "end_time": "2023-08-09T01:52:00.202796Z",
     "start_time": "2023-08-09T01:52:00.199009Z"
    }
   },
   "outputs": [],
   "source": []
  },
  {
   "cell_type": "code",
   "execution_count": 749,
   "id": "c5e15e5b",
   "metadata": {
    "ExecuteTime": {
     "end_time": "2023-08-09T03:06:27.645261Z",
     "start_time": "2023-08-09T03:06:27.637324Z"
    }
   },
   "outputs": [],
   "source": [
    "\"\"\" HELPERS \"\"\"\n",
    "def create_windows(rng):\n",
    "    rng = sorted(set(list(rng) + [0]))\n",
    "    return [(rng[i], rng[i + 1]) for i in range(len(rng) - 1)]\n",
    "\n",
    "def get_rtn_col(window):\n",
    "    return f\"rtn_{window[0]}_{window[1]}s\"\n",
    "\n",
    "def get_rtn_cols(windows):\n",
    "    return [get_rtn_col(win) for win in windows]\n",
    "\n",
    "\n",
    "\n",
    "\n",
    "\n",
    "def compute_marks(df_bbo, windows, mid_col):\n",
    "    # init new df\n",
    "    df_mark = df_bbo[[\"tick\", \"symbol\", \"mid\", \"smid\"]].copy()\n",
    "    \n",
    "    # add marks for all mark_times\n",
    "    for int_lb, int_ub in windows:\n",
    "        ser1 = df_mark[mid_col].shift(-1 * int_lb)\n",
    "        ser2 = df_mark[mid_col].shift(-1 * int_ub)\n",
    "        df_mark[get_rtn_col((int_lb, int_ub))] = np.log(ser2 / ser1)\n",
    "\n",
    "    df_mark = df_mark.copy().dropna()\n",
    "    return df_mark\n",
    "\n"
   ]
  },
  {
   "cell_type": "code",
   "execution_count": 750,
   "id": "978c6376",
   "metadata": {
    "ExecuteTime": {
     "end_time": "2023-08-09T03:06:42.667848Z",
     "start_time": "2023-08-09T03:06:31.285682Z"
    }
   },
   "outputs": [
    {
     "name": "stderr",
     "output_type": "stream",
     "text": [
      "/var/folders/fv/6rc0c0r11hn6xpyhsr9z6rrc0000gn/T/ipykernel_37998/3282443379.py:24: PerformanceWarning: DataFrame is highly fragmented.  This is usually the result of calling `frame.insert` many times, which has poor performance.  Consider joining all columns at once using pd.concat(axis=1) instead. To get a de-fragmented frame, use `newframe = frame.copy()`\n",
      "  df_mark[get_rtn_col((int_lb, int_ub))] = np.log(ser2 / ser1)\n",
      "/var/folders/fv/6rc0c0r11hn6xpyhsr9z6rrc0000gn/T/ipykernel_37998/3282443379.py:24: PerformanceWarning: DataFrame is highly fragmented.  This is usually the result of calling `frame.insert` many times, which has poor performance.  Consider joining all columns at once using pd.concat(axis=1) instead. To get a de-fragmented frame, use `newframe = frame.copy()`\n",
      "  df_mark[get_rtn_col((int_lb, int_ub))] = np.log(ser2 / ser1)\n",
      "/var/folders/fv/6rc0c0r11hn6xpyhsr9z6rrc0000gn/T/ipykernel_37998/3282443379.py:24: PerformanceWarning: DataFrame is highly fragmented.  This is usually the result of calling `frame.insert` many times, which has poor performance.  Consider joining all columns at once using pd.concat(axis=1) instead. To get a de-fragmented frame, use `newframe = frame.copy()`\n",
      "  df_mark[get_rtn_col((int_lb, int_ub))] = np.log(ser2 / ser1)\n",
      "/var/folders/fv/6rc0c0r11hn6xpyhsr9z6rrc0000gn/T/ipykernel_37998/3282443379.py:24: PerformanceWarning: DataFrame is highly fragmented.  This is usually the result of calling `frame.insert` many times, which has poor performance.  Consider joining all columns at once using pd.concat(axis=1) instead. To get a de-fragmented frame, use `newframe = frame.copy()`\n",
      "  df_mark[get_rtn_col((int_lb, int_ub))] = np.log(ser2 / ser1)\n",
      "/var/folders/fv/6rc0c0r11hn6xpyhsr9z6rrc0000gn/T/ipykernel_37998/3282443379.py:24: PerformanceWarning: DataFrame is highly fragmented.  This is usually the result of calling `frame.insert` many times, which has poor performance.  Consider joining all columns at once using pd.concat(axis=1) instead. To get a de-fragmented frame, use `newframe = frame.copy()`\n",
      "  df_mark[get_rtn_col((int_lb, int_ub))] = np.log(ser2 / ser1)\n",
      "/var/folders/fv/6rc0c0r11hn6xpyhsr9z6rrc0000gn/T/ipykernel_37998/3282443379.py:24: PerformanceWarning: DataFrame is highly fragmented.  This is usually the result of calling `frame.insert` many times, which has poor performance.  Consider joining all columns at once using pd.concat(axis=1) instead. To get a de-fragmented frame, use `newframe = frame.copy()`\n",
      "  df_mark[get_rtn_col((int_lb, int_ub))] = np.log(ser2 / ser1)\n",
      "/var/folders/fv/6rc0c0r11hn6xpyhsr9z6rrc0000gn/T/ipykernel_37998/3282443379.py:24: PerformanceWarning: DataFrame is highly fragmented.  This is usually the result of calling `frame.insert` many times, which has poor performance.  Consider joining all columns at once using pd.concat(axis=1) instead. To get a de-fragmented frame, use `newframe = frame.copy()`\n",
      "  df_mark[get_rtn_col((int_lb, int_ub))] = np.log(ser2 / ser1)\n",
      "/var/folders/fv/6rc0c0r11hn6xpyhsr9z6rrc0000gn/T/ipykernel_37998/3282443379.py:24: PerformanceWarning: DataFrame is highly fragmented.  This is usually the result of calling `frame.insert` many times, which has poor performance.  Consider joining all columns at once using pd.concat(axis=1) instead. To get a de-fragmented frame, use `newframe = frame.copy()`\n",
      "  df_mark[get_rtn_col((int_lb, int_ub))] = np.log(ser2 / ser1)\n",
      "/var/folders/fv/6rc0c0r11hn6xpyhsr9z6rrc0000gn/T/ipykernel_37998/3282443379.py:24: PerformanceWarning: DataFrame is highly fragmented.  This is usually the result of calling `frame.insert` many times, which has poor performance.  Consider joining all columns at once using pd.concat(axis=1) instead. To get a de-fragmented frame, use `newframe = frame.copy()`\n",
      "  df_mark[get_rtn_col((int_lb, int_ub))] = np.log(ser2 / ser1)\n",
      "/var/folders/fv/6rc0c0r11hn6xpyhsr9z6rrc0000gn/T/ipykernel_37998/3282443379.py:24: PerformanceWarning: DataFrame is highly fragmented.  This is usually the result of calling `frame.insert` many times, which has poor performance.  Consider joining all columns at once using pd.concat(axis=1) instead. To get a de-fragmented frame, use `newframe = frame.copy()`\n",
      "  df_mark[get_rtn_col((int_lb, int_ub))] = np.log(ser2 / ser1)\n",
      "/var/folders/fv/6rc0c0r11hn6xpyhsr9z6rrc0000gn/T/ipykernel_37998/3282443379.py:24: PerformanceWarning: DataFrame is highly fragmented.  This is usually the result of calling `frame.insert` many times, which has poor performance.  Consider joining all columns at once using pd.concat(axis=1) instead. To get a de-fragmented frame, use `newframe = frame.copy()`\n",
      "  df_mark[get_rtn_col((int_lb, int_ub))] = np.log(ser2 / ser1)\n",
      "/var/folders/fv/6rc0c0r11hn6xpyhsr9z6rrc0000gn/T/ipykernel_37998/3282443379.py:24: PerformanceWarning: DataFrame is highly fragmented.  This is usually the result of calling `frame.insert` many times, which has poor performance.  Consider joining all columns at once using pd.concat(axis=1) instead. To get a de-fragmented frame, use `newframe = frame.copy()`\n",
      "  df_mark[get_rtn_col((int_lb, int_ub))] = np.log(ser2 / ser1)\n",
      "/var/folders/fv/6rc0c0r11hn6xpyhsr9z6rrc0000gn/T/ipykernel_37998/3282443379.py:24: PerformanceWarning: DataFrame is highly fragmented.  This is usually the result of calling `frame.insert` many times, which has poor performance.  Consider joining all columns at once using pd.concat(axis=1) instead. To get a de-fragmented frame, use `newframe = frame.copy()`\n",
      "  df_mark[get_rtn_col((int_lb, int_ub))] = np.log(ser2 / ser1)\n",
      "/var/folders/fv/6rc0c0r11hn6xpyhsr9z6rrc0000gn/T/ipykernel_37998/3282443379.py:24: PerformanceWarning: DataFrame is highly fragmented.  This is usually the result of calling `frame.insert` many times, which has poor performance.  Consider joining all columns at once using pd.concat(axis=1) instead. To get a de-fragmented frame, use `newframe = frame.copy()`\n",
      "  df_mark[get_rtn_col((int_lb, int_ub))] = np.log(ser2 / ser1)\n",
      "/var/folders/fv/6rc0c0r11hn6xpyhsr9z6rrc0000gn/T/ipykernel_37998/3282443379.py:24: PerformanceWarning: DataFrame is highly fragmented.  This is usually the result of calling `frame.insert` many times, which has poor performance.  Consider joining all columns at once using pd.concat(axis=1) instead. To get a de-fragmented frame, use `newframe = frame.copy()`\n",
      "  df_mark[get_rtn_col((int_lb, int_ub))] = np.log(ser2 / ser1)\n",
      "/var/folders/fv/6rc0c0r11hn6xpyhsr9z6rrc0000gn/T/ipykernel_37998/3282443379.py:24: PerformanceWarning: DataFrame is highly fragmented.  This is usually the result of calling `frame.insert` many times, which has poor performance.  Consider joining all columns at once using pd.concat(axis=1) instead. To get a de-fragmented frame, use `newframe = frame.copy()`\n",
      "  df_mark[get_rtn_col((int_lb, int_ub))] = np.log(ser2 / ser1)\n",
      "/var/folders/fv/6rc0c0r11hn6xpyhsr9z6rrc0000gn/T/ipykernel_37998/3282443379.py:24: PerformanceWarning: DataFrame is highly fragmented.  This is usually the result of calling `frame.insert` many times, which has poor performance.  Consider joining all columns at once using pd.concat(axis=1) instead. To get a de-fragmented frame, use `newframe = frame.copy()`\n",
      "  df_mark[get_rtn_col((int_lb, int_ub))] = np.log(ser2 / ser1)\n",
      "/var/folders/fv/6rc0c0r11hn6xpyhsr9z6rrc0000gn/T/ipykernel_37998/3282443379.py:24: PerformanceWarning: DataFrame is highly fragmented.  This is usually the result of calling `frame.insert` many times, which has poor performance.  Consider joining all columns at once using pd.concat(axis=1) instead. To get a de-fragmented frame, use `newframe = frame.copy()`\n",
      "  df_mark[get_rtn_col((int_lb, int_ub))] = np.log(ser2 / ser1)\n",
      "/var/folders/fv/6rc0c0r11hn6xpyhsr9z6rrc0000gn/T/ipykernel_37998/3282443379.py:24: PerformanceWarning: DataFrame is highly fragmented.  This is usually the result of calling `frame.insert` many times, which has poor performance.  Consider joining all columns at once using pd.concat(axis=1) instead. To get a de-fragmented frame, use `newframe = frame.copy()`\n",
      "  df_mark[get_rtn_col((int_lb, int_ub))] = np.log(ser2 / ser1)\n",
      "/var/folders/fv/6rc0c0r11hn6xpyhsr9z6rrc0000gn/T/ipykernel_37998/3282443379.py:24: PerformanceWarning: DataFrame is highly fragmented.  This is usually the result of calling `frame.insert` many times, which has poor performance.  Consider joining all columns at once using pd.concat(axis=1) instead. To get a de-fragmented frame, use `newframe = frame.copy()`\n",
      "  df_mark[get_rtn_col((int_lb, int_ub))] = np.log(ser2 / ser1)\n",
      "/var/folders/fv/6rc0c0r11hn6xpyhsr9z6rrc0000gn/T/ipykernel_37998/3282443379.py:24: PerformanceWarning: DataFrame is highly fragmented.  This is usually the result of calling `frame.insert` many times, which has poor performance.  Consider joining all columns at once using pd.concat(axis=1) instead. To get a de-fragmented frame, use `newframe = frame.copy()`\n",
      "  df_mark[get_rtn_col((int_lb, int_ub))] = np.log(ser2 / ser1)\n",
      "/var/folders/fv/6rc0c0r11hn6xpyhsr9z6rrc0000gn/T/ipykernel_37998/3282443379.py:24: PerformanceWarning: DataFrame is highly fragmented.  This is usually the result of calling `frame.insert` many times, which has poor performance.  Consider joining all columns at once using pd.concat(axis=1) instead. To get a de-fragmented frame, use `newframe = frame.copy()`\n",
      "  df_mark[get_rtn_col((int_lb, int_ub))] = np.log(ser2 / ser1)\n",
      "/var/folders/fv/6rc0c0r11hn6xpyhsr9z6rrc0000gn/T/ipykernel_37998/3282443379.py:24: PerformanceWarning: DataFrame is highly fragmented.  This is usually the result of calling `frame.insert` many times, which has poor performance.  Consider joining all columns at once using pd.concat(axis=1) instead. To get a de-fragmented frame, use `newframe = frame.copy()`\n",
      "  df_mark[get_rtn_col((int_lb, int_ub))] = np.log(ser2 / ser1)\n",
      "/var/folders/fv/6rc0c0r11hn6xpyhsr9z6rrc0000gn/T/ipykernel_37998/3282443379.py:24: PerformanceWarning: DataFrame is highly fragmented.  This is usually the result of calling `frame.insert` many times, which has poor performance.  Consider joining all columns at once using pd.concat(axis=1) instead. To get a de-fragmented frame, use `newframe = frame.copy()`\n",
      "  df_mark[get_rtn_col((int_lb, int_ub))] = np.log(ser2 / ser1)\n",
      "/var/folders/fv/6rc0c0r11hn6xpyhsr9z6rrc0000gn/T/ipykernel_37998/3282443379.py:24: PerformanceWarning: DataFrame is highly fragmented.  This is usually the result of calling `frame.insert` many times, which has poor performance.  Consider joining all columns at once using pd.concat(axis=1) instead. To get a de-fragmented frame, use `newframe = frame.copy()`\n",
      "  df_mark[get_rtn_col((int_lb, int_ub))] = np.log(ser2 / ser1)\n"
     ]
    },
    {
     "name": "stderr",
     "output_type": "stream",
     "text": [
      "/var/folders/fv/6rc0c0r11hn6xpyhsr9z6rrc0000gn/T/ipykernel_37998/3282443379.py:24: PerformanceWarning: DataFrame is highly fragmented.  This is usually the result of calling `frame.insert` many times, which has poor performance.  Consider joining all columns at once using pd.concat(axis=1) instead. To get a de-fragmented frame, use `newframe = frame.copy()`\n",
      "  df_mark[get_rtn_col((int_lb, int_ub))] = np.log(ser2 / ser1)\n",
      "/var/folders/fv/6rc0c0r11hn6xpyhsr9z6rrc0000gn/T/ipykernel_37998/3282443379.py:24: PerformanceWarning: DataFrame is highly fragmented.  This is usually the result of calling `frame.insert` many times, which has poor performance.  Consider joining all columns at once using pd.concat(axis=1) instead. To get a de-fragmented frame, use `newframe = frame.copy()`\n",
      "  df_mark[get_rtn_col((int_lb, int_ub))] = np.log(ser2 / ser1)\n",
      "/var/folders/fv/6rc0c0r11hn6xpyhsr9z6rrc0000gn/T/ipykernel_37998/3282443379.py:24: PerformanceWarning: DataFrame is highly fragmented.  This is usually the result of calling `frame.insert` many times, which has poor performance.  Consider joining all columns at once using pd.concat(axis=1) instead. To get a de-fragmented frame, use `newframe = frame.copy()`\n",
      "  df_mark[get_rtn_col((int_lb, int_ub))] = np.log(ser2 / ser1)\n",
      "/var/folders/fv/6rc0c0r11hn6xpyhsr9z6rrc0000gn/T/ipykernel_37998/3282443379.py:24: PerformanceWarning: DataFrame is highly fragmented.  This is usually the result of calling `frame.insert` many times, which has poor performance.  Consider joining all columns at once using pd.concat(axis=1) instead. To get a de-fragmented frame, use `newframe = frame.copy()`\n",
      "  df_mark[get_rtn_col((int_lb, int_ub))] = np.log(ser2 / ser1)\n",
      "/var/folders/fv/6rc0c0r11hn6xpyhsr9z6rrc0000gn/T/ipykernel_37998/3282443379.py:24: PerformanceWarning: DataFrame is highly fragmented.  This is usually the result of calling `frame.insert` many times, which has poor performance.  Consider joining all columns at once using pd.concat(axis=1) instead. To get a de-fragmented frame, use `newframe = frame.copy()`\n",
      "  df_mark[get_rtn_col((int_lb, int_ub))] = np.log(ser2 / ser1)\n",
      "/var/folders/fv/6rc0c0r11hn6xpyhsr9z6rrc0000gn/T/ipykernel_37998/3282443379.py:24: PerformanceWarning: DataFrame is highly fragmented.  This is usually the result of calling `frame.insert` many times, which has poor performance.  Consider joining all columns at once using pd.concat(axis=1) instead. To get a de-fragmented frame, use `newframe = frame.copy()`\n",
      "  df_mark[get_rtn_col((int_lb, int_ub))] = np.log(ser2 / ser1)\n",
      "/var/folders/fv/6rc0c0r11hn6xpyhsr9z6rrc0000gn/T/ipykernel_37998/3282443379.py:24: PerformanceWarning: DataFrame is highly fragmented.  This is usually the result of calling `frame.insert` many times, which has poor performance.  Consider joining all columns at once using pd.concat(axis=1) instead. To get a de-fragmented frame, use `newframe = frame.copy()`\n",
      "  df_mark[get_rtn_col((int_lb, int_ub))] = np.log(ser2 / ser1)\n",
      "/var/folders/fv/6rc0c0r11hn6xpyhsr9z6rrc0000gn/T/ipykernel_37998/3282443379.py:24: PerformanceWarning: DataFrame is highly fragmented.  This is usually the result of calling `frame.insert` many times, which has poor performance.  Consider joining all columns at once using pd.concat(axis=1) instead. To get a de-fragmented frame, use `newframe = frame.copy()`\n",
      "  df_mark[get_rtn_col((int_lb, int_ub))] = np.log(ser2 / ser1)\n",
      "/var/folders/fv/6rc0c0r11hn6xpyhsr9z6rrc0000gn/T/ipykernel_37998/3282443379.py:24: PerformanceWarning: DataFrame is highly fragmented.  This is usually the result of calling `frame.insert` many times, which has poor performance.  Consider joining all columns at once using pd.concat(axis=1) instead. To get a de-fragmented frame, use `newframe = frame.copy()`\n",
      "  df_mark[get_rtn_col((int_lb, int_ub))] = np.log(ser2 / ser1)\n",
      "/var/folders/fv/6rc0c0r11hn6xpyhsr9z6rrc0000gn/T/ipykernel_37998/3282443379.py:24: PerformanceWarning: DataFrame is highly fragmented.  This is usually the result of calling `frame.insert` many times, which has poor performance.  Consider joining all columns at once using pd.concat(axis=1) instead. To get a de-fragmented frame, use `newframe = frame.copy()`\n",
      "  df_mark[get_rtn_col((int_lb, int_ub))] = np.log(ser2 / ser1)\n",
      "/var/folders/fv/6rc0c0r11hn6xpyhsr9z6rrc0000gn/T/ipykernel_37998/3282443379.py:24: PerformanceWarning: DataFrame is highly fragmented.  This is usually the result of calling `frame.insert` many times, which has poor performance.  Consider joining all columns at once using pd.concat(axis=1) instead. To get a de-fragmented frame, use `newframe = frame.copy()`\n",
      "  df_mark[get_rtn_col((int_lb, int_ub))] = np.log(ser2 / ser1)\n",
      "/var/folders/fv/6rc0c0r11hn6xpyhsr9z6rrc0000gn/T/ipykernel_37998/3282443379.py:24: PerformanceWarning: DataFrame is highly fragmented.  This is usually the result of calling `frame.insert` many times, which has poor performance.  Consider joining all columns at once using pd.concat(axis=1) instead. To get a de-fragmented frame, use `newframe = frame.copy()`\n",
      "  df_mark[get_rtn_col((int_lb, int_ub))] = np.log(ser2 / ser1)\n",
      "/var/folders/fv/6rc0c0r11hn6xpyhsr9z6rrc0000gn/T/ipykernel_37998/3282443379.py:24: PerformanceWarning: DataFrame is highly fragmented.  This is usually the result of calling `frame.insert` many times, which has poor performance.  Consider joining all columns at once using pd.concat(axis=1) instead. To get a de-fragmented frame, use `newframe = frame.copy()`\n",
      "  df_mark[get_rtn_col((int_lb, int_ub))] = np.log(ser2 / ser1)\n",
      "/var/folders/fv/6rc0c0r11hn6xpyhsr9z6rrc0000gn/T/ipykernel_37998/3282443379.py:24: PerformanceWarning: DataFrame is highly fragmented.  This is usually the result of calling `frame.insert` many times, which has poor performance.  Consider joining all columns at once using pd.concat(axis=1) instead. To get a de-fragmented frame, use `newframe = frame.copy()`\n",
      "  df_mark[get_rtn_col((int_lb, int_ub))] = np.log(ser2 / ser1)\n",
      "/var/folders/fv/6rc0c0r11hn6xpyhsr9z6rrc0000gn/T/ipykernel_37998/3282443379.py:24: PerformanceWarning: DataFrame is highly fragmented.  This is usually the result of calling `frame.insert` many times, which has poor performance.  Consider joining all columns at once using pd.concat(axis=1) instead. To get a de-fragmented frame, use `newframe = frame.copy()`\n",
      "  df_mark[get_rtn_col((int_lb, int_ub))] = np.log(ser2 / ser1)\n",
      "/var/folders/fv/6rc0c0r11hn6xpyhsr9z6rrc0000gn/T/ipykernel_37998/3282443379.py:24: PerformanceWarning: DataFrame is highly fragmented.  This is usually the result of calling `frame.insert` many times, which has poor performance.  Consider joining all columns at once using pd.concat(axis=1) instead. To get a de-fragmented frame, use `newframe = frame.copy()`\n",
      "  df_mark[get_rtn_col((int_lb, int_ub))] = np.log(ser2 / ser1)\n",
      "/var/folders/fv/6rc0c0r11hn6xpyhsr9z6rrc0000gn/T/ipykernel_37998/3282443379.py:24: PerformanceWarning: DataFrame is highly fragmented.  This is usually the result of calling `frame.insert` many times, which has poor performance.  Consider joining all columns at once using pd.concat(axis=1) instead. To get a de-fragmented frame, use `newframe = frame.copy()`\n",
      "  df_mark[get_rtn_col((int_lb, int_ub))] = np.log(ser2 / ser1)\n",
      "/var/folders/fv/6rc0c0r11hn6xpyhsr9z6rrc0000gn/T/ipykernel_37998/3282443379.py:24: PerformanceWarning: DataFrame is highly fragmented.  This is usually the result of calling `frame.insert` many times, which has poor performance.  Consider joining all columns at once using pd.concat(axis=1) instead. To get a de-fragmented frame, use `newframe = frame.copy()`\n",
      "  df_mark[get_rtn_col((int_lb, int_ub))] = np.log(ser2 / ser1)\n",
      "/var/folders/fv/6rc0c0r11hn6xpyhsr9z6rrc0000gn/T/ipykernel_37998/3282443379.py:24: PerformanceWarning: DataFrame is highly fragmented.  This is usually the result of calling `frame.insert` many times, which has poor performance.  Consider joining all columns at once using pd.concat(axis=1) instead. To get a de-fragmented frame, use `newframe = frame.copy()`\n",
      "  df_mark[get_rtn_col((int_lb, int_ub))] = np.log(ser2 / ser1)\n",
      "/var/folders/fv/6rc0c0r11hn6xpyhsr9z6rrc0000gn/T/ipykernel_37998/3282443379.py:24: PerformanceWarning: DataFrame is highly fragmented.  This is usually the result of calling `frame.insert` many times, which has poor performance.  Consider joining all columns at once using pd.concat(axis=1) instead. To get a de-fragmented frame, use `newframe = frame.copy()`\n",
      "  df_mark[get_rtn_col((int_lb, int_ub))] = np.log(ser2 / ser1)\n",
      "/var/folders/fv/6rc0c0r11hn6xpyhsr9z6rrc0000gn/T/ipykernel_37998/3282443379.py:24: PerformanceWarning: DataFrame is highly fragmented.  This is usually the result of calling `frame.insert` many times, which has poor performance.  Consider joining all columns at once using pd.concat(axis=1) instead. To get a de-fragmented frame, use `newframe = frame.copy()`\n",
      "  df_mark[get_rtn_col((int_lb, int_ub))] = np.log(ser2 / ser1)\n",
      "/var/folders/fv/6rc0c0r11hn6xpyhsr9z6rrc0000gn/T/ipykernel_37998/3282443379.py:24: PerformanceWarning: DataFrame is highly fragmented.  This is usually the result of calling `frame.insert` many times, which has poor performance.  Consider joining all columns at once using pd.concat(axis=1) instead. To get a de-fragmented frame, use `newframe = frame.copy()`\n",
      "  df_mark[get_rtn_col((int_lb, int_ub))] = np.log(ser2 / ser1)\n",
      "/var/folders/fv/6rc0c0r11hn6xpyhsr9z6rrc0000gn/T/ipykernel_37998/3282443379.py:24: PerformanceWarning: DataFrame is highly fragmented.  This is usually the result of calling `frame.insert` many times, which has poor performance.  Consider joining all columns at once using pd.concat(axis=1) instead. To get a de-fragmented frame, use `newframe = frame.copy()`\n",
      "  df_mark[get_rtn_col((int_lb, int_ub))] = np.log(ser2 / ser1)\n",
      "/var/folders/fv/6rc0c0r11hn6xpyhsr9z6rrc0000gn/T/ipykernel_37998/3282443379.py:24: PerformanceWarning: DataFrame is highly fragmented.  This is usually the result of calling `frame.insert` many times, which has poor performance.  Consider joining all columns at once using pd.concat(axis=1) instead. To get a de-fragmented frame, use `newframe = frame.copy()`\n",
      "  df_mark[get_rtn_col((int_lb, int_ub))] = np.log(ser2 / ser1)\n",
      "/var/folders/fv/6rc0c0r11hn6xpyhsr9z6rrc0000gn/T/ipykernel_37998/3282443379.py:24: PerformanceWarning: DataFrame is highly fragmented.  This is usually the result of calling `frame.insert` many times, which has poor performance.  Consider joining all columns at once using pd.concat(axis=1) instead. To get a de-fragmented frame, use `newframe = frame.copy()`\n",
      "  df_mark[get_rtn_col((int_lb, int_ub))] = np.log(ser2 / ser1)\n"
     ]
    },
    {
     "name": "stderr",
     "output_type": "stream",
     "text": [
      "/var/folders/fv/6rc0c0r11hn6xpyhsr9z6rrc0000gn/T/ipykernel_37998/3282443379.py:24: PerformanceWarning: DataFrame is highly fragmented.  This is usually the result of calling `frame.insert` many times, which has poor performance.  Consider joining all columns at once using pd.concat(axis=1) instead. To get a de-fragmented frame, use `newframe = frame.copy()`\n",
      "  df_mark[get_rtn_col((int_lb, int_ub))] = np.log(ser2 / ser1)\n",
      "/var/folders/fv/6rc0c0r11hn6xpyhsr9z6rrc0000gn/T/ipykernel_37998/3282443379.py:24: PerformanceWarning: DataFrame is highly fragmented.  This is usually the result of calling `frame.insert` many times, which has poor performance.  Consider joining all columns at once using pd.concat(axis=1) instead. To get a de-fragmented frame, use `newframe = frame.copy()`\n",
      "  df_mark[get_rtn_col((int_lb, int_ub))] = np.log(ser2 / ser1)\n",
      "/var/folders/fv/6rc0c0r11hn6xpyhsr9z6rrc0000gn/T/ipykernel_37998/3282443379.py:24: PerformanceWarning: DataFrame is highly fragmented.  This is usually the result of calling `frame.insert` many times, which has poor performance.  Consider joining all columns at once using pd.concat(axis=1) instead. To get a de-fragmented frame, use `newframe = frame.copy()`\n",
      "  df_mark[get_rtn_col((int_lb, int_ub))] = np.log(ser2 / ser1)\n",
      "/var/folders/fv/6rc0c0r11hn6xpyhsr9z6rrc0000gn/T/ipykernel_37998/3282443379.py:24: PerformanceWarning: DataFrame is highly fragmented.  This is usually the result of calling `frame.insert` many times, which has poor performance.  Consider joining all columns at once using pd.concat(axis=1) instead. To get a de-fragmented frame, use `newframe = frame.copy()`\n",
      "  df_mark[get_rtn_col((int_lb, int_ub))] = np.log(ser2 / ser1)\n",
      "/var/folders/fv/6rc0c0r11hn6xpyhsr9z6rrc0000gn/T/ipykernel_37998/3282443379.py:24: PerformanceWarning: DataFrame is highly fragmented.  This is usually the result of calling `frame.insert` many times, which has poor performance.  Consider joining all columns at once using pd.concat(axis=1) instead. To get a de-fragmented frame, use `newframe = frame.copy()`\n",
      "  df_mark[get_rtn_col((int_lb, int_ub))] = np.log(ser2 / ser1)\n",
      "/var/folders/fv/6rc0c0r11hn6xpyhsr9z6rrc0000gn/T/ipykernel_37998/3282443379.py:24: PerformanceWarning: DataFrame is highly fragmented.  This is usually the result of calling `frame.insert` many times, which has poor performance.  Consider joining all columns at once using pd.concat(axis=1) instead. To get a de-fragmented frame, use `newframe = frame.copy()`\n",
      "  df_mark[get_rtn_col((int_lb, int_ub))] = np.log(ser2 / ser1)\n",
      "/var/folders/fv/6rc0c0r11hn6xpyhsr9z6rrc0000gn/T/ipykernel_37998/3282443379.py:24: PerformanceWarning: DataFrame is highly fragmented.  This is usually the result of calling `frame.insert` many times, which has poor performance.  Consider joining all columns at once using pd.concat(axis=1) instead. To get a de-fragmented frame, use `newframe = frame.copy()`\n",
      "  df_mark[get_rtn_col((int_lb, int_ub))] = np.log(ser2 / ser1)\n",
      "/var/folders/fv/6rc0c0r11hn6xpyhsr9z6rrc0000gn/T/ipykernel_37998/3282443379.py:24: PerformanceWarning: DataFrame is highly fragmented.  This is usually the result of calling `frame.insert` many times, which has poor performance.  Consider joining all columns at once using pd.concat(axis=1) instead. To get a de-fragmented frame, use `newframe = frame.copy()`\n",
      "  df_mark[get_rtn_col((int_lb, int_ub))] = np.log(ser2 / ser1)\n",
      "/var/folders/fv/6rc0c0r11hn6xpyhsr9z6rrc0000gn/T/ipykernel_37998/3282443379.py:24: PerformanceWarning: DataFrame is highly fragmented.  This is usually the result of calling `frame.insert` many times, which has poor performance.  Consider joining all columns at once using pd.concat(axis=1) instead. To get a de-fragmented frame, use `newframe = frame.copy()`\n",
      "  df_mark[get_rtn_col((int_lb, int_ub))] = np.log(ser2 / ser1)\n",
      "/var/folders/fv/6rc0c0r11hn6xpyhsr9z6rrc0000gn/T/ipykernel_37998/3282443379.py:24: PerformanceWarning: DataFrame is highly fragmented.  This is usually the result of calling `frame.insert` many times, which has poor performance.  Consider joining all columns at once using pd.concat(axis=1) instead. To get a de-fragmented frame, use `newframe = frame.copy()`\n",
      "  df_mark[get_rtn_col((int_lb, int_ub))] = np.log(ser2 / ser1)\n",
      "/var/folders/fv/6rc0c0r11hn6xpyhsr9z6rrc0000gn/T/ipykernel_37998/3282443379.py:24: PerformanceWarning: DataFrame is highly fragmented.  This is usually the result of calling `frame.insert` many times, which has poor performance.  Consider joining all columns at once using pd.concat(axis=1) instead. To get a de-fragmented frame, use `newframe = frame.copy()`\n",
      "  df_mark[get_rtn_col((int_lb, int_ub))] = np.log(ser2 / ser1)\n",
      "/var/folders/fv/6rc0c0r11hn6xpyhsr9z6rrc0000gn/T/ipykernel_37998/3282443379.py:24: PerformanceWarning: DataFrame is highly fragmented.  This is usually the result of calling `frame.insert` many times, which has poor performance.  Consider joining all columns at once using pd.concat(axis=1) instead. To get a de-fragmented frame, use `newframe = frame.copy()`\n",
      "  df_mark[get_rtn_col((int_lb, int_ub))] = np.log(ser2 / ser1)\n",
      "/var/folders/fv/6rc0c0r11hn6xpyhsr9z6rrc0000gn/T/ipykernel_37998/3282443379.py:24: PerformanceWarning: DataFrame is highly fragmented.  This is usually the result of calling `frame.insert` many times, which has poor performance.  Consider joining all columns at once using pd.concat(axis=1) instead. To get a de-fragmented frame, use `newframe = frame.copy()`\n",
      "  df_mark[get_rtn_col((int_lb, int_ub))] = np.log(ser2 / ser1)\n",
      "/var/folders/fv/6rc0c0r11hn6xpyhsr9z6rrc0000gn/T/ipykernel_37998/3282443379.py:24: PerformanceWarning: DataFrame is highly fragmented.  This is usually the result of calling `frame.insert` many times, which has poor performance.  Consider joining all columns at once using pd.concat(axis=1) instead. To get a de-fragmented frame, use `newframe = frame.copy()`\n",
      "  df_mark[get_rtn_col((int_lb, int_ub))] = np.log(ser2 / ser1)\n",
      "/var/folders/fv/6rc0c0r11hn6xpyhsr9z6rrc0000gn/T/ipykernel_37998/3282443379.py:24: PerformanceWarning: DataFrame is highly fragmented.  This is usually the result of calling `frame.insert` many times, which has poor performance.  Consider joining all columns at once using pd.concat(axis=1) instead. To get a de-fragmented frame, use `newframe = frame.copy()`\n",
      "  df_mark[get_rtn_col((int_lb, int_ub))] = np.log(ser2 / ser1)\n",
      "/var/folders/fv/6rc0c0r11hn6xpyhsr9z6rrc0000gn/T/ipykernel_37998/3282443379.py:24: PerformanceWarning: DataFrame is highly fragmented.  This is usually the result of calling `frame.insert` many times, which has poor performance.  Consider joining all columns at once using pd.concat(axis=1) instead. To get a de-fragmented frame, use `newframe = frame.copy()`\n",
      "  df_mark[get_rtn_col((int_lb, int_ub))] = np.log(ser2 / ser1)\n",
      "/var/folders/fv/6rc0c0r11hn6xpyhsr9z6rrc0000gn/T/ipykernel_37998/3282443379.py:24: PerformanceWarning: DataFrame is highly fragmented.  This is usually the result of calling `frame.insert` many times, which has poor performance.  Consider joining all columns at once using pd.concat(axis=1) instead. To get a de-fragmented frame, use `newframe = frame.copy()`\n",
      "  df_mark[get_rtn_col((int_lb, int_ub))] = np.log(ser2 / ser1)\n",
      "/var/folders/fv/6rc0c0r11hn6xpyhsr9z6rrc0000gn/T/ipykernel_37998/3282443379.py:24: PerformanceWarning: DataFrame is highly fragmented.  This is usually the result of calling `frame.insert` many times, which has poor performance.  Consider joining all columns at once using pd.concat(axis=1) instead. To get a de-fragmented frame, use `newframe = frame.copy()`\n",
      "  df_mark[get_rtn_col((int_lb, int_ub))] = np.log(ser2 / ser1)\n",
      "/var/folders/fv/6rc0c0r11hn6xpyhsr9z6rrc0000gn/T/ipykernel_37998/3282443379.py:24: PerformanceWarning: DataFrame is highly fragmented.  This is usually the result of calling `frame.insert` many times, which has poor performance.  Consider joining all columns at once using pd.concat(axis=1) instead. To get a de-fragmented frame, use `newframe = frame.copy()`\n",
      "  df_mark[get_rtn_col((int_lb, int_ub))] = np.log(ser2 / ser1)\n",
      "/var/folders/fv/6rc0c0r11hn6xpyhsr9z6rrc0000gn/T/ipykernel_37998/3282443379.py:24: PerformanceWarning: DataFrame is highly fragmented.  This is usually the result of calling `frame.insert` many times, which has poor performance.  Consider joining all columns at once using pd.concat(axis=1) instead. To get a de-fragmented frame, use `newframe = frame.copy()`\n",
      "  df_mark[get_rtn_col((int_lb, int_ub))] = np.log(ser2 / ser1)\n",
      "/var/folders/fv/6rc0c0r11hn6xpyhsr9z6rrc0000gn/T/ipykernel_37998/3282443379.py:24: PerformanceWarning: DataFrame is highly fragmented.  This is usually the result of calling `frame.insert` many times, which has poor performance.  Consider joining all columns at once using pd.concat(axis=1) instead. To get a de-fragmented frame, use `newframe = frame.copy()`\n",
      "  df_mark[get_rtn_col((int_lb, int_ub))] = np.log(ser2 / ser1)\n",
      "/var/folders/fv/6rc0c0r11hn6xpyhsr9z6rrc0000gn/T/ipykernel_37998/3282443379.py:24: PerformanceWarning: DataFrame is highly fragmented.  This is usually the result of calling `frame.insert` many times, which has poor performance.  Consider joining all columns at once using pd.concat(axis=1) instead. To get a de-fragmented frame, use `newframe = frame.copy()`\n",
      "  df_mark[get_rtn_col((int_lb, int_ub))] = np.log(ser2 / ser1)\n",
      "/var/folders/fv/6rc0c0r11hn6xpyhsr9z6rrc0000gn/T/ipykernel_37998/3282443379.py:24: PerformanceWarning: DataFrame is highly fragmented.  This is usually the result of calling `frame.insert` many times, which has poor performance.  Consider joining all columns at once using pd.concat(axis=1) instead. To get a de-fragmented frame, use `newframe = frame.copy()`\n",
      "  df_mark[get_rtn_col((int_lb, int_ub))] = np.log(ser2 / ser1)\n",
      "/var/folders/fv/6rc0c0r11hn6xpyhsr9z6rrc0000gn/T/ipykernel_37998/3282443379.py:24: PerformanceWarning: DataFrame is highly fragmented.  This is usually the result of calling `frame.insert` many times, which has poor performance.  Consider joining all columns at once using pd.concat(axis=1) instead. To get a de-fragmented frame, use `newframe = frame.copy()`\n",
      "  df_mark[get_rtn_col((int_lb, int_ub))] = np.log(ser2 / ser1)\n",
      "/var/folders/fv/6rc0c0r11hn6xpyhsr9z6rrc0000gn/T/ipykernel_37998/3282443379.py:24: PerformanceWarning: DataFrame is highly fragmented.  This is usually the result of calling `frame.insert` many times, which has poor performance.  Consider joining all columns at once using pd.concat(axis=1) instead. To get a de-fragmented frame, use `newframe = frame.copy()`\n",
      "  df_mark[get_rtn_col((int_lb, int_ub))] = np.log(ser2 / ser1)\n"
     ]
    },
    {
     "name": "stderr",
     "output_type": "stream",
     "text": [
      "/var/folders/fv/6rc0c0r11hn6xpyhsr9z6rrc0000gn/T/ipykernel_37998/3282443379.py:24: PerformanceWarning: DataFrame is highly fragmented.  This is usually the result of calling `frame.insert` many times, which has poor performance.  Consider joining all columns at once using pd.concat(axis=1) instead. To get a de-fragmented frame, use `newframe = frame.copy()`\n",
      "  df_mark[get_rtn_col((int_lb, int_ub))] = np.log(ser2 / ser1)\n",
      "/var/folders/fv/6rc0c0r11hn6xpyhsr9z6rrc0000gn/T/ipykernel_37998/3282443379.py:24: PerformanceWarning: DataFrame is highly fragmented.  This is usually the result of calling `frame.insert` many times, which has poor performance.  Consider joining all columns at once using pd.concat(axis=1) instead. To get a de-fragmented frame, use `newframe = frame.copy()`\n",
      "  df_mark[get_rtn_col((int_lb, int_ub))] = np.log(ser2 / ser1)\n",
      "/var/folders/fv/6rc0c0r11hn6xpyhsr9z6rrc0000gn/T/ipykernel_37998/3282443379.py:24: PerformanceWarning: DataFrame is highly fragmented.  This is usually the result of calling `frame.insert` many times, which has poor performance.  Consider joining all columns at once using pd.concat(axis=1) instead. To get a de-fragmented frame, use `newframe = frame.copy()`\n",
      "  df_mark[get_rtn_col((int_lb, int_ub))] = np.log(ser2 / ser1)\n",
      "/var/folders/fv/6rc0c0r11hn6xpyhsr9z6rrc0000gn/T/ipykernel_37998/3282443379.py:24: PerformanceWarning: DataFrame is highly fragmented.  This is usually the result of calling `frame.insert` many times, which has poor performance.  Consider joining all columns at once using pd.concat(axis=1) instead. To get a de-fragmented frame, use `newframe = frame.copy()`\n",
      "  df_mark[get_rtn_col((int_lb, int_ub))] = np.log(ser2 / ser1)\n",
      "/var/folders/fv/6rc0c0r11hn6xpyhsr9z6rrc0000gn/T/ipykernel_37998/3282443379.py:24: PerformanceWarning: DataFrame is highly fragmented.  This is usually the result of calling `frame.insert` many times, which has poor performance.  Consider joining all columns at once using pd.concat(axis=1) instead. To get a de-fragmented frame, use `newframe = frame.copy()`\n",
      "  df_mark[get_rtn_col((int_lb, int_ub))] = np.log(ser2 / ser1)\n",
      "/var/folders/fv/6rc0c0r11hn6xpyhsr9z6rrc0000gn/T/ipykernel_37998/3282443379.py:24: PerformanceWarning: DataFrame is highly fragmented.  This is usually the result of calling `frame.insert` many times, which has poor performance.  Consider joining all columns at once using pd.concat(axis=1) instead. To get a de-fragmented frame, use `newframe = frame.copy()`\n",
      "  df_mark[get_rtn_col((int_lb, int_ub))] = np.log(ser2 / ser1)\n",
      "/var/folders/fv/6rc0c0r11hn6xpyhsr9z6rrc0000gn/T/ipykernel_37998/3282443379.py:24: PerformanceWarning: DataFrame is highly fragmented.  This is usually the result of calling `frame.insert` many times, which has poor performance.  Consider joining all columns at once using pd.concat(axis=1) instead. To get a de-fragmented frame, use `newframe = frame.copy()`\n",
      "  df_mark[get_rtn_col((int_lb, int_ub))] = np.log(ser2 / ser1)\n",
      "/var/folders/fv/6rc0c0r11hn6xpyhsr9z6rrc0000gn/T/ipykernel_37998/3282443379.py:24: PerformanceWarning: DataFrame is highly fragmented.  This is usually the result of calling `frame.insert` many times, which has poor performance.  Consider joining all columns at once using pd.concat(axis=1) instead. To get a de-fragmented frame, use `newframe = frame.copy()`\n",
      "  df_mark[get_rtn_col((int_lb, int_ub))] = np.log(ser2 / ser1)\n",
      "/var/folders/fv/6rc0c0r11hn6xpyhsr9z6rrc0000gn/T/ipykernel_37998/3282443379.py:24: PerformanceWarning: DataFrame is highly fragmented.  This is usually the result of calling `frame.insert` many times, which has poor performance.  Consider joining all columns at once using pd.concat(axis=1) instead. To get a de-fragmented frame, use `newframe = frame.copy()`\n",
      "  df_mark[get_rtn_col((int_lb, int_ub))] = np.log(ser2 / ser1)\n",
      "/var/folders/fv/6rc0c0r11hn6xpyhsr9z6rrc0000gn/T/ipykernel_37998/3282443379.py:24: PerformanceWarning: DataFrame is highly fragmented.  This is usually the result of calling `frame.insert` many times, which has poor performance.  Consider joining all columns at once using pd.concat(axis=1) instead. To get a de-fragmented frame, use `newframe = frame.copy()`\n",
      "  df_mark[get_rtn_col((int_lb, int_ub))] = np.log(ser2 / ser1)\n",
      "/var/folders/fv/6rc0c0r11hn6xpyhsr9z6rrc0000gn/T/ipykernel_37998/3282443379.py:24: PerformanceWarning: DataFrame is highly fragmented.  This is usually the result of calling `frame.insert` many times, which has poor performance.  Consider joining all columns at once using pd.concat(axis=1) instead. To get a de-fragmented frame, use `newframe = frame.copy()`\n",
      "  df_mark[get_rtn_col((int_lb, int_ub))] = np.log(ser2 / ser1)\n",
      "/var/folders/fv/6rc0c0r11hn6xpyhsr9z6rrc0000gn/T/ipykernel_37998/3282443379.py:24: PerformanceWarning: DataFrame is highly fragmented.  This is usually the result of calling `frame.insert` many times, which has poor performance.  Consider joining all columns at once using pd.concat(axis=1) instead. To get a de-fragmented frame, use `newframe = frame.copy()`\n",
      "  df_mark[get_rtn_col((int_lb, int_ub))] = np.log(ser2 / ser1)\n",
      "/var/folders/fv/6rc0c0r11hn6xpyhsr9z6rrc0000gn/T/ipykernel_37998/3282443379.py:24: PerformanceWarning: DataFrame is highly fragmented.  This is usually the result of calling `frame.insert` many times, which has poor performance.  Consider joining all columns at once using pd.concat(axis=1) instead. To get a de-fragmented frame, use `newframe = frame.copy()`\n",
      "  df_mark[get_rtn_col((int_lb, int_ub))] = np.log(ser2 / ser1)\n",
      "/var/folders/fv/6rc0c0r11hn6xpyhsr9z6rrc0000gn/T/ipykernel_37998/3282443379.py:24: PerformanceWarning: DataFrame is highly fragmented.  This is usually the result of calling `frame.insert` many times, which has poor performance.  Consider joining all columns at once using pd.concat(axis=1) instead. To get a de-fragmented frame, use `newframe = frame.copy()`\n",
      "  df_mark[get_rtn_col((int_lb, int_ub))] = np.log(ser2 / ser1)\n",
      "/var/folders/fv/6rc0c0r11hn6xpyhsr9z6rrc0000gn/T/ipykernel_37998/3282443379.py:24: PerformanceWarning: DataFrame is highly fragmented.  This is usually the result of calling `frame.insert` many times, which has poor performance.  Consider joining all columns at once using pd.concat(axis=1) instead. To get a de-fragmented frame, use `newframe = frame.copy()`\n",
      "  df_mark[get_rtn_col((int_lb, int_ub))] = np.log(ser2 / ser1)\n",
      "/var/folders/fv/6rc0c0r11hn6xpyhsr9z6rrc0000gn/T/ipykernel_37998/3282443379.py:24: PerformanceWarning: DataFrame is highly fragmented.  This is usually the result of calling `frame.insert` many times, which has poor performance.  Consider joining all columns at once using pd.concat(axis=1) instead. To get a de-fragmented frame, use `newframe = frame.copy()`\n",
      "  df_mark[get_rtn_col((int_lb, int_ub))] = np.log(ser2 / ser1)\n",
      "/var/folders/fv/6rc0c0r11hn6xpyhsr9z6rrc0000gn/T/ipykernel_37998/3282443379.py:24: PerformanceWarning: DataFrame is highly fragmented.  This is usually the result of calling `frame.insert` many times, which has poor performance.  Consider joining all columns at once using pd.concat(axis=1) instead. To get a de-fragmented frame, use `newframe = frame.copy()`\n",
      "  df_mark[get_rtn_col((int_lb, int_ub))] = np.log(ser2 / ser1)\n",
      "/var/folders/fv/6rc0c0r11hn6xpyhsr9z6rrc0000gn/T/ipykernel_37998/3282443379.py:24: PerformanceWarning: DataFrame is highly fragmented.  This is usually the result of calling `frame.insert` many times, which has poor performance.  Consider joining all columns at once using pd.concat(axis=1) instead. To get a de-fragmented frame, use `newframe = frame.copy()`\n",
      "  df_mark[get_rtn_col((int_lb, int_ub))] = np.log(ser2 / ser1)\n",
      "/var/folders/fv/6rc0c0r11hn6xpyhsr9z6rrc0000gn/T/ipykernel_37998/3282443379.py:24: PerformanceWarning: DataFrame is highly fragmented.  This is usually the result of calling `frame.insert` many times, which has poor performance.  Consider joining all columns at once using pd.concat(axis=1) instead. To get a de-fragmented frame, use `newframe = frame.copy()`\n",
      "  df_mark[get_rtn_col((int_lb, int_ub))] = np.log(ser2 / ser1)\n",
      "/var/folders/fv/6rc0c0r11hn6xpyhsr9z6rrc0000gn/T/ipykernel_37998/3282443379.py:24: PerformanceWarning: DataFrame is highly fragmented.  This is usually the result of calling `frame.insert` many times, which has poor performance.  Consider joining all columns at once using pd.concat(axis=1) instead. To get a de-fragmented frame, use `newframe = frame.copy()`\n",
      "  df_mark[get_rtn_col((int_lb, int_ub))] = np.log(ser2 / ser1)\n",
      "/var/folders/fv/6rc0c0r11hn6xpyhsr9z6rrc0000gn/T/ipykernel_37998/3282443379.py:24: PerformanceWarning: DataFrame is highly fragmented.  This is usually the result of calling `frame.insert` many times, which has poor performance.  Consider joining all columns at once using pd.concat(axis=1) instead. To get a de-fragmented frame, use `newframe = frame.copy()`\n",
      "  df_mark[get_rtn_col((int_lb, int_ub))] = np.log(ser2 / ser1)\n",
      "/var/folders/fv/6rc0c0r11hn6xpyhsr9z6rrc0000gn/T/ipykernel_37998/3282443379.py:24: PerformanceWarning: DataFrame is highly fragmented.  This is usually the result of calling `frame.insert` many times, which has poor performance.  Consider joining all columns at once using pd.concat(axis=1) instead. To get a de-fragmented frame, use `newframe = frame.copy()`\n",
      "  df_mark[get_rtn_col((int_lb, int_ub))] = np.log(ser2 / ser1)\n",
      "/var/folders/fv/6rc0c0r11hn6xpyhsr9z6rrc0000gn/T/ipykernel_37998/3282443379.py:24: PerformanceWarning: DataFrame is highly fragmented.  This is usually the result of calling `frame.insert` many times, which has poor performance.  Consider joining all columns at once using pd.concat(axis=1) instead. To get a de-fragmented frame, use `newframe = frame.copy()`\n",
      "  df_mark[get_rtn_col((int_lb, int_ub))] = np.log(ser2 / ser1)\n",
      "/var/folders/fv/6rc0c0r11hn6xpyhsr9z6rrc0000gn/T/ipykernel_37998/3282443379.py:24: PerformanceWarning: DataFrame is highly fragmented.  This is usually the result of calling `frame.insert` many times, which has poor performance.  Consider joining all columns at once using pd.concat(axis=1) instead. To get a de-fragmented frame, use `newframe = frame.copy()`\n",
      "  df_mark[get_rtn_col((int_lb, int_ub))] = np.log(ser2 / ser1)\n",
      "/var/folders/fv/6rc0c0r11hn6xpyhsr9z6rrc0000gn/T/ipykernel_37998/3282443379.py:24: PerformanceWarning: DataFrame is highly fragmented.  This is usually the result of calling `frame.insert` many times, which has poor performance.  Consider joining all columns at once using pd.concat(axis=1) instead. To get a de-fragmented frame, use `newframe = frame.copy()`\n",
      "  df_mark[get_rtn_col((int_lb, int_ub))] = np.log(ser2 / ser1)\n",
      "/var/folders/fv/6rc0c0r11hn6xpyhsr9z6rrc0000gn/T/ipykernel_37998/3282443379.py:24: PerformanceWarning: DataFrame is highly fragmented.  This is usually the result of calling `frame.insert` many times, which has poor performance.  Consider joining all columns at once using pd.concat(axis=1) instead. To get a de-fragmented frame, use `newframe = frame.copy()`\n",
      "  df_mark[get_rtn_col((int_lb, int_ub))] = np.log(ser2 / ser1)\n"
     ]
    },
    {
     "name": "stderr",
     "output_type": "stream",
     "text": [
      "/var/folders/fv/6rc0c0r11hn6xpyhsr9z6rrc0000gn/T/ipykernel_37998/3282443379.py:24: PerformanceWarning: DataFrame is highly fragmented.  This is usually the result of calling `frame.insert` many times, which has poor performance.  Consider joining all columns at once using pd.concat(axis=1) instead. To get a de-fragmented frame, use `newframe = frame.copy()`\n",
      "  df_mark[get_rtn_col((int_lb, int_ub))] = np.log(ser2 / ser1)\n",
      "/var/folders/fv/6rc0c0r11hn6xpyhsr9z6rrc0000gn/T/ipykernel_37998/3282443379.py:24: PerformanceWarning: DataFrame is highly fragmented.  This is usually the result of calling `frame.insert` many times, which has poor performance.  Consider joining all columns at once using pd.concat(axis=1) instead. To get a de-fragmented frame, use `newframe = frame.copy()`\n",
      "  df_mark[get_rtn_col((int_lb, int_ub))] = np.log(ser2 / ser1)\n"
     ]
    }
   ],
   "source": [
    "pred_windows = [(-5, 0)]\n",
    "\n",
    "resp_windows = create_windows(np.arange(0, 1000 + 1, 5))\n",
    "# create_windows(-1 * np.geomspace(1, 1200, 50).round().astype(int))\n",
    "\n",
    "\n",
    "df_mark1 = compute_marks(\n",
    "    df_bbo=df_index, \n",
    "    windows=pred_windows, \n",
    "    mid_col=\"mid\",\n",
    ")\n",
    "df_mark1 = df_mark1.add_suffix(\"_pred\")\n",
    "\n",
    "df_mark2 = compute_marks(\n",
    "    df_bbo=df_bbo_sym, \n",
    "    windows=resp_windows, \n",
    "    mid_col=\"mid\",\n",
    ")\n",
    "\n"
   ]
  },
  {
   "cell_type": "code",
   "execution_count": 751,
   "id": "de845eb8",
   "metadata": {
    "ExecuteTime": {
     "end_time": "2023-08-09T03:06:50.538544Z",
     "start_time": "2023-08-09T03:06:44.213975Z"
    }
   },
   "outputs": [],
   "source": [
    "# use various mark times\n",
    "\n",
    "all_data = []\n",
    "\n",
    "# get columns\n",
    "xcols = list( pd.Series(get_rtn_cols(pred_windows)) + \"_pred\" )\n",
    "ycols = get_rtn_cols(resp_windows)\n",
    "\n",
    "# add_suffix + merge + dropna\n",
    "df = df_mark1.merge(df_mark2, left_on=\"tick_pred\", right_on=\"tick\")\n",
    "df = df.dropna()\n",
    "\n",
    "\n",
    "all_data = []\n",
    "\n",
    "for ycol, resp_win in zip(ycols, resp_windows):\n",
    "\n",
    "    X = df[xcols]\n",
    "    y = df[ycol]\n",
    "\n",
    "    # indexes\n",
    "    all_windows = [pred_windows, resp_win]\n",
    "    keep_freq = max(np.max(wins) for wins in all_windows) - min(np.min(wins) for wins in all_windows)\n",
    "    idxs = np.arange(0, len(X), keep_freq)\n",
    "    X = X.iloc[idxs]\n",
    "    y = y.iloc[idxs]\n",
    "\n",
    "    model = LinearRegression(fit_intercept=False).fit(X, y)\n",
    "    betas = model.coef_[0]\n",
    "\n",
    "    ypred = model.predict(X)\n",
    "#     r2s = r2_score(y, ypred, multioutput=\"raw_values\")\n",
    "    r2s = r2_score(y, ypred)\n",
    "    \n",
    "    # fit ols\n",
    "    ols = sm.OLS(y, X).fit()\n",
    "    tstat = ols.tvalues[xcols[0]]\n",
    "    \n",
    "    # betas\n",
    "#     df_beta = pd.DataFrame({\"beta\": betas, \"window\": resp_windows})\n",
    "#     df_beta[\"avg_window\"] = -1 * df_beta[\"window\"].apply(lambda x: (x[0] + x[1]) / 2)\n",
    "#     df_beta\n",
    "\n",
    "    \n",
    "    all_data += [{\n",
    "        \"beta\": betas, \"r2\": r2s, \"tstat\": tstat, \n",
    "        \"keep_freq\": keep_freq, \n",
    "        \"resp_win1\": resp_win[0], \"resp_win2\": resp_win[1], \n",
    "        \"avg_win\": np.mean(resp_win),\n",
    "    }]\n",
    "    \n",
    "#     display(ols.summary())\n",
    "#     print(all_data)\n",
    "#     break\n",
    "    \n",
    "df_beta = pd.DataFrame(all_data)\n",
    "df_beta[\"abs_tstat\"] = df_beta[\"tstat\"].abs()"
   ]
  },
  {
   "cell_type": "code",
   "execution_count": 752,
   "id": "2646231a",
   "metadata": {
    "ExecuteTime": {
     "end_time": "2023-08-09T03:06:51.232976Z",
     "start_time": "2023-08-09T03:06:51.229425Z"
    }
   },
   "outputs": [],
   "source": [
    "from scipy.optimize import curve_fit"
   ]
  },
  {
   "cell_type": "code",
   "execution_count": 772,
   "id": "6230cf4f",
   "metadata": {
    "ExecuteTime": {
     "end_time": "2023-08-09T03:10:17.538989Z",
     "start_time": "2023-08-09T03:10:17.514583Z"
    }
   },
   "outputs": [
    {
     "data": {
      "text/plain": [
       "array([ 0.23486544, -0.02150556])"
      ]
     },
     "execution_count": 772,
     "metadata": {},
     "output_type": "execute_result"
    }
   ],
   "source": [
    "def exp_fn(x, a, b):\n",
    "    return a * np.exp(b * x)\n",
    "\n",
    "def fit_helper(p0):\n",
    "    return curve_fit(exp_fn, df_beta[\"avg_win\"], df_beta[\"beta\"], p0=p0)\n",
    "    \n",
    "\n",
    "popt, pcov = fit_helper(p0=(-2.5, 0.1))\n",
    "if round(popt[0], 6) == 0:\n",
    "    popt, pcov = fit_helper(p0=(-2.5, -0.1))\n",
    "    if round(popt[0], 6) == 0:\n",
    "        assert False, popt\n",
    "\n",
    "\n",
    "curve_fn = lambda x: exp_fn(x, *popt)\n",
    "\n",
    "popt"
   ]
  },
  {
   "cell_type": "code",
   "execution_count": 773,
   "id": "8747a0d9",
   "metadata": {
    "ExecuteTime": {
     "end_time": "2023-08-09T03:10:19.882933Z",
     "start_time": "2023-08-09T03:10:19.877186Z"
    }
   },
   "outputs": [
    {
     "data": {
      "text/plain": [
       "array([1.74, 2.18])"
      ]
     },
     "execution_count": 773,
     "metadata": {},
     "output_type": "execute_result"
    }
   ],
   "source": [
    "# predict betas\n",
    "df_beta[\"beta_pred\"] = curve_fn(df_beta[\"avg_win\"])\n",
    "\n",
    "# get contemp betas\n",
    "np.round([np.sum(df_beta[\"beta\"]), np.sum(df_beta[\"beta_pred\"])], 2)"
   ]
  },
  {
   "cell_type": "code",
   "execution_count": 780,
   "id": "74b212a9",
   "metadata": {
    "ExecuteTime": {
     "end_time": "2023-08-09T03:11:46.326509Z",
     "start_time": "2023-08-09T03:11:46.158111Z"
    }
   },
   "outputs": [
    {
     "data": {
      "text/plain": [
       "Text(0, 0.5, 'beta')"
      ]
     },
     "execution_count": 780,
     "metadata": {},
     "output_type": "execute_result"
    },
    {
     "data": {
      "image/png": "[encoded data removed]",
      "text/plain": [
       "<Figure size 640x480 with 1 Axes>"
      ]
     },
     "metadata": {},
     "output_type": "display_data"
    }
   ],
   "source": [
    "# windows vs betas\n",
    "plt.scatter(df_beta[\"avg_win\"], df_beta[\"beta\"])\n",
    "plt.plot(df_beta[\"avg_win\"], df_beta[\"beta_pred\"])\n",
    "\n",
    "plt.xlabel(\"avg_win\")\n",
    "plt.ylabel(\"beta\")"
   ]
  },
  {
   "cell_type": "code",
   "execution_count": 776,
   "id": "254aefe5",
   "metadata": {
    "ExecuteTime": {
     "end_time": "2023-08-09T03:10:36.243299Z",
     "start_time": "2023-08-09T03:10:36.237483Z"
    }
   },
   "outputs": [
    {
     "data": {
      "text/plain": [
       "(1.740083899386566, 2.1831777548951474)"
      ]
     },
     "execution_count": 776,
     "metadata": {},
     "output_type": "execute_result"
    }
   ],
   "source": [
    "# get contemp betas\n",
    "np.sum(df_beta[\"beta\"]), np.sum(df_beta[\"beta_pred\"])"
   ]
  },
  {
   "cell_type": "code",
   "execution_count": 787,
   "id": "2a9643a1",
   "metadata": {
    "ExecuteTime": {
     "end_time": "2023-08-09T03:21:51.379459Z",
     "start_time": "2023-08-09T03:21:51.375117Z"
    }
   },
   "outputs": [
    {
     "data": {
      "text/plain": [
       "2.1842296747276384"
      ]
     },
     "execution_count": 787,
     "metadata": {},
     "output_type": "execute_result"
    }
   ],
   "source": [
    "abs(popt[0] / popt[1]) / 5"
   ]
  },
  {
   "cell_type": "code",
   "execution_count": null,
   "id": "14b18313",
   "metadata": {},
   "outputs": [],
   "source": []
  },
  {
   "cell_type": "code",
   "execution_count": null,
   "id": "b190359f",
   "metadata": {},
   "outputs": [],
   "source": []
  },
  {
   "cell_type": "code",
   "execution_count": null,
   "id": "1ca2b79e",
   "metadata": {},
   "outputs": [],
   "source": []
  },
  {
   "cell_type": "code",
   "execution_count": null,
   "id": "ccb2106b",
   "metadata": {},
   "outputs": [],
   "source": []
  }
 ],
 "metadata": {
  "kernelspec": {
   "display_name": "Python 3 (ipykernel)",
   "language": "python",
   "name": "python3"
  },
  "language_info": {
   "codemirror_mode": {
    "name": "ipython",
    "version": 3
   },
   "file_extension": ".py",
   "mimetype": "text/x-python",
   "name": "python",
   "nbconvert_exporter": "python",
   "pygments_lexer": "ipython3",
   "version": "3.10.9"
  },
  "toc": {
   "base_numbering": 1,
   "nav_menu": {},
   "number_sections": true,
   "sideBar": true,
   "skip_h1_title": false,
   "title_cell": "Table of Contents",
   "title_sidebar": "Contents",
   "toc_cell": false,
   "toc_position": {
    "height": "calc(100% - 180px)",
    "left": "10px",
    "top": "150px",
    "width": "297.391px"
   },
   "toc_section_display": true,
   "toc_window_display": true
  },
  "varInspector": {
   "cols": {
    "lenName": 16,
    "lenType": 16,
    "lenVar": 40
   },
   "kernels_config": {
    "python": {
     "delete_cmd_postfix": "",
     "delete_cmd_prefix": "del ",
     "library": "var_list.py",
     "varRefreshCmd": "print(var_dic_list())"
    },
    "r": {
     "delete_cmd_postfix": ") ",
     "delete_cmd_prefix": "rm(",
     "library": "var_list.r",
     "varRefreshCmd": "cat(var_dic_list()) "
    }
   },
   "types_to_exclude": [
    "module",
    "function",
    "builtin_function_or_method",
    "instance",
    "_Feature"
   ],
   "window_display": false
  }
 },
 "nbformat": 4,
 "nbformat_minor": 5
}
