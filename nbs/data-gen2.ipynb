{
 "cells": [
  {
   "cell_type": "markdown",
   "id": "d1c7c216",
   "metadata": {},
   "source": [
    "# Ideas\n",
    "\n",
    "- investigate:\n",
    "    - nbbo spread effect on customer size\n",
    "    - nbbo spread effect on price\n",
    "    - momentum\n",
    "    - mean reversion\n",
    "    - beta to esa, beta to other stocks\n",
    "    - pairs trading"
   ]
  },
  {
   "cell_type": "code",
   "execution_count": 1,
   "id": "4388a9da",
   "metadata": {
    "ExecuteTime": {
     "end_time": "2023-08-09T00:22:07.589871Z",
     "start_time": "2023-08-09T00:22:07.584840Z"
    }
   },
   "outputs": [
    {
     "data": {
      "text/html": [
       "<style>.container { width:80% !important; }</style>"
      ],
      "text/plain": [
       "<IPython.core.display.HTML object>"
      ]
     },
     "metadata": {},
     "output_type": "display_data"
    }
   ],
   "source": [
    "from IPython.display import display, HTML\n",
    "display(HTML(\"<style>.container { width:80% !important; }</style>\"))"
   ]
  },
  {
   "cell_type": "code",
   "execution_count": 169,
   "id": "498ef301",
   "metadata": {
    "ExecuteTime": {
     "end_time": "2023-08-09T00:54:09.268919Z",
     "start_time": "2023-08-09T00:54:09.265955Z"
    }
   },
   "outputs": [],
   "source": [
    "import numpy as np\n",
    "import pandas as pd\n",
    "\n",
    "import matplotlib.pyplot as plt\n",
    "\n",
    "from sklearn.linear_model import LinearRegression\n",
    "from sklearn.metrics import r2_score\n",
    "\n",
    "# get statsmodels\n",
    "import statsmodels.api as sm"
   ]
  },
  {
   "cell_type": "markdown",
   "id": "e711692e",
   "metadata": {},
   "source": [
    "# Config"
   ]
  },
  {
   "cell_type": "code",
   "execution_count": 681,
   "id": "2b0b0a2a",
   "metadata": {
    "ExecuteTime": {
     "end_time": "2023-08-09T02:55:27.654236Z",
     "start_time": "2023-08-09T02:55:27.650713Z"
    }
   },
   "outputs": [],
   "source": [
    "_symbols = [\"QQQ\"]\n",
    "\n",
    "## time\n",
    "_num_ticks = 1000000\n",
    "\n",
    "## bbo generation\n",
    "_bbo_size = 1000\n",
    "\n",
    "_size_tick = 10\n",
    "_price_tick = 0.01"
   ]
  },
  {
   "cell_type": "code",
   "execution_count": 682,
   "id": "98876047",
   "metadata": {
    "ExecuteTime": {
     "end_time": "2023-08-09T02:55:28.443067Z",
     "start_time": "2023-08-09T02:55:28.440348Z"
    }
   },
   "outputs": [],
   "source": [
    "np.random.seed(0)"
   ]
  },
  {
   "cell_type": "code",
   "execution_count": 683,
   "id": "fdbd706a",
   "metadata": {
    "ExecuteTime": {
     "end_time": "2023-08-09T02:55:28.735917Z",
     "start_time": "2023-08-09T02:55:28.730532Z"
    }
   },
   "outputs": [],
   "source": [
    "def create_bbo(prices, fairs, symbol):\n",
    "    # create dataframe\n",
    "    df_bbo = pd.DataFrame({\"tick\": np.arange(_num_ticks), \"price\": prices, \"fair\": fairs})\n",
    "\n",
    "    # create bbo data, size weighted\n",
    "    df_bbo[\"symbol\"] = symbol\n",
    "\n",
    "    df_bbo[\"bid\"] = round((df_bbo[\"price\"] - _price_tick) / _price_tick) * _price_tick\n",
    "    df_bbo[\"ask\"] = round((df_bbo[\"price\"] + _price_tick) / _price_tick) * _price_tick\n",
    "\n",
    "    df_bbo[\"bidsz\"] = _bbo_size * (df_bbo[\"price\"] - df_bbo[\"bid\"]) / _price_tick\n",
    "    df_bbo[\"asksz\"] = _bbo_size - df_bbo[\"bidsz\"]\n",
    "\n",
    "    clean_fn = lambda x : np.maximum(_size_tick, x // _size_tick * _size_tick).astype(int)\n",
    "    df_bbo[\"bidsz\"] = clean_fn(df_bbo[\"bidsz\"])\n",
    "    df_bbo[\"asksz\"] = clean_fn(df_bbo[\"asksz\"])\n",
    "    \n",
    "    # mid calculations\n",
    "    df_bbo[\"mid\"] = df_bbo.eval(\"(bid + ask) / 2\")\n",
    "    df_bbo[\"smid\"] = df_bbo.eval(\"(bid * asksz + ask * bidsz) / (bidsz + asksz)\")\n",
    "\n",
    "    \n",
    "    return df_bbo"
   ]
  },
  {
   "cell_type": "code",
   "execution_count": 684,
   "id": "5ebfe33b",
   "metadata": {
    "ExecuteTime": {
     "end_time": "2023-08-09T02:55:29.193075Z",
     "start_time": "2023-08-09T02:55:29.189493Z"
    }
   },
   "outputs": [],
   "source": [
    "## Create QQQs\n",
    "# create time series data\n",
    "\n",
    "def create_liquid_bbo(symbol, initial_price, fair_stdev):\n",
    "    fair_chgs = np.random.normal(loc=0, scale=fair_stdev, size=_num_ticks)\n",
    "    fairs = initial_price * np.exp(np.cumsum(fair_chgs))\n",
    "\n",
    "    df_bbo = create_bbo(\n",
    "        prices=fairs,\n",
    "        fairs=fairs,\n",
    "        symbol=symbol,\n",
    "    )\n",
    "    \n",
    "    return df_bbo"
   ]
  },
  {
   "cell_type": "code",
   "execution_count": 685,
   "id": "6a0ec128",
   "metadata": {
    "ExecuteTime": {
     "end_time": "2023-08-09T02:55:29.735156Z",
     "start_time": "2023-08-09T02:55:29.430387Z"
    }
   },
   "outputs": [],
   "source": [
    "# create index\n",
    "df_index = create_liquid_bbo(\n",
    "    symbol=\"QQQ\",\n",
    "    initial_price=100,\n",
    "    fair_stdev=1e-4,\n",
    ")"
   ]
  },
  {
   "cell_type": "code",
   "execution_count": null,
   "id": "9abebe60",
   "metadata": {
    "ExecuteTime": {
     "end_time": "2023-08-09T02:55:29.782456Z",
     "start_time": "2023-08-09T02:55:29.782440Z"
    }
   },
   "outputs": [],
   "source": [
    "# create new bbos\n",
    "# symbol = \"Tech1\"\n",
    "# sym_beta = 2.5\n",
    "# sym_initial_price = 1000\n",
    "# sym_self_stdev = 1e-4\n",
    "# sym_converge_rate = 0.02\n",
    "\n",
    "def create_stock_bbo(symbol, df_index, beta, initial_price, fair_stdev, converge_rate):\n",
    "\n",
    "    fair_chgs_self = np.random.normal(loc=0, scale=fair_stdev, size=_num_ticks)\n",
    "    fairs_self = initial_price * np.exp(np.cumsum(fair_chgs_self))\n",
    "    \n",
    "    index_fair_chgs = np.log(df_index[\"fair\"] / df_index[\"fair\"].shift()).fillna(0)\n",
    "    \n",
    "    # compute fair from self-moves + index-moves\n",
    "    fairs = fairs_self * np.exp(beta * np.cumsum(index_fair_chgs))\n",
    "\n",
    "    # actual prices\n",
    "    cur_price = initial_price\n",
    "    prices = [cur_price]\n",
    "\n",
    "    for tick in range(1, _num_ticks):\n",
    "        # adjust to true fair\n",
    "        cur_price = cur_price + (fairs[tick] - cur_price) * converge_rate\n",
    "        prices += [cur_price]\n",
    "\n",
    "    prices = np.array(prices)\n",
    "\n",
    "    df_bbo = create_bbo(\n",
    "        prices=prices,\n",
    "        fairs=fairs,\n",
    "        symbol=symbol,\n",
    "    )\n",
    "    \n",
    "    return df_bbo"
   ]
  },
  {
   "cell_type": "code",
   "execution_count": 686,
   "id": "9b1a84c9",
   "metadata": {
    "ExecuteTime": {
     "end_time": "2023-08-09T02:55:32.525626Z",
     "start_time": "2023-08-09T02:55:30.127973Z"
    }
   },
   "outputs": [],
   "source": [
    "df_bbo_sym = create_stock_bbo(\n",
    "    symbol=\"Tech1\",\n",
    "    df_index=df_index,\n",
    "    beta=2.5,\n",
    "    initial_price=1000,\n",
    "    fair_stdev=1e-4,\n",
    "    converge_rate=0.02,\n",
    ")"
   ]
  },
  {
   "cell_type": "code",
   "execution_count": 687,
   "id": "21124b02",
   "metadata": {
    "ExecuteTime": {
     "end_time": "2023-08-09T02:55:36.028045Z",
     "start_time": "2023-08-09T02:55:35.455037Z"
    }
   },
   "outputs": [
    {
     "data": {
      "image/png": "[encoded data removed]",
      "text/plain": [
       "<Figure size 640x480 with 1 Axes>"
      ]
     },
     "metadata": {},
     "output_type": "display_data"
    },
    {
     "data": {
      "text/plain": [
       "[<matplotlib.lines.Line2D at 0x1357ed300>]"
      ]
     },
     "execution_count": 687,
     "metadata": {},
     "output_type": "execute_result"
    },
    {
     "data": {
      "image/png": "[encoded data removed]",
      "text/plain": [
       "<Figure size 640x480 with 1 Axes>"
      ]
     },
     "metadata": {},
     "output_type": "display_data"
    }
   ],
   "source": [
    "plt.plot(df_bbo_sym[\"fair\"])\n",
    "plt.plot(df_bbo_sym[\"price\"])\n",
    "plt.show()\n",
    "plt.plot(df_index[\"fair\"])"
   ]
  },
  {
   "cell_type": "code",
   "execution_count": 688,
   "id": "e736184a",
   "metadata": {
    "ExecuteTime": {
     "end_time": "2023-08-09T02:55:37.577847Z",
     "start_time": "2023-08-09T02:55:37.563167Z"
    }
   },
   "outputs": [
    {
     "data": {
      "text/html": [
       "<div>\n",
       "<style scoped>\n",
       "    .dataframe tbody tr th:only-of-type {\n",
       "        vertical-align: middle;\n",
       "    }\n",
       "\n",
       "    .dataframe tbody tr th {\n",
       "        vertical-align: top;\n",
       "    }\n",
       "\n",
       "    .dataframe thead th {\n",
       "        text-align: right;\n",
       "    }\n",
       "</style>\n",
       "<table border=\"1\" class=\"dataframe\">\n",
       "  <thead>\n",
       "    <tr style=\"text-align: right;\">\n",
       "      <th></th>\n",
       "      <th>tick</th>\n",
       "      <th>price</th>\n",
       "      <th>fair</th>\n",
       "      <th>symbol</th>\n",
       "      <th>bid</th>\n",
       "      <th>ask</th>\n",
       "      <th>bidsz</th>\n",
       "      <th>asksz</th>\n",
       "      <th>mid</th>\n",
       "      <th>smid</th>\n",
       "    </tr>\n",
       "  </thead>\n",
       "  <tbody>\n",
       "    <tr>\n",
       "      <th>0</th>\n",
       "      <td>0</td>\n",
       "      <td>1000.000000</td>\n",
       "      <td>1000.051426</td>\n",
       "      <td>Tech1</td>\n",
       "      <td>999.99</td>\n",
       "      <td>1000.01</td>\n",
       "      <td>990</td>\n",
       "      <td>10</td>\n",
       "      <td>1000.00</td>\n",
       "      <td>1000.009800</td>\n",
       "    </tr>\n",
       "    <tr>\n",
       "      <th>1</th>\n",
       "      <td>1</td>\n",
       "      <td>1000.005256</td>\n",
       "      <td>1000.262785</td>\n",
       "      <td>Tech1</td>\n",
       "      <td>1000.00</td>\n",
       "      <td>1000.02</td>\n",
       "      <td>520</td>\n",
       "      <td>470</td>\n",
       "      <td>1000.01</td>\n",
       "      <td>1000.010505</td>\n",
       "    </tr>\n",
       "    <tr>\n",
       "      <th>2</th>\n",
       "      <td>2</td>\n",
       "      <td>1000.016653</td>\n",
       "      <td>1000.575103</td>\n",
       "      <td>Tech1</td>\n",
       "      <td>1000.01</td>\n",
       "      <td>1000.03</td>\n",
       "      <td>660</td>\n",
       "      <td>330</td>\n",
       "      <td>1000.02</td>\n",
       "      <td>1000.023333</td>\n",
       "    </tr>\n",
       "    <tr>\n",
       "      <th>3</th>\n",
       "      <td>3</td>\n",
       "      <td>1000.037913</td>\n",
       "      <td>1001.079687</td>\n",
       "      <td>Tech1</td>\n",
       "      <td>1000.03</td>\n",
       "      <td>1000.05</td>\n",
       "      <td>790</td>\n",
       "      <td>200</td>\n",
       "      <td>1000.04</td>\n",
       "      <td>1000.045960</td>\n",
       "    </tr>\n",
       "    <tr>\n",
       "      <th>4</th>\n",
       "      <td>4</td>\n",
       "      <td>1000.066427</td>\n",
       "      <td>1001.463575</td>\n",
       "      <td>Tech1</td>\n",
       "      <td>1000.06</td>\n",
       "      <td>1000.08</td>\n",
       "      <td>640</td>\n",
       "      <td>350</td>\n",
       "      <td>1000.07</td>\n",
       "      <td>1000.072929</td>\n",
       "    </tr>\n",
       "    <tr>\n",
       "      <th>...</th>\n",
       "      <td>...</td>\n",
       "      <td>...</td>\n",
       "      <td>...</td>\n",
       "      <td>...</td>\n",
       "      <td>...</td>\n",
       "      <td>...</td>\n",
       "      <td>...</td>\n",
       "      <td>...</td>\n",
       "      <td>...</td>\n",
       "      <td>...</td>\n",
       "    </tr>\n",
       "    <tr>\n",
       "      <th>999995</th>\n",
       "      <td>999995</td>\n",
       "      <td>1500.177345</td>\n",
       "      <td>1503.738425</td>\n",
       "      <td>Tech1</td>\n",
       "      <td>1500.17</td>\n",
       "      <td>1500.19</td>\n",
       "      <td>730</td>\n",
       "      <td>260</td>\n",
       "      <td>1500.18</td>\n",
       "      <td>1500.184747</td>\n",
       "    </tr>\n",
       "    <tr>\n",
       "      <th>999996</th>\n",
       "      <td>999996</td>\n",
       "      <td>1500.247902</td>\n",
       "      <td>1503.705213</td>\n",
       "      <td>Tech1</td>\n",
       "      <td>1500.24</td>\n",
       "      <td>1500.26</td>\n",
       "      <td>790</td>\n",
       "      <td>200</td>\n",
       "      <td>1500.25</td>\n",
       "      <td>1500.255960</td>\n",
       "    </tr>\n",
       "    <tr>\n",
       "      <th>999997</th>\n",
       "      <td>999997</td>\n",
       "      <td>1500.305583</td>\n",
       "      <td>1503.131942</td>\n",
       "      <td>Tech1</td>\n",
       "      <td>1500.30</td>\n",
       "      <td>1500.32</td>\n",
       "      <td>550</td>\n",
       "      <td>440</td>\n",
       "      <td>1500.31</td>\n",
       "      <td>1500.311111</td>\n",
       "    </tr>\n",
       "    <tr>\n",
       "      <th>999998</th>\n",
       "      <td>999998</td>\n",
       "      <td>1500.367691</td>\n",
       "      <td>1503.410991</td>\n",
       "      <td>Tech1</td>\n",
       "      <td>1500.36</td>\n",
       "      <td>1500.38</td>\n",
       "      <td>760</td>\n",
       "      <td>230</td>\n",
       "      <td>1500.37</td>\n",
       "      <td>1500.375354</td>\n",
       "    </tr>\n",
       "    <tr>\n",
       "      <th>999999</th>\n",
       "      <td>999999</td>\n",
       "      <td>1500.437701</td>\n",
       "      <td>1503.868198</td>\n",
       "      <td>Tech1</td>\n",
       "      <td>1500.43</td>\n",
       "      <td>1500.45</td>\n",
       "      <td>770</td>\n",
       "      <td>220</td>\n",
       "      <td>1500.44</td>\n",
       "      <td>1500.445556</td>\n",
       "    </tr>\n",
       "  </tbody>\n",
       "</table>\n",
       "<p>1000000 rows × 10 columns</p>\n",
       "</div>"
      ],
      "text/plain": [
       "          tick        price         fair symbol      bid      ask  bidsz  \\\n",
       "0            0  1000.000000  1000.051426  Tech1   999.99  1000.01    990   \n",
       "1            1  1000.005256  1000.262785  Tech1  1000.00  1000.02    520   \n",
       "2            2  1000.016653  1000.575103  Tech1  1000.01  1000.03    660   \n",
       "3            3  1000.037913  1001.079687  Tech1  1000.03  1000.05    790   \n",
       "4            4  1000.066427  1001.463575  Tech1  1000.06  1000.08    640   \n",
       "...        ...          ...          ...    ...      ...      ...    ...   \n",
       "999995  999995  1500.177345  1503.738425  Tech1  1500.17  1500.19    730   \n",
       "999996  999996  1500.247902  1503.705213  Tech1  1500.24  1500.26    790   \n",
       "999997  999997  1500.305583  1503.131942  Tech1  1500.30  1500.32    550   \n",
       "999998  999998  1500.367691  1503.410991  Tech1  1500.36  1500.38    760   \n",
       "999999  999999  1500.437701  1503.868198  Tech1  1500.43  1500.45    770   \n",
       "\n",
       "        asksz      mid         smid  \n",
       "0          10  1000.00  1000.009800  \n",
       "1         470  1000.01  1000.010505  \n",
       "2         330  1000.02  1000.023333  \n",
       "3         200  1000.04  1000.045960  \n",
       "4         350  1000.07  1000.072929  \n",
       "...       ...      ...          ...  \n",
       "999995    260  1500.18  1500.184747  \n",
       "999996    200  1500.25  1500.255960  \n",
       "999997    440  1500.31  1500.311111  \n",
       "999998    230  1500.37  1500.375354  \n",
       "999999    220  1500.44  1500.445556  \n",
       "\n",
       "[1000000 rows x 10 columns]"
      ]
     },
     "execution_count": 688,
     "metadata": {},
     "output_type": "execute_result"
    }
   ],
   "source": [
    "df_bbo_sym"
   ]
  },
  {
   "cell_type": "code",
   "execution_count": 689,
   "id": "ca3f6b83",
   "metadata": {
    "ExecuteTime": {
     "end_time": "2023-08-09T02:55:38.712289Z",
     "start_time": "2023-08-09T02:55:38.671363Z"
    }
   },
   "outputs": [],
   "source": [
    "# get true betas\n",
    "stock_chgs = np.log(df_bbo_sym[\"fair\"].shift(-1) / df_bbo_sym[\"fair\"]).fillna(0)\n",
    "index_chgs = np.log(df_index[\"fair\"].shift(-1) / df_index[\"fair\"]).fillna(0)\n"
   ]
  },
  {
   "cell_type": "code",
   "execution_count": 690,
   "id": "eb607673",
   "metadata": {
    "ExecuteTime": {
     "end_time": "2023-08-09T02:55:39.320427Z",
     "start_time": "2023-08-09T02:55:39.250736Z"
    }
   },
   "outputs": [
    {
     "name": "stdout",
     "output_type": "stream",
     "text": [
      "beta 2.500621515481523\n",
      "r2 0.8623737726890452\n"
     ]
    }
   ],
   "source": [
    "X = index_chgs.to_numpy().reshape(len(index_chgs), 1)\n",
    "y = np.array(stock_chgs)\n",
    "\n",
    "\n",
    "model = LinearRegression(fit_intercept=False).fit(X, y)\n",
    "beta = model.coef_[0]\n",
    "r2 = model.score(X, y)\n",
    "\n",
    "print(\"beta\", beta)\n",
    "print(\"r2\", r2)\n"
   ]
  },
  {
   "cell_type": "code",
   "execution_count": null,
   "id": "4e160db1",
   "metadata": {},
   "outputs": [],
   "source": []
  },
  {
   "cell_type": "code",
   "execution_count": null,
   "id": "147711b4",
   "metadata": {
    "ExecuteTime": {
     "end_time": "2023-08-09T01:52:00.202796Z",
     "start_time": "2023-08-09T01:52:00.199009Z"
    }
   },
   "outputs": [],
   "source": []
  },
  {
   "cell_type": "code",
   "execution_count": 749,
   "id": "92dafd2e",
   "metadata": {
    "ExecuteTime": {
     "end_time": "2023-08-09T03:06:27.645261Z",
     "start_time": "2023-08-09T03:06:27.637324Z"
    }
   },
   "outputs": [],
   "source": [
    "\"\"\" HELPERS \"\"\"\n",
    "def create_windows(rng):\n",
    "    rng = sorted(set(list(rng) + [0]))\n",
    "    return [(rng[i], rng[i + 1]) for i in range(len(rng) - 1)]\n",
    "\n",
    "def get_rtn_col(window):\n",
    "    return f\"rtn_{window[0]}_{window[1]}s\"\n",
    "\n",
    "def get_rtn_cols(windows):\n",
    "    return [get_rtn_col(win) for win in windows]\n",
    "\n",
    "\n",
    "\n",
    "\n",
    "\n",
    "def compute_marks(df_bbo, windows, mid_col):\n",
    "    # init new df\n",
    "    df_mark = df_bbo[[\"tick\", \"symbol\", \"mid\", \"smid\"]].copy()\n",
    "    \n",
    "    # add marks for all mark_times\n",
    "    for int_lb, int_ub in windows:\n",
    "        ser1 = df_mark[mid_col].shift(-1 * int_lb)\n",
    "        ser2 = df_mark[mid_col].shift(-1 * int_ub)\n",
    "        df_mark[get_rtn_col((int_lb, int_ub))] = np.log(ser2 / ser1)\n",
    "\n",
    "    df_mark = df_mark.copy().dropna()\n",
    "    return df_mark\n",
    "\n"
   ]
  },
  {
   "cell_type": "code",
   "execution_count": 789,
   "id": "750df21d",
   "metadata": {
    "ExecuteTime": {
     "end_time": "2023-08-09T11:34:32.626326Z",
     "start_time": "2023-08-09T11:34:29.862032Z"
    }
   },
   "outputs": [],
   "source": [
    "pred_windows = [(-5, 0)]\n",
    "\n",
    "resp_windows = create_windows(np.arange(-5, 200 + 1, 5))\n",
    "# create_windows(-1 * np.geomspace(1, 1200, 50).round().astype(int))\n",
    "\n",
    "\n",
    "df_mark1 = compute_marks(\n",
    "    df_bbo=df_index, \n",
    "    windows=pred_windows, \n",
    "    mid_col=\"mid\",\n",
    ")\n",
    "df_mark1 = df_mark1.add_suffix(\"_pred\")\n",
    "\n",
    "df_mark2 = compute_marks(\n",
    "    df_bbo=df_bbo_sym, \n",
    "    windows=resp_windows, \n",
    "    mid_col=\"mid\",\n",
    ")\n",
    "\n"
   ]
  },
  {
   "cell_type": "code",
   "execution_count": 790,
   "id": "30c65572",
   "metadata": {
    "ExecuteTime": {
     "end_time": "2023-08-09T11:34:35.726858Z",
     "start_time": "2023-08-09T11:34:33.485418Z"
    }
   },
   "outputs": [],
   "source": [
    "# use various mark times\n",
    "\n",
    "all_data = []\n",
    "\n",
    "# get columns\n",
    "xcols = list( pd.Series(get_rtn_cols(pred_windows)) + \"_pred\" )\n",
    "ycols = get_rtn_cols(resp_windows)\n",
    "\n",
    "# add_suffix + merge + dropna\n",
    "df = df_mark1.merge(df_mark2, left_on=\"tick_pred\", right_on=\"tick\")\n",
    "df = df.dropna()\n",
    "\n",
    "\n",
    "all_data = []\n",
    "\n",
    "for ycol, resp_win in zip(ycols, resp_windows):\n",
    "\n",
    "    X = df[xcols]\n",
    "    y = df[ycol]\n",
    "\n",
    "    # indexes\n",
    "    all_windows = [pred_windows, resp_win]\n",
    "    keep_freq = max(np.max(wins) for wins in all_windows) - min(np.min(wins) for wins in all_windows)\n",
    "    idxs = np.arange(0, len(X), keep_freq)\n",
    "    X = X.iloc[idxs]\n",
    "    y = y.iloc[idxs]\n",
    "\n",
    "    model = LinearRegression(fit_intercept=False).fit(X, y)\n",
    "    betas = model.coef_[0]\n",
    "\n",
    "    ypred = model.predict(X)\n",
    "#     r2s = r2_score(y, ypred, multioutput=\"raw_values\")\n",
    "    r2s = r2_score(y, ypred)\n",
    "    \n",
    "    # fit ols\n",
    "    ols = sm.OLS(y, X).fit()\n",
    "    tstat = ols.tvalues[xcols[0]]\n",
    "    \n",
    "    # betas\n",
    "#     df_beta = pd.DataFrame({\"beta\": betas, \"window\": resp_windows})\n",
    "#     df_beta[\"avg_window\"] = -1 * df_beta[\"window\"].apply(lambda x: (x[0] + x[1]) / 2)\n",
    "#     df_beta\n",
    "\n",
    "    \n",
    "    all_data += [{\n",
    "        \"beta\": betas, \"r2\": r2s, \"tstat\": tstat, \n",
    "        \"keep_freq\": keep_freq, \n",
    "        \"resp_win1\": resp_win[0], \"resp_win2\": resp_win[1], \n",
    "        \"avg_win\": np.mean(resp_win),\n",
    "    }]\n",
    "    \n",
    "#     display(ols.summary())\n",
    "#     print(all_data)\n",
    "#     break\n",
    "    \n",
    "df_beta = pd.DataFrame(all_data)\n",
    "df_beta[\"abs_tstat\"] = df_beta[\"tstat\"].abs()"
   ]
  },
  {
   "cell_type": "code",
   "execution_count": 791,
   "id": "53d1df5d",
   "metadata": {
    "ExecuteTime": {
     "end_time": "2023-08-09T11:34:37.226308Z",
     "start_time": "2023-08-09T11:34:37.223835Z"
    }
   },
   "outputs": [],
   "source": [
    "from scipy.optimize import curve_fit"
   ]
  },
  {
   "cell_type": "code",
   "execution_count": 792,
   "id": "4748d22b",
   "metadata": {
    "ExecuteTime": {
     "end_time": "2023-08-09T11:34:37.632961Z",
     "start_time": "2023-08-09T11:34:37.576620Z"
    }
   },
   "outputs": [
    {
     "data": {
      "text/plain": [
       "array([ 0.20344563, -0.01854936])"
      ]
     },
     "execution_count": 792,
     "metadata": {},
     "output_type": "execute_result"
    }
   ],
   "source": [
    "def exp_fn(x, a, b):\n",
    "    return a * np.exp(b * x)\n",
    "\n",
    "def fit_helper(p0):\n",
    "    return curve_fit(exp_fn, df_beta[\"avg_win\"], df_beta[\"beta\"], p0=p0)\n",
    "    \n",
    "\n",
    "popt, pcov = fit_helper(p0=(-2.5, 0.1))\n",
    "if round(popt[0], 6) == 0:\n",
    "    popt, pcov = fit_helper(p0=(-2.5, -0.1))\n",
    "    if round(popt[0], 6) == 0:\n",
    "        assert False, popt\n",
    "\n",
    "\n",
    "curve_fn = lambda x: exp_fn(x, *popt)\n",
    "\n",
    "popt"
   ]
  },
  {
   "cell_type": "code",
   "execution_count": 793,
   "id": "3b0c2d3e",
   "metadata": {
    "ExecuteTime": {
     "end_time": "2023-08-09T11:34:38.046318Z",
     "start_time": "2023-08-09T11:34:38.039534Z"
    }
   },
   "outputs": [
    {
     "data": {
      "text/plain": [
       "array([2.3 , 2.35])"
      ]
     },
     "execution_count": 793,
     "metadata": {},
     "output_type": "execute_result"
    }
   ],
   "source": [
    "# predict betas\n",
    "df_beta[\"beta_pred\"] = curve_fn(df_beta[\"avg_win\"])\n",
    "\n",
    "# get contemp betas\n",
    "np.round([np.sum(df_beta[\"beta\"]), np.sum(df_beta[\"beta_pred\"])], 2)"
   ]
  },
  {
   "cell_type": "code",
   "execution_count": 794,
   "id": "5227f51f",
   "metadata": {
    "ExecuteTime": {
     "end_time": "2023-08-09T11:34:39.069139Z",
     "start_time": "2023-08-09T11:34:38.874824Z"
    }
   },
   "outputs": [
    {
     "data": {
      "text/plain": [
       "Text(0, 0.5, 'beta')"
      ]
     },
     "execution_count": 794,
     "metadata": {},
     "output_type": "execute_result"
    },
    {
     "data": {
      "image/png": "[encoded data removed]",
      "text/plain": [
       "<Figure size 640x480 with 1 Axes>"
      ]
     },
     "metadata": {},
     "output_type": "display_data"
    }
   ],
   "source": [
    "# windows vs betas\n",
    "plt.scatter(df_beta[\"avg_win\"], df_beta[\"beta\"])\n",
    "plt.plot(df_beta[\"avg_win\"], df_beta[\"beta_pred\"])\n",
    "\n",
    "plt.xlabel(\"avg_win\")\n",
    "plt.ylabel(\"beta\")"
   ]
  },
  {
   "cell_type": "code",
   "execution_count": 795,
   "id": "48c75cab",
   "metadata": {
    "ExecuteTime": {
     "end_time": "2023-08-09T11:34:41.373266Z",
     "start_time": "2023-08-09T11:34:41.369096Z"
    }
   },
   "outputs": [
    {
     "data": {
      "text/plain": [
       "(2.301785883605321, 2.3521957724658433)"
      ]
     },
     "execution_count": 795,
     "metadata": {},
     "output_type": "execute_result"
    }
   ],
   "source": [
    "# get contemp betas\n",
    "np.sum(df_beta[\"beta\"]), np.sum(df_beta[\"beta_pred\"])"
   ]
  },
  {
   "cell_type": "code",
   "execution_count": 796,
   "id": "51f848dc",
   "metadata": {
    "ExecuteTime": {
     "end_time": "2023-08-09T11:34:41.628220Z",
     "start_time": "2023-08-09T11:34:41.622680Z"
    }
   },
   "outputs": [
    {
     "data": {
      "text/plain": [
       "2.193560110338404"
      ]
     },
     "execution_count": 796,
     "metadata": {},
     "output_type": "execute_result"
    }
   ],
   "source": [
    "abs(popt[0] / popt[1]) / 5"
   ]
  },
  {
   "cell_type": "markdown",
   "id": "626df3e2",
   "metadata": {},
   "source": [
    "- check if big bid/ask is still strong signal in yesterday's data\n",
    "- check if "
   ]
  },
  {
   "cell_type": "code",
   "execution_count": null,
   "id": "b190359f",
   "metadata": {},
   "outputs": [],
   "source": []
  },
  {
   "cell_type": "code",
   "execution_count": null,
   "id": "1ca2b79e",
   "metadata": {},
   "outputs": [],
   "source": []
  },
  {
   "cell_type": "code",
   "execution_count": null,
   "id": "4523c204",
   "metadata": {},
   "outputs": [],
   "source": []
  },
  {
   "cell_type": "code",
   "execution_count": null,
   "id": "8e527cb5",
   "metadata": {},
   "outputs": [],
   "source": []
  },
  {
   "cell_type": "code",
   "execution_count": 802,
   "id": "63398acf",
   "metadata": {
    "ExecuteTime": {
     "end_time": "2023-08-11T02:24:11.183062Z",
     "start_time": "2023-08-11T02:24:11.179856Z"
    }
   },
   "outputs": [],
   "source": [
    "## test closing strategies\n",
    "\n",
    "fair = 100\n",
    "initial_price = 100\n",
    "initial_shares = 10000\n",
    "\n",
    "impact = 0.1 # buying 1 dollar moves share by 0.1\n",
    "discount_factor = 0.01 # 1% per step\n",
    "\n",
    "timesteps = 10000\n"
   ]
  },
  {
   "cell_type": "code",
   "execution_count": 868,
   "id": "83c12827",
   "metadata": {
    "ExecuteTime": {
     "end_time": "2023-08-11T02:37:35.063502Z",
     "start_time": "2023-08-11T02:37:35.060056Z"
    }
   },
   "outputs": [],
   "source": [
    "def close_fractional(\n",
    "    fair, \n",
    "    cur_price, \n",
    "    cur_shares, \n",
    "    time_left, \n",
    "    discount_factor, \n",
    "    impact,\n",
    "):\n",
    "    \n",
    "    return cur_shares / time_left\n",
    "\n",
    "def close_strat2(\n",
    "    fair, \n",
    "    cur_price, \n",
    "    cur_shares, \n",
    "    time_left, \n",
    "    discount_factor, \n",
    "    impact,\n",
    "):\n",
    "    if time_left == 1:\n",
    "        return cur_shares\n",
    "    \n",
    "    size = cur_shares * (1 / (time_left * 2))\n",
    "    return size\n",
    "    \n",
    "    "
   ]
  },
  {
   "cell_type": "code",
   "execution_count": 869,
   "id": "1a5d6386",
   "metadata": {
    "ExecuteTime": {
     "end_time": "2023-08-11T02:37:35.389859Z",
     "start_time": "2023-08-11T02:37:35.384003Z"
    }
   },
   "outputs": [],
   "source": [
    "# constant closing\n",
    "\n",
    "def test_closing_strategy(\n",
    "    close_fn,\n",
    "    fair, \n",
    "    initial_price, \n",
    "    initial_shares, \n",
    "    timesteps, \n",
    "    discount_factor, \n",
    "    impact, \n",
    "):\n",
    "    cur_price = initial_price\n",
    "    cur_shares = initial_shares\n",
    "    \n",
    "    all_data = []\n",
    "    for t in range(timesteps):\n",
    "        # move to fair\n",
    "        cur_price = cur_price + (fair - cur_price) * discount_factor\n",
    "\n",
    "        # get trades\n",
    "        trade_size = close_fn(\n",
    "            fair, \n",
    "            cur_price, \n",
    "            cur_shares, \n",
    "            time_left=timesteps - t,\n",
    "            discount_factor=discount_factor,\n",
    "            impact=impact,\n",
    "        )\n",
    "        \n",
    "        # apply trade\n",
    "        new_price = cur_price + trade_size * impact\n",
    "        trade_price = (cur_price + new_price) / 2\n",
    "\n",
    "        cur_shares -= trade_size\n",
    "        cur_price = new_price\n",
    "\n",
    "        all_data += [{\"time\": t, \"price\": cur_price, \"trade_price\": trade_price, \"trade_size\": trade_size, \"cur_shares\": cur_shares}]\n",
    "\n",
    "    assert cur_shares == 0\n",
    "    \n",
    "    df_tick = pd.DataFrame(all_data)\n",
    "    avg_price = df_tick.eval(\"trade_price * trade_size\").sum() / df_tick[\"trade_size\"].sum()\n",
    "    \n",
    "    \n",
    "    return df_tick, avg_price"
   ]
  },
  {
   "cell_type": "code",
   "execution_count": 883,
   "id": "01ec7557",
   "metadata": {
    "ExecuteTime": {
     "end_time": "2023-08-11T02:47:37.170630Z",
     "start_time": "2023-08-11T02:47:03.629987Z"
    }
   },
   "outputs": [
    {
     "data": {
      "text/plain": [
       "<matplotlib.legend.Legend at 0x13895a0b0>"
      ]
     },
     "execution_count": 883,
     "metadata": {},
     "output_type": "execute_result"
    },
    {
     "data": {
      "image/png": "[encoded data removed]",
      "text/plain": [
       "<Figure size 640x480 with 1 Axes>"
      ]
     },
     "metadata": {},
     "output_type": "display_data"
    }
   ],
   "source": [
    "for discount_factor in np.arange(0.01, 0.2, 0.01):\n",
    "    all_data = []\n",
    "    \n",
    "    for total_impact in range(100):\n",
    "\n",
    "        initial_shares = 10000\n",
    "        impact = total_impact / initial_shares\n",
    "\n",
    "        df_tick1, avg1 = test_closing_strategy(\n",
    "            close_fn=close_fractional,\n",
    "            fair=100,\n",
    "            initial_price=100,\n",
    "            initial_shares=initial_shares,\n",
    "            timesteps=10000,\n",
    "            discount_factor=discount_factor,\n",
    "            impact=impact,\n",
    "        )\n",
    "\n",
    "        all_data += [{\"total_impact\": total_impact, \"impact\": impact, \"avg_price\": avg1}]\n",
    "\n",
    "    df_res = pd.DataFrame(all_data)\n",
    "    plt.plot(df_res[\"avg_price\"], label=f\"{discount_factor}\")\n",
    "    \n",
    "plt.legend()"
   ]
  },
  {
   "cell_type": "code",
   "execution_count": 884,
   "id": "1fe2df9c",
   "metadata": {
    "ExecuteTime": {
     "end_time": "2023-08-11T02:47:53.397676Z",
     "start_time": "2023-08-11T02:47:53.388736Z"
    }
   },
   "outputs": [
    {
     "data": {
      "text/html": [
       "<div>\n",
       "<style scoped>\n",
       "    .dataframe tbody tr th:only-of-type {\n",
       "        vertical-align: middle;\n",
       "    }\n",
       "\n",
       "    .dataframe tbody tr th {\n",
       "        vertical-align: top;\n",
       "    }\n",
       "\n",
       "    .dataframe thead th {\n",
       "        text-align: right;\n",
       "    }\n",
       "</style>\n",
       "<table border=\"1\" class=\"dataframe\">\n",
       "  <thead>\n",
       "    <tr style=\"text-align: right;\">\n",
       "      <th></th>\n",
       "      <th>total_impact</th>\n",
       "      <th>impact</th>\n",
       "      <th>avg_price</th>\n",
       "    </tr>\n",
       "  </thead>\n",
       "  <tbody>\n",
       "    <tr>\n",
       "      <th>0</th>\n",
       "      <td>0</td>\n",
       "      <td>0.0000</td>\n",
       "      <td>100.000000</td>\n",
       "    </tr>\n",
       "    <tr>\n",
       "      <th>1</th>\n",
       "      <td>1</td>\n",
       "      <td>0.0001</td>\n",
       "      <td>100.000476</td>\n",
       "    </tr>\n",
       "    <tr>\n",
       "      <th>2</th>\n",
       "      <td>2</td>\n",
       "      <td>0.0002</td>\n",
       "      <td>100.000952</td>\n",
       "    </tr>\n",
       "    <tr>\n",
       "      <th>3</th>\n",
       "      <td>3</td>\n",
       "      <td>0.0003</td>\n",
       "      <td>100.001428</td>\n",
       "    </tr>\n",
       "    <tr>\n",
       "      <th>4</th>\n",
       "      <td>4</td>\n",
       "      <td>0.0004</td>\n",
       "      <td>100.001904</td>\n",
       "    </tr>\n",
       "    <tr>\n",
       "      <th>...</th>\n",
       "      <td>...</td>\n",
       "      <td>...</td>\n",
       "      <td>...</td>\n",
       "    </tr>\n",
       "    <tr>\n",
       "      <th>95</th>\n",
       "      <td>95</td>\n",
       "      <td>0.0095</td>\n",
       "      <td>100.045229</td>\n",
       "    </tr>\n",
       "    <tr>\n",
       "      <th>96</th>\n",
       "      <td>96</td>\n",
       "      <td>0.0096</td>\n",
       "      <td>100.045705</td>\n",
       "    </tr>\n",
       "    <tr>\n",
       "      <th>97</th>\n",
       "      <td>97</td>\n",
       "      <td>0.0097</td>\n",
       "      <td>100.046181</td>\n",
       "    </tr>\n",
       "    <tr>\n",
       "      <th>98</th>\n",
       "      <td>98</td>\n",
       "      <td>0.0098</td>\n",
       "      <td>100.046657</td>\n",
       "    </tr>\n",
       "    <tr>\n",
       "      <th>99</th>\n",
       "      <td>99</td>\n",
       "      <td>0.0099</td>\n",
       "      <td>100.047133</td>\n",
       "    </tr>\n",
       "  </tbody>\n",
       "</table>\n",
       "<p>100 rows × 3 columns</p>\n",
       "</div>"
      ],
      "text/plain": [
       "    total_impact  impact   avg_price\n",
       "0              0  0.0000  100.000000\n",
       "1              1  0.0001  100.000476\n",
       "2              2  0.0002  100.000952\n",
       "3              3  0.0003  100.001428\n",
       "4              4  0.0004  100.001904\n",
       "..           ...     ...         ...\n",
       "95            95  0.0095  100.045229\n",
       "96            96  0.0096  100.045705\n",
       "97            97  0.0097  100.046181\n",
       "98            98  0.0098  100.046657\n",
       "99            99  0.0099  100.047133\n",
       "\n",
       "[100 rows x 3 columns]"
      ]
     },
     "execution_count": 884,
     "metadata": {},
     "output_type": "execute_result"
    }
   ],
   "source": [
    "df_res"
   ]
  },
  {
   "cell_type": "code",
   "execution_count": null,
   "id": "f85e6f3a",
   "metadata": {},
   "outputs": [],
   "source": [
    "plt.plot()"
   ]
  },
  {
   "cell_type": "code",
   "execution_count": 886,
   "id": "c47a1cab",
   "metadata": {
    "ExecuteTime": {
     "end_time": "2023-08-11T02:48:32.011519Z",
     "start_time": "2023-08-11T02:48:32.001617Z"
    }
   },
   "outputs": [
    {
     "data": {
      "text/html": [
       "<div>\n",
       "<style scoped>\n",
       "    .dataframe tbody tr th:only-of-type {\n",
       "        vertical-align: middle;\n",
       "    }\n",
       "\n",
       "    .dataframe tbody tr th {\n",
       "        vertical-align: top;\n",
       "    }\n",
       "\n",
       "    .dataframe thead th {\n",
       "        text-align: right;\n",
       "    }\n",
       "</style>\n",
       "<table border=\"1\" class=\"dataframe\">\n",
       "  <thead>\n",
       "    <tr style=\"text-align: right;\">\n",
       "      <th></th>\n",
       "      <th>time</th>\n",
       "      <th>price</th>\n",
       "      <th>trade_price</th>\n",
       "      <th>trade_size</th>\n",
       "      <th>cur_shares</th>\n",
       "    </tr>\n",
       "  </thead>\n",
       "  <tbody>\n",
       "    <tr>\n",
       "      <th>0</th>\n",
       "      <td>0</td>\n",
       "      <td>100.009900</td>\n",
       "      <td>100.004950</td>\n",
       "      <td>1.0</td>\n",
       "      <td>9999.0</td>\n",
       "    </tr>\n",
       "    <tr>\n",
       "      <th>1</th>\n",
       "      <td>1</td>\n",
       "      <td>100.017919</td>\n",
       "      <td>100.012969</td>\n",
       "      <td>1.0</td>\n",
       "      <td>9998.0</td>\n",
       "    </tr>\n",
       "    <tr>\n",
       "      <th>2</th>\n",
       "      <td>2</td>\n",
       "      <td>100.024414</td>\n",
       "      <td>100.019464</td>\n",
       "      <td>1.0</td>\n",
       "      <td>9997.0</td>\n",
       "    </tr>\n",
       "    <tr>\n",
       "      <th>3</th>\n",
       "      <td>3</td>\n",
       "      <td>100.029676</td>\n",
       "      <td>100.024726</td>\n",
       "      <td>1.0</td>\n",
       "      <td>9996.0</td>\n",
       "    </tr>\n",
       "    <tr>\n",
       "      <th>4</th>\n",
       "      <td>4</td>\n",
       "      <td>100.033937</td>\n",
       "      <td>100.028987</td>\n",
       "      <td>1.0</td>\n",
       "      <td>9995.0</td>\n",
       "    </tr>\n",
       "    <tr>\n",
       "      <th>...</th>\n",
       "      <td>...</td>\n",
       "      <td>...</td>\n",
       "      <td>...</td>\n",
       "      <td>...</td>\n",
       "      <td>...</td>\n",
       "    </tr>\n",
       "    <tr>\n",
       "      <th>9995</th>\n",
       "      <td>9995</td>\n",
       "      <td>100.052105</td>\n",
       "      <td>100.047155</td>\n",
       "      <td>1.0</td>\n",
       "      <td>4.0</td>\n",
       "    </tr>\n",
       "    <tr>\n",
       "      <th>9996</th>\n",
       "      <td>9996</td>\n",
       "      <td>100.052105</td>\n",
       "      <td>100.047155</td>\n",
       "      <td>1.0</td>\n",
       "      <td>3.0</td>\n",
       "    </tr>\n",
       "    <tr>\n",
       "      <th>9997</th>\n",
       "      <td>9997</td>\n",
       "      <td>100.052105</td>\n",
       "      <td>100.047155</td>\n",
       "      <td>1.0</td>\n",
       "      <td>2.0</td>\n",
       "    </tr>\n",
       "    <tr>\n",
       "      <th>9998</th>\n",
       "      <td>9998</td>\n",
       "      <td>100.052105</td>\n",
       "      <td>100.047155</td>\n",
       "      <td>1.0</td>\n",
       "      <td>1.0</td>\n",
       "    </tr>\n",
       "    <tr>\n",
       "      <th>9999</th>\n",
       "      <td>9999</td>\n",
       "      <td>100.052105</td>\n",
       "      <td>100.047155</td>\n",
       "      <td>1.0</td>\n",
       "      <td>0.0</td>\n",
       "    </tr>\n",
       "  </tbody>\n",
       "</table>\n",
       "<p>10000 rows × 5 columns</p>\n",
       "</div>"
      ],
      "text/plain": [
       "      time       price  trade_price  trade_size  cur_shares\n",
       "0        0  100.009900   100.004950         1.0      9999.0\n",
       "1        1  100.017919   100.012969         1.0      9998.0\n",
       "2        2  100.024414   100.019464         1.0      9997.0\n",
       "3        3  100.029676   100.024726         1.0      9996.0\n",
       "4        4  100.033937   100.028987         1.0      9995.0\n",
       "...    ...         ...          ...         ...         ...\n",
       "9995  9995  100.052105   100.047155         1.0         4.0\n",
       "9996  9996  100.052105   100.047155         1.0         3.0\n",
       "9997  9997  100.052105   100.047155         1.0         2.0\n",
       "9998  9998  100.052105   100.047155         1.0         1.0\n",
       "9999  9999  100.052105   100.047155         1.0         0.0\n",
       "\n",
       "[10000 rows x 5 columns]"
      ]
     },
     "execution_count": 886,
     "metadata": {},
     "output_type": "execute_result"
    }
   ],
   "source": [
    "df_tick1"
   ]
  },
  {
   "cell_type": "code",
   "execution_count": null,
   "id": "70fb7863",
   "metadata": {},
   "outputs": [],
   "source": []
  },
  {
   "cell_type": "code",
   "execution_count": null,
   "id": "b962e2a0",
   "metadata": {},
   "outputs": [],
   "source": []
  },
  {
   "cell_type": "code",
   "execution_count": null,
   "id": "2bcd8091",
   "metadata": {},
   "outputs": [],
   "source": []
  },
  {
   "cell_type": "code",
   "execution_count": null,
   "id": "b9a6ae1c",
   "metadata": {},
   "outputs": [],
   "source": []
  },
  {
   "cell_type": "code",
   "execution_count": null,
   "id": "1f096b03",
   "metadata": {},
   "outputs": [],
   "source": []
  },
  {
   "cell_type": "code",
   "execution_count": null,
   "id": "589e581b",
   "metadata": {},
   "outputs": [],
   "source": []
  },
  {
   "cell_type": "code",
   "execution_count": null,
   "id": "edcdf195",
   "metadata": {},
   "outputs": [],
   "source": []
  },
  {
   "cell_type": "code",
   "execution_count": null,
   "id": "9a2a01cd",
   "metadata": {},
   "outputs": [],
   "source": []
  },
  {
   "cell_type": "code",
   "execution_count": null,
   "id": "609bf06b",
   "metadata": {},
   "outputs": [],
   "source": []
  },
  {
   "cell_type": "code",
   "execution_count": 871,
   "id": "f9916b60",
   "metadata": {
    "ExecuteTime": {
     "end_time": "2023-08-11T02:37:36.311189Z",
     "start_time": "2023-08-11T02:37:36.308387Z"
    }
   },
   "outputs": [
    {
     "name": "stdout",
     "output_type": "stream",
     "text": [
      "109.85099999999893 116.3425323964409\n"
     ]
    }
   ],
   "source": [
    "print(avg1, avg2)"
   ]
  },
  {
   "cell_type": "code",
   "execution_count": 872,
   "id": "4cc047a7",
   "metadata": {
    "ExecuteTime": {
     "end_time": "2023-08-11T02:37:37.177745Z",
     "start_time": "2023-08-11T02:37:37.168575Z"
    }
   },
   "outputs": [
    {
     "data": {
      "text/html": [
       "<div>\n",
       "<style scoped>\n",
       "    .dataframe tbody tr th:only-of-type {\n",
       "        vertical-align: middle;\n",
       "    }\n",
       "\n",
       "    .dataframe tbody tr th {\n",
       "        vertical-align: top;\n",
       "    }\n",
       "\n",
       "    .dataframe thead th {\n",
       "        text-align: right;\n",
       "    }\n",
       "</style>\n",
       "<table border=\"1\" class=\"dataframe\">\n",
       "  <thead>\n",
       "    <tr style=\"text-align: right;\">\n",
       "      <th></th>\n",
       "      <th>time</th>\n",
       "      <th>price</th>\n",
       "      <th>trade_price</th>\n",
       "      <th>trade_size</th>\n",
       "      <th>cur_shares</th>\n",
       "    </tr>\n",
       "  </thead>\n",
       "  <tbody>\n",
       "    <tr>\n",
       "      <th>0</th>\n",
       "      <td>0</td>\n",
       "      <td>100.050000</td>\n",
       "      <td>100.025000</td>\n",
       "      <td>0.500000</td>\n",
       "      <td>9999.500000</td>\n",
       "    </tr>\n",
       "    <tr>\n",
       "      <th>1</th>\n",
       "      <td>1</td>\n",
       "      <td>100.099503</td>\n",
       "      <td>100.074501</td>\n",
       "      <td>0.500025</td>\n",
       "      <td>9998.999975</td>\n",
       "    </tr>\n",
       "    <tr>\n",
       "      <th>2</th>\n",
       "      <td>2</td>\n",
       "      <td>100.148512</td>\n",
       "      <td>100.123510</td>\n",
       "      <td>0.500050</td>\n",
       "      <td>9998.499925</td>\n",
       "    </tr>\n",
       "    <tr>\n",
       "      <th>3</th>\n",
       "      <td>3</td>\n",
       "      <td>100.197035</td>\n",
       "      <td>100.172031</td>\n",
       "      <td>0.500075</td>\n",
       "      <td>9997.999850</td>\n",
       "    </tr>\n",
       "    <tr>\n",
       "      <th>4</th>\n",
       "      <td>4</td>\n",
       "      <td>100.245075</td>\n",
       "      <td>100.220070</td>\n",
       "      <td>0.500100</td>\n",
       "      <td>9997.499750</td>\n",
       "    </tr>\n",
       "    <tr>\n",
       "      <th>...</th>\n",
       "      <td>...</td>\n",
       "      <td>...</td>\n",
       "      <td>...</td>\n",
       "      <td>...</td>\n",
       "      <td>...</td>\n",
       "    </tr>\n",
       "    <tr>\n",
       "      <th>9995</th>\n",
       "      <td>9995</td>\n",
       "      <td>171.384078</td>\n",
       "      <td>170.237802</td>\n",
       "      <td>22.925512</td>\n",
       "      <td>206.329611</td>\n",
       "    </tr>\n",
       "    <tr>\n",
       "      <th>9996</th>\n",
       "      <td>9996</td>\n",
       "      <td>173.249357</td>\n",
       "      <td>171.959797</td>\n",
       "      <td>25.791201</td>\n",
       "      <td>180.538410</td>\n",
       "    </tr>\n",
       "    <tr>\n",
       "      <th>9997</th>\n",
       "      <td>9997</td>\n",
       "      <td>175.525837</td>\n",
       "      <td>174.021350</td>\n",
       "      <td>30.089735</td>\n",
       "      <td>150.448675</td>\n",
       "    </tr>\n",
       "    <tr>\n",
       "      <th>9998</th>\n",
       "      <td>9998</td>\n",
       "      <td>178.531796</td>\n",
       "      <td>176.651187</td>\n",
       "      <td>37.612169</td>\n",
       "      <td>112.836506</td>\n",
       "    </tr>\n",
       "    <tr>\n",
       "      <th>9999</th>\n",
       "      <td>9999</td>\n",
       "      <td>189.030128</td>\n",
       "      <td>183.388303</td>\n",
       "      <td>112.836506</td>\n",
       "      <td>0.000000</td>\n",
       "    </tr>\n",
       "  </tbody>\n",
       "</table>\n",
       "<p>10000 rows × 5 columns</p>\n",
       "</div>"
      ],
      "text/plain": [
       "      time       price  trade_price  trade_size   cur_shares\n",
       "0        0  100.050000   100.025000    0.500000  9999.500000\n",
       "1        1  100.099503   100.074501    0.500025  9998.999975\n",
       "2        2  100.148512   100.123510    0.500050  9998.499925\n",
       "3        3  100.197035   100.172031    0.500075  9997.999850\n",
       "4        4  100.245075   100.220070    0.500100  9997.499750\n",
       "...    ...         ...          ...         ...          ...\n",
       "9995  9995  171.384078   170.237802   22.925512   206.329611\n",
       "9996  9996  173.249357   171.959797   25.791201   180.538410\n",
       "9997  9997  175.525837   174.021350   30.089735   150.448675\n",
       "9998  9998  178.531796   176.651187   37.612169   112.836506\n",
       "9999  9999  189.030128   183.388303  112.836506     0.000000\n",
       "\n",
       "[10000 rows x 5 columns]"
      ]
     },
     "execution_count": 872,
     "metadata": {},
     "output_type": "execute_result"
    }
   ],
   "source": [
    "df_tick2"
   ]
  },
  {
   "cell_type": "code",
   "execution_count": null,
   "id": "5456817e",
   "metadata": {},
   "outputs": [],
   "source": []
  },
  {
   "cell_type": "code",
   "execution_count": null,
   "id": "675475d7",
   "metadata": {},
   "outputs": [],
   "source": []
  },
  {
   "cell_type": "code",
   "execution_count": null,
   "id": "76953f7e",
   "metadata": {},
   "outputs": [],
   "source": [
    "# get avg trade price\n"
   ]
  },
  {
   "cell_type": "code",
   "execution_count": null,
   "id": "7ed2ae36",
   "metadata": {},
   "outputs": [],
   "source": []
  },
  {
   "cell_type": "code",
   "execution_count": null,
   "id": "25eaa76a",
   "metadata": {},
   "outputs": [],
   "source": []
  },
  {
   "cell_type": "code",
   "execution_count": null,
   "id": "f8a3876d",
   "metadata": {},
   "outputs": [],
   "source": []
  },
  {
   "cell_type": "code",
   "execution_count": null,
   "id": "ccb2106b",
   "metadata": {},
   "outputs": [],
   "source": []
  }
 ],
 "metadata": {
  "kernelspec": {
   "display_name": "Python 3 (ipykernel)",
   "language": "python",
   "name": "python3"
  },
  "language_info": {
   "codemirror_mode": {
    "name": "ipython",
    "version": 3
   },
   "file_extension": ".py",
   "mimetype": "text/x-python",
   "name": "python",
   "nbconvert_exporter": "python",
   "pygments_lexer": "ipython3",
   "version": "3.10.9"
  },
  "toc": {
   "base_numbering": 1,
   "nav_menu": {},
   "number_sections": true,
   "sideBar": true,
   "skip_h1_title": false,
   "title_cell": "Table of Contents",
   "title_sidebar": "Contents",
   "toc_cell": false,
   "toc_position": {
    "height": "calc(100% - 180px)",
    "left": "10px",
    "top": "150px",
    "width": "297.391px"
   },
   "toc_section_display": true,
   "toc_window_display": true
  },
  "varInspector": {
   "cols": {
    "lenName": 16,
    "lenType": 16,
    "lenVar": 40
   },
   "kernels_config": {
    "python": {
     "delete_cmd_postfix": "",
     "delete_cmd_prefix": "del ",
     "library": "var_list.py",
     "varRefreshCmd": "print(var_dic_list())"
    },
    "r": {
     "delete_cmd_postfix": ") ",
     "delete_cmd_prefix": "rm(",
     "library": "var_list.r",
     "varRefreshCmd": "cat(var_dic_list()) "
    }
   },
   "types_to_exclude": [
    "module",
    "function",
    "builtin_function_or_method",
    "instance",
    "_Feature"
   ],
   "window_display": false
  }
 },
 "nbformat": 4,
 "nbformat_minor": 5
}
